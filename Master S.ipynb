{
  "nbformat": 4,
  "nbformat_minor": 0,
  "metadata": {
    "colab": {
      "name": "Welcome To Colaboratory",
      "provenance": [],
      "collapsed_sections": [],
      "include_colab_link": true
    },
    "kernelspec": {
      "display_name": "Python 3",
      "name": "python3"
    }
  },
  "cells": [
    {
      "cell_type": "markdown",
      "metadata": {
        "id": "view-in-github",
        "colab_type": "text"
      },
      "source": [
        "<a href=\"https://colab.research.google.com/github/satishchaudhary382/algorithmic-trading-with-python/blob/master/Master%20S.ipynb\" target=\"_parent\"><img src=\"https://colab.research.google.com/assets/colab-badge.svg\" alt=\"Open In Colab\"/></a>"
      ]
    },
    {
      "cell_type": "code",
      "metadata": {
        "colab": {
          "base_uri": "https://localhost:8080/"
        },
        "id": "wu4yPzUZuU3h",
        "outputId": "4ca93ef8-5fd4-4daf-b777-598f7fd58663"
      },
      "source": [
        "!pip install pandas_ta"
      ],
      "execution_count": 157,
      "outputs": [
        {
          "output_type": "stream",
          "text": [
            "Requirement already satisfied: pandas_ta in /usr/local/lib/python3.7/dist-packages (0.2.45b0)\n",
            "Requirement already satisfied: pandas in /usr/local/lib/python3.7/dist-packages (from pandas_ta) (1.1.5)\n",
            "Requirement already satisfied: python-dateutil>=2.7.3 in /usr/local/lib/python3.7/dist-packages (from pandas->pandas_ta) (2.8.1)\n",
            "Requirement already satisfied: numpy>=1.15.4 in /usr/local/lib/python3.7/dist-packages (from pandas->pandas_ta) (1.19.5)\n",
            "Requirement already satisfied: pytz>=2017.2 in /usr/local/lib/python3.7/dist-packages (from pandas->pandas_ta) (2018.9)\n",
            "Requirement already satisfied: six>=1.5 in /usr/local/lib/python3.7/dist-packages (from python-dateutil>=2.7.3->pandas->pandas_ta) (1.15.0)\n"
          ],
          "name": "stdout"
        }
      ]
    },
    {
      "cell_type": "code",
      "metadata": {
        "id": "TMiRLdjSuU6H"
      },
      "source": [
        "import pandas_datareader as pdr\n",
        "import pandas_ta as ta\n",
        "\n",
        "df = pdr.get_data_yahoo(\"ebay\",\"1-1-2020\")\n",
        "\n"
      ],
      "execution_count": 2,
      "outputs": []
    },
    {
      "cell_type": "code",
      "metadata": {
        "id": "3vkJC5GHuU-k"
      },
      "source": [
        "#@title TRIMA band\n",
        "def trima(df):\n",
        "  df['trima'] = ta.trima(df['Close'],21)\n",
        "  df['range'] = ta.atr(df.High, df.Low, df.Close, 14) * 4\n",
        "  df['H'] = ta.wma((df['trima'] + df['range']),21)\n",
        "  df['L'] = ta.wma((df['trima'] - df['range']),21)\n",
        "  df['SD_UP'] = df['H'].rolling(20).std()\n",
        "  # df['SD_DOWN'] = ((df['trima'] - df['range'])).rolling(20).std()\n",
        "  df['HH'] = ta.wma((df['trima'] + df['range']),21)+(ta.atr(df.High, df.Low, df.Close,21))*1\n",
        "  df['LL'] = ta.wma((df['trima'] - df['range']),21)-(ta.atr(df.High, df.Low, df.Close,21))*1\n",
        "  return df[['HH','H','LL','L']]"
      ],
      "execution_count": 224,
      "outputs": []
    },
    {
      "cell_type": "code",
      "metadata": {
        "cellView": "form",
        "id": "nVscpmHJuoCi"
      },
      "source": [
        "#@title\n",
        "import pandas as pd\n",
        "import matplotlib.pyplot as plt\n",
        "\n",
        "df = pdr.get_data_yahoo(\"NVDA\", \"9-1-2020\")\n",
        "aLength = 2\n",
        "yLength = 5\n",
        "zLength = 25\n",
        "obLevel = 70\n",
        "osLevel = 30\n",
        "df['hc'] = df['Close'].rolling(aLength).max()\n",
        "df['lc'] = df['Close'].rolling(aLength).min()\n",
        "df['top'] = ta.ema(ta.ema((df['Close']-df['lc']), yLength),zLength)\n",
        "df['bot'] = ta.ema(ta.ema((df['hc'] - df['Close']), yLength),zLength)\n",
        "df['rs'] = df.apply(lambda x: x['top']/x['bot'] if x['bot']!=0 else 0, axis = 1)\n",
        "df['rsi'] = df.apply(lambda x: 100 if x['bot']==0 else 0 if x['top']==0 else 100-(100/(1+x['rs'])),axis =1)\n",
        "df['rsi_ema'] = ta.ema(df['rsi'], 21)\n"
      ],
      "execution_count": 39,
      "outputs": []
    },
    {
      "cell_type": "code",
      "metadata": {
        "id": "Ww8am0ps14qI"
      },
      "source": [
        ""
      ],
      "execution_count": null,
      "outputs": []
    },
    {
      "cell_type": "code",
      "metadata": {
        "cellView": "form",
        "id": "sXbrlE_ivonI"
      },
      "source": [
        "#@title\n",
        "# df[['rsi_ema','rsi']].plot(figsize = (20,10))\n",
        "fig, (ax1,ax2) = plt.subplots(nrows=2, sharex=True, subplot_kw=dict(frameon=False), figsize = (20,10)) # frameon=False removes frames\n",
        "\n",
        "plt.subplots_adjust(hspace=.05)\n",
        "ax1.grid()\n",
        "ax2.grid()\n",
        "\n",
        "ax1.plot(df['Close'], color='r')\n",
        "ax2.plot(df['rsi'], color = 'b')\n",
        "ax2.plot(df['rsi_ema'], color = 'g')\n",
        "# ax2.plot(x, y, color='b', linestyle='--')"
      ],
      "execution_count": null,
      "outputs": []
    },
    {
      "cell_type": "code",
      "metadata": {
        "cellView": "form",
        "id": "EGTIRQCPLZ1f"
      },
      "source": [
        "#@title SHA\n",
        "\n",
        "def SHA(df, length):\n",
        "  import warnings\n",
        "  warnings.filterwarnings(\"ignore\")\n",
        "  \n",
        "  import matplotlib.pyplot as plt\n",
        "  from bokeh.plotting import figure, output_file, show\n",
        "  import bokeh\n",
        "  from math import pi\n",
        "  from bokeh.io import output_notebook\n",
        "  from bokeh.models import Label\n",
        "  from datetime import datetime as dt\n",
        "  # Call once to configure Bokeh to display plots inline in the notebook.\n",
        "  output_notebook()\n",
        "  %matplotlib inline\n",
        "  from math import pi\n",
        "  from bokeh.models import Span\n",
        "  w_l = length\n",
        "  df['O'],df['H'],df['L'],df['C']= ta.ema(df['Open'], w_l),ta.ema(df['High'], w_l),ta.ema(df['Low'], w_l),ta.ema(df['Close'], w_l)\n",
        "  df = df.dropna()\n",
        "  df['C_1'] = (df['O']+df['H']+df['L']+df['O'])/4\n",
        "  O,C = [df['O'][0]],[df['C'][0]]\n",
        "  o,c = df['O'].shift(-1),df['C'].shift(-1)\n",
        "  t= (o+c)/2\n",
        "  r = t.shift(1)\n",
        "  r[np.isnan(r)]=df['O'][0]\n",
        "  df['O_1'] = t\n",
        "  df['H_1'] = df[['H','O_1']].max(axis=1)\n",
        "  df['L_1'] = df[['L','O_1']].min(axis=1)\n",
        "  df['O_2'] = ta.ema(df['O_1'],w_l)\n",
        "  df['L_2'] = ta.ema(df['L_1'],w_l)\n",
        "  df['H_2'] = ta.ema(df['H_1'],w_l)\n",
        "  df['C_2'] = ta.ema(df['C_1'],w_l)\n",
        "  df['C_2'][-1] = df.C_1[-1]\n",
        "  df = df.dropna()\n",
        "# df = df[['O_2','H_2','L_2','C_2','Volume']]\n",
        "  df = df.reset_index()\n",
        "  return df[['Date','Open','High','Low','Close','O_2','H_2','L_2','C_2']]"
      ],
      "execution_count": 225,
      "outputs": []
    },
    {
      "cell_type": "code",
      "metadata": {
        "cellView": "form",
        "id": "dIhqEElLgEPC"
      },
      "source": [
        "#@title Consolidation\n",
        "def is_consolidating(df, percentage = 2.5):\n",
        "  recent_candlestick = df[-14:]\n",
        "  # print(recent_candlestick)\n",
        "\n",
        "  max_close = recent_candlestick['Close'].max()\n",
        "  min_close = recent_candlestick['Close'].min()\n",
        "\n",
        "  threshold = 1- (percentage/100)\n",
        "  if min_close > (max_close*threshold):\n",
        "    return True\n",
        "  return False\n",
        "  # print(f\"The max close is {max_close} and min close is {min_close}\")\n",
        "\n",
        "def is_breaking_out(df, percentage = 2.5):\n",
        "  last_close = df[-1:]['Close'].values[0]\n",
        "  \n",
        "  if is_consolidating(df[:-1], percentage = percentage):\n",
        "    recent_closes = df[-22:-1]\n",
        "    if last_close > recent_closes['Close'].max():\n",
        "      return True\n",
        "  return False"
      ],
      "execution_count": 161,
      "outputs": []
    },
    {
      "cell_type": "code",
      "metadata": {
        "cellView": "form",
        "id": "V140iTGdm1Pv"
      },
      "source": [
        "#@title Initial design do not run this\n",
        "import plotly.graph_objects as go\n",
        "from plotly.subplots import make_subplots\n",
        "import pandas_datareader as pdr\n",
        "import pandas as pd\n",
        "import numpy as np\n",
        "import pandas_ta as ta\n",
        "stock = 'nvda'\n",
        "df = pdr.get_data_yahoo(f'{stock}',\"12-1-2020\")\n",
        "t = SHA(df,3)\n",
        "dfs = trima(df)\n",
        "m = SHA(df,5)\n",
        "candlestick = go.Candlestick(x=t['Date'],open=t['O_2'],high=t['C_2'],low=t['O_2'],close=t['C_2'], name = 'Trend Filter1')\n",
        "candlestick1 = go.Candlestick(x=t['Date'],open=t['Open'],high=t['High'],low=t['Low'],close=t['Close'], name = 'Candlestick')\n",
        "candlestick3 = go.Candlestick(x=m['Date'],open=m['O_2'],high=m['C_2'],low=m['O_2'],close=m['C_2'], name = 'Trend Filter2')\n",
        "fig = go.Figure(data=[candlestick, candlestick1, candlestick3])\n",
        "cs = fig.data[1]\n",
        "cs1 = fig.data[0]\n",
        "cs2 = fig.data[2]\n",
        "\n",
        "fig.update_layout({'plot_bgcolor': 'rgba(0, 0, 0, 0)','paper_bgcolor': 'rgba(0, 0, 0, 0)'})\n",
        "cs.increasing.fillcolor = '#FFFFFF';cs.increasing.line.color = '#000000';cs.decreasing.fillcolor = '#000000';cs.decreasing.line.color = '#000000'\n",
        "cs.decreasing.line.width = 1;cs.increasing.line.width = 1\n",
        "cs1.increasing.fillcolor = '#FF0000';cs1.increasing.line.color = '#FF0000';cs1.decreasing.fillcolor = '#0D600D';cs1.decreasing.line.color = '#0D600D'\n",
        "cs1.decreasing.line.width = 1;cs1.increasing.line.width = 1\n",
        "cs2.increasing.fillcolor = '#FF0000';cs2.increasing.line.color = '#FF0000';cs2.decreasing.fillcolor = '#0D600D';cs2.decreasing.line.color = '#0D600D'\n",
        "cs2.decreasing.line.width = 1;cs2.increasing.line.width = 1\n",
        "\n",
        "fig.add_traces(go.Scatter(x=dfs.index, y=dfs.HH,fill=None, mode='lines',line_color='green',line=dict(color='green',width=1),opacity=0.3, name = \"Upper Resistance 1\"))\n",
        "fig.add_traces(go.Scatter(x=dfs.index, y=dfs.H,fill='tonexty',mode='lines', line_color='green',line=dict(color='green',width=1),opacity=0.3,name = \"Upper Resistance 2\"))   \n",
        "fig.add_traces(go.Scatter(x=dfs.index, y=dfs.LL,fill=None, mode='lines',line_color='red',line=dict(color='red',width=1), name = \"Lower Support 1\"))\n",
        "fig.add_traces(go.Scatter(x=dfs.index, y=dfs.L,fill='tonexty',mode='lines', line_color='red',line=dict(color='red',width=1), name = \"Lower Support 2\"))   \n",
        "\n",
        "for line in b:\n",
        "  fig.add_traces(go.Scatter(x = dfs.index, y = pd.Series(np.array([line for _ in range(len(dfs))])), mode = 'lines', line = dict(color = \"black\", width = 2),opacity=0.4, name = \"VP S/R\"))\n",
        "\n",
        "fig.update_layout(title = f'{stock}', xaxis_title=\"Date\", yaxis_title ='Price',xaxis_rangeslider_visible=False,showlegend = True, height=600)\n",
        "fig.update_xaxes(showgrid=False,gridwidth=1, gridcolor='gray')\n",
        "fig.update_yaxes(showgrid=False, gridwidth=1, gridcolor='gray')\n",
        "fig.show()\n"
      ],
      "execution_count": null,
      "outputs": []
    },
    {
      "cell_type": "code",
      "metadata": {
        "colab": {
          "base_uri": "https://localhost:8080/"
        },
        "id": "tF_2s1trua0C",
        "outputId": "f8a0e387-b0ed-478f-e16d-e75d45919fc4"
      },
      "source": [
        "!pip install finta\n",
        "!pip install MarketProfile"
      ],
      "execution_count": 162,
      "outputs": [
        {
          "output_type": "stream",
          "text": [
            "Requirement already satisfied: finta in /usr/local/lib/python3.7/dist-packages (1.3)\n",
            "Requirement already satisfied: pandas in /usr/local/lib/python3.7/dist-packages (from finta) (1.1.5)\n",
            "Requirement already satisfied: numpy in /usr/local/lib/python3.7/dist-packages (from finta) (1.19.5)\n",
            "Requirement already satisfied: pytz>=2017.2 in /usr/local/lib/python3.7/dist-packages (from pandas->finta) (2018.9)\n",
            "Requirement already satisfied: python-dateutil>=2.7.3 in /usr/local/lib/python3.7/dist-packages (from pandas->finta) (2.8.1)\n",
            "Requirement already satisfied: six>=1.5 in /usr/local/lib/python3.7/dist-packages (from python-dateutil>=2.7.3->pandas->finta) (1.15.0)\n",
            "Requirement already satisfied: MarketProfile in /usr/local/lib/python3.7/dist-packages (0.2.0)\n",
            "Requirement already satisfied: pandas>=0.20.3 in /usr/local/lib/python3.7/dist-packages (from MarketProfile) (1.1.5)\n",
            "Requirement already satisfied: numpy>=1.13.0 in /usr/local/lib/python3.7/dist-packages (from MarketProfile) (1.19.5)\n",
            "Requirement already satisfied: scipy>=0.11.0 in /usr/local/lib/python3.7/dist-packages (from MarketProfile) (1.4.1)\n",
            "Requirement already satisfied: python-dateutil>=2.7.3 in /usr/local/lib/python3.7/dist-packages (from pandas>=0.20.3->MarketProfile) (2.8.1)\n",
            "Requirement already satisfied: pytz>=2017.2 in /usr/local/lib/python3.7/dist-packages (from pandas>=0.20.3->MarketProfile) (2018.9)\n",
            "Requirement already satisfied: six>=1.5 in /usr/local/lib/python3.7/dist-packages (from python-dateutil>=2.7.3->pandas>=0.20.3->MarketProfile) (1.15.0)\n"
          ],
          "name": "stdout"
        }
      ]
    },
    {
      "cell_type": "code",
      "metadata": {
        "id": "nzWSD0LR0NAe"
      },
      "source": [
        "stock = 'CAT'"
      ],
      "execution_count": 266,
      "outputs": []
    },
    {
      "cell_type": "code",
      "metadata": {
        "cellView": "form",
        "id": "6cBETkLlot8x"
      },
      "source": [
        "#@title MArket Profile\n",
        "from market_profile import MarketProfile\n",
        "\n",
        "df = pdr.get_data_yahoo(f'{stock}',\"12-1-2020\")\n",
        "\n",
        "class Analysis:\n",
        "  \n",
        "  def __init__(self, dataframe):\n",
        "    self.dataframe = dataframe\n",
        "    self.profile = []\n",
        "    self.levels = []\n",
        "    self.level = []\n",
        "\n",
        "  # Diagram for candle stick \n",
        "  def candlestick(self):\n",
        "    return self.dataframe\n",
        "\n",
        "  # Calculation of Market Profile\n",
        "  def market_profile(self):\n",
        "    for i in range(1,len(self.dataframe),20):\n",
        "      try:\n",
        "        mp = MarketProfile(self.dataframe)\n",
        "        mp_slice = mp[self.dataframe.index[0+i]: self.dataframe.index[20+i]]\n",
        "        self.profile.append(mp_slice.poc_price)\n",
        "      except:\n",
        "        pass\n",
        "    return self.profile\n",
        "\n",
        "\n",
        "a = Analysis(df)\n",
        "\n",
        "\n",
        "b = a.market_profile()"
      ],
      "execution_count": 267,
      "outputs": []
    },
    {
      "cell_type": "code",
      "metadata": {
        "colab": {
          "base_uri": "https://localhost:8080/",
          "height": 1000
        },
        "id": "Y2fXMLBCpyUf",
        "outputId": "6f0fa38c-0a91-4830-cf8a-ae1fa9799ce5"
      },
      "source": [
        "import pandas as pd\n",
        "import plotly.graph_objects as go\n",
        "from plotly.subplots import make_subplots\n",
        "from finta import TA\n",
        "import numpy as np\n",
        "#Load data\n",
        "df = pdr.get_data_yahoo(f'{stock}',\"12-1-2020\")\n",
        "v = df.copy() # for volatility\n",
        "o = df.copy() # for OB/OS\n",
        "efi = df.copy() # for EFI\n",
        "t = SHA(df,3)\n",
        "dfs = trima(df)\n",
        "m = SHA(df,5)\n",
        "\n",
        "# Volitility \n",
        "\n",
        "v['macd'] = TA.MACD(v,9,19,6)['MACD']\n",
        "v['signal'] = TA.MACD(v,9,19,6)['SIGNAL']\n",
        "# v['squeeze'] = ta.squeeze(v.High,v.Low, v.Close, 20,1.6,20,1, lazybear = True)['SQZ_ON']\n",
        "v['s'] = TA.SQZMI(v)\n",
        "v['squeeze'] = v.apply(lambda x: 1 if x['s'] == True else 0, axis = 1)\n",
        "v['stc'] = (TA.STC(v,23,50,3,3))*(v['Close'].max()/100)\n",
        "mid = (v['Close'].max()*.5)\n",
        "upp = (v['Close'].max()*.75)\n",
        "low = (v['Close'].max()*.25)\n",
        "\n",
        "# OB/OS\n",
        "o['WT1'] = TA.WTO(df)['WT1.'] \n",
        "o['WT2'] = TA.WTO(df)['WT2.']\n",
        "\n",
        "# Mass Index  : Used to indentify trend exhaustion and plotted on same graph of OB/OS\n",
        "# mass['MI'] = TA.MI(df)\n",
        "# EFI\n",
        "efi['EFI'] = TA.EFI(efi)\n",
        "efi['color'] = np.where(efi['EFI']<0, 'red', 'green')\n",
        "\n",
        "# Create subplots and mention plot grid size\n",
        "fig = make_subplots(rows=4, cols=1, shared_xaxes=True, \n",
        "               vertical_spacing=0.05, \n",
        "               row_width=[0.2, 0.2,0.2,0.7]) # subplot_titles=(f'{stock}') if want to add title\n",
        "\n",
        "# Candle stick chart\n",
        "fig.add_trace(go.Candlestick(x=t['Date'],open=t['Open'],high=t['High'],low=t['Low'],close=t['Close'], \n",
        "                             name = 'Candlestick',increasing_line_color= '#000000', decreasing_line_color= '#000000',\n",
        "                             decreasing_fillcolor = \"#FFFFFF\", increasing_fillcolor = \"#000000\", \n",
        "                             increasing_line_width=1,decreasing_line_width=1), row=1, col=1)\n",
        "\n",
        "#Heikin ashi chart 1\n",
        "fig.add_trace(go.Candlestick(x=t['Date'],open=t['O_2'],high=t['C_2'],low=t['O_2'],close=t['C_2'], \n",
        "                             name = 'Trend Filter1',increasing_line_color= '#FF0000', decreasing_line_color= '#0D600D',\n",
        "                             decreasing_fillcolor = \"#0D600D\", increasing_fillcolor = \"#FF0000\", \n",
        "                             increasing_line_width=1,decreasing_line_width=1), row=1,col=1)\n",
        "\n",
        "#Heikin ashi chart 2\n",
        "fig.add_trace(go.Candlestick(x=m['Date'],open=m['O_2'],high=m['C_2'],low=m['O_2'],close=m['C_2'], \n",
        "                             name = 'Trend Filter2',increasing_line_color= '#FF0000', decreasing_line_color= '#0D600D',\n",
        "                             decreasing_fillcolor = \"#0D600D\", increasing_fillcolor = \"#FF0000\", \n",
        "                             increasing_line_width=1,decreasing_line_width=1), row=1,col=1)\n",
        "\n",
        "# SR Volume Profile\n",
        "for line in b:\n",
        "  fig.add_trace(go.Scatter(x = dfs.index, y = pd.Series(np.array([line for _ in range(len(dfs))])), mode = 'lines', line = dict(color = \"red\", width = 1), name = \"VP S/R\"))\n",
        "\n",
        "# Upper and Lower Resistance\n",
        "fig.add_trace(go.Scatter(x=dfs.index, y=dfs.HH,fill=None, mode='lines',line_color='green',line=dict(color='green',width=1),opacity=0.3, name = \"Upper Resistance 1\"),row=1,col=1)\n",
        "fig.add_trace(go.Scatter(x=dfs.index, y=dfs.H,fill='tonexty',mode='lines', line_color='green',line=dict(color='green',width=1),opacity=0.3,name = \"Upper Resistance 2\"),row=1,col=1)   \n",
        "fig.add_trace(go.Scatter(x=dfs.index, y=dfs.LL,fill=None, mode='lines',line_color='red',line=dict(color='red',width=1), name = \"Lower Support 1\"),row=1,col=1)\n",
        "fig.add_trace(go.Scatter(x=dfs.index, y=dfs.L,fill='tonexty',mode='lines', line_color='red',line=dict(color='red',width=1), name = \"Lower Support 2\"),row=1,col=1)\n",
        "\n",
        "# Squeeze and STC\n",
        "fig.add_trace(go.Scatter(x=v.index, y=v.Close,mode='markers',marker_color=v['squeeze'], marker_size = 6, name = 'Volatility & Momentum'), row=2, col=1)\n",
        "fig.add_trace(go.Scatter(x=v.index, y=v['stc'] ,fill='tozeroy', line_color='black',line=dict(color='black',width=1), opacity = 0.4, name = 'Momentum'), row=2, col=1)\n",
        "fig.add_trace(go.Scatter(x = v.index, y = pd.Series(np.array([mid for _ in range(len(v))])),mode = 'lines',line = dict(color= 'black', width = 1), name = 'Midline'), row = 2, col=1)\n",
        "fig.add_trace(go.Scatter(x = v.index, y = pd.Series(np.array([upp for _ in range(len(v))])),mode = 'lines',line = dict(color= 'red', width = 1,dash='dot'), name = 'Upper-line'), row = 2, col=1)\n",
        "fig.add_trace(go.Scatter(x = v.index, y = pd.Series(np.array([low for _ in range(len(v))])),mode = 'lines',line = dict(color= 'green', width = 1,dash='dot'), name = 'Lower-line'), row = 2, col=1)\n",
        "\n",
        "#Over Bought and Over Sold along with Mass Index\n",
        "fig.add_trace(go.Scatter(x = o.index, y = o['WT1'],fill =None, mode = 'lines',line_color='green',line=dict(color='green',width=1),name='WT1'), row = 3, col = 1)\n",
        "fig.add_trace(go.Scatter(x = o.index, y = o['WT2'], mode = 'lines',line_color='red',line=dict(color='red',width=1),name='WT2'), row = 3, col = 1)\n",
        "fig.add_trace(go.Scatter(x = o.index, y = pd.Series(np.array([0 for _ in range(len(o))])), mode = 'lines', line = dict(color = 'black', width =1, dash = 'dot'), name = 'Zero Line'), row = 3,col = 1)\n",
        "\n",
        "fig.add_trace(go.Bar(name='Bull and Bear',x=efi.index,y=efi.EFI,marker_color=efi['color']), row= 4, col = 1)\n",
        "\n",
        "\n",
        "\n",
        "fig.update_layout(title = \"Candlestick\", yaxis_title ='Price',xaxis_rangeslider_visible=False,showlegend = False,barmode='stack', height=1000) #xaxis_title=\"Date\"\n",
        "fig.update_xaxes(showgrid=True,gridwidth=1, gridcolor='gray')\n",
        "fig.update_yaxes(showgrid=False, gridwidth=1, gridcolor='gray')\n",
        "fig.update_layout({'plot_bgcolor': 'rgba(0, 0, 0, 0)','paper_bgcolor': 'rgba(0, 0, 0, 0)'})\n",
        "\n",
        "fig.show()"
      ],
      "execution_count": 268,
      "outputs": [
        {
          "output_type": "display_data",
          "data": {
            "text/html": [
              "<html>\n",
              "<head><meta charset=\"utf-8\" /></head>\n",
              "<body>\n",
              "    <div>\n",
              "            <script src=\"https://cdnjs.cloudflare.com/ajax/libs/mathjax/2.7.5/MathJax.js?config=TeX-AMS-MML_SVG\"></script><script type=\"text/javascript\">if (window.MathJax) {MathJax.Hub.Config({SVG: {font: \"STIX-Web\"}});}</script>\n",
              "                <script type=\"text/javascript\">window.PlotlyConfig = {MathJaxConfig: 'local'};</script>\n",
              "        <script src=\"https://cdn.plot.ly/plotly-latest.min.js\"></script>    \n",
              "            <div id=\"7451f4b0-4213-46fa-9d98-d62c8b2713ef\" class=\"plotly-graph-div\" style=\"height:1000px; width:100%;\"></div>\n",
              "            <script type=\"text/javascript\">\n",
              "                \n",
              "                    window.PLOTLYENV=window.PLOTLYENV || {};\n",
              "                    \n",
              "                if (document.getElementById(\"7451f4b0-4213-46fa-9d98-d62c8b2713ef\")) {\n",
              "                    Plotly.newPlot(\n",
              "                        '7451f4b0-4213-46fa-9d98-d62c8b2713ef',\n",
              "                        [{\"close\": [178.7100067138672, 178.83999633789062, 180.07000732421875, 178.85000610351562, 179.2899932861328, 178.0500030517578, 181.74000549316406, 179.5, 179.1699981689453, 180.9600067138672, 180.16000366210938, 176.5800018310547, 178.4199981689453, 179.55999755859375, 178.3699951171875, 176.64999389648438, 180.0399932861328, 182.02000427246094, 182.14999389648438, 183.63999938964844, 193.86000061035156, 194.22999572753906, 194.25999450683594, 193.86000061035156, 197.5399932861328, 195.88999938964844, 197.39999389648438, 194.6199951171875, 194.05999755859375, 192.33999633789062, 192.19000244140625, 191.94000244140625, 187.33999633789062, 187.2100067138672, 180.6300048828125, 184.33999633789062, 182.83999633789062, 184.72000122070312, 192.5, 191.4499969482422, 191.64999389648438, 193.0, 197.4499969482422, 197.27999877929688, 197.72000122070312, 198.35000610351562, 197.99000549316406, 202.3800048828125, 202.3000030517578, 199.9199981689453, 209.91000366210938, 218.05999755859375, 220.17999267578125, 222.47000122070312, 221.82000732421875, 215.8800048828125, 219.75999450683594, 215.82000732421875, 214.91000366210938, 212.77000427246094, 220.16000366210938, 221.5800018310547, 216.8000030517578, 221.05999755859375, 219.75999450683594, 229.0, 230.74000549316406, 226.4600067138672, 233.6300048828125, 230.67999267578125, 225.2899932861328, 226.02000427246094, 218.25, 221.22999572753906, 224.25, 229.5, 230.22000122070312, 233.0800018310547, 231.8699951171875, 232.74000549316406, 233.7100067138672, 230.63999938964844, 230.41000366210938, 230.47999572753906, 230.75, 230.92999267578125, 229.35000610351562, 232.5800018310547, 232.52000427246094, 233.36000061035156, 232.38999938964844, 227.6300048828125, 232.4600067138672, 228.88999938964844, 230.11000061035156, 230.55999755859375, 230.33999633789062, 232.3000030517578, 227.47000122070312, 228.11000061035156, 228.1699981689453, 233.41000366210938, 237.8800048828125, 237.07000732421875, 240.99000549316406, 242.61000061035156, 239.3000030517578, 237.32000732421875], \"decreasing\": {\"fillcolor\": \"#FFFFFF\", \"line\": {\"color\": \"#000000\", \"width\": 1}}, \"high\": [180.38999938964844, 180.74000549316406, 180.47999572753906, 179.52999877929688, 179.77999877929688, 183.3300018310547, 182.75999450683594, 181.27000427246094, 180.72999572753906, 181.3000030517578, 180.88999938964844, 180.16000366210938, 179.2899932861328, 179.85000610351562, 181.1199951171875, 179.3800048828125, 182.22999572753906, 182.10000610351562, 185.97999572753906, 185.8000030517578, 197.27999877929688, 197.3699951171875, 195.25999450683594, 195.4600067138672, 198.0, 200.1699981689453, 197.91000366210938, 195.7100067138672, 196.11000061035156, 193.89999389648438, 193.72000122070312, 192.82000732421875, 191.3699951171875, 189.41000366210938, 185.5500030517578, 187.61000061035156, 188.82000732421875, 186.8000030517578, 192.77999877929688, 191.52999877929688, 192.61000061035156, 194.3300018310547, 197.5399932861328, 198.66000366210938, 199.7100067138672, 198.4199981689453, 198.75999450683594, 205.17999267578125, 202.89999389648438, 202.8800048828125, 211.4600067138672, 218.8699951171875, 220.74000549316406, 226.6699981689453, 224.39999389648438, 222.39999389648438, 222.5800018310547, 219.33999633789062, 217.5500030517578, 216.6699981689453, 220.77999877929688, 224.3000030517578, 222.3300018310547, 222.0500030517578, 223.60000610351562, 229.02000427246094, 231.8000030517578, 231.2100067138672, 234.3000030517578, 237.77999877929688, 229.64999389648438, 227.17999267578125, 225.24000549316406, 227.11000061035156, 224.97000122070312, 229.83999633789062, 231.85000610351562, 234.72000122070312, 237.00999450683594, 235.0, 235.66000366210938, 236.67999267578125, 234.19000244140625, 231.0500030517578, 232.1999969482422, 231.3000030517578, 233.5, 234.22000122070312, 233.44000244140625, 235.94000244140625, 233.10000610351562, 231.3000030517578, 232.61000061035156, 233.42999267578125, 231.64999389648438, 232.85000610351562, 230.86000061035156, 233.72000122070312, 235.1999969482422, 228.38999938964844, 230.92999267578125, 234.0, 239.3300018310547, 240.97999572753906, 241.88999938964844, 245.77999877929688, 242.99000549316406, 243.22999572753906], \"increasing\": {\"fillcolor\": \"#000000\", \"line\": {\"color\": \"#000000\", \"width\": 1}}, \"low\": [176.55999755859375, 177.5, 177.0, 177.13999938964844, 176.22999572753906, 177.77999877929688, 179.02000427246094, 178.36000061035156, 178.5800018310547, 177.47000122070312, 176.32000732421875, 176.47999572753906, 177.00999450683594, 178.35000610351562, 178.30999755859375, 175.11000061035156, 178.69000244140625, 178.75, 180.25, 181.2100067138672, 186.14999389648438, 192.1999969482422, 191.32000732421875, 190.30999755859375, 193.30999755859375, 195.8000030517578, 195.36000061035156, 190.8800048828125, 193.44000244140625, 190.4199981689453, 190.0500030517578, 189.30999755859375, 186.97000122070312, 186.8300018310547, 179.33999633789062, 181.30999755859375, 180.72999572753906, 182.02000427246094, 185.63999938964844, 189.05999755859375, 190.1999969482422, 190.00999450683594, 194.6699981689453, 194.88999938964844, 196.25999450683594, 194.38999938964844, 196.75999450683594, 199.24000549316406, 199.7899932861328, 198.5800018310547, 202.6999969482422, 209.33999633789062, 213.27999877929688, 219.8800048828125, 219.72000122070312, 215.82000732421875, 218.89999389648438, 215.00999450683594, 212.00999450683594, 208.47000122070312, 211.5, 218.2100067138672, 216.13999938964844, 217.19000244140625, 219.14999389648438, 218.1199951171875, 225.8300018310547, 224.77000427246094, 227.1300048828125, 229.74000549316406, 224.0500030517578, 223.57000732421875, 216.64999389648438, 220.50999450683594, 216.0399932861328, 225.2100067138672, 227.7100067138672, 231.13999938964844, 228.85000610351562, 227.58999633789062, 232.3699951171875, 230.22999572753906, 229.35000610351562, 227.1699981689453, 227.5399932861328, 228.92999267578125, 228.0500030517578, 229.5500030517578, 230.74000549316406, 232.27000427246094, 229.91000366210938, 225.60000610351562, 226.02000427246094, 228.77000427246094, 227.8800048828125, 229.9600067138672, 228.0800018310547, 229.3800048828125, 223.1999969482422, 224.8800048828125, 227.2100067138672, 225.35000610351562, 234.6199951171875, 236.0, 233.16000366210938, 242.58999633789062, 236.5399932861328, 236.44000244140625], \"name\": \"Candlestick\", \"open\": [180.38999938964844, 177.66000366210938, 179.6199951171875, 179.24000549316406, 176.99000549316406, 180.60000610351562, 179.92999267578125, 180.85000610351562, 180.6699981689453, 180.07000732421875, 176.94000244140625, 179.2899932861328, 177.4499969482422, 179.4499969482422, 180.47999572753906, 179.1699981689453, 179.77000427246094, 180.25, 183.0, 181.2100067138672, 187.14999389648438, 196.85000610351562, 193.85000610351562, 191.55999755859375, 194.67999267578125, 198.7899932861328, 196.10000610351562, 195.66000366210938, 194.2899932861328, 192.66000366210938, 192.35000610351562, 190.85000610351562, 190.55999755859375, 187.60000610351562, 184.1999969482422, 182.25999450683594, 183.5, 185.9600067138672, 186.5, 190.91000366210938, 192.0, 192.52000427246094, 195.0, 197.5399932861328, 198.5, 197.58999633789062, 197.97999572753906, 199.75, 202.38999938964844, 201.5500030517578, 203.25, 209.6300048828125, 219.52999877929688, 220.41000366210938, 223.6199951171875, 220.75, 219.30999755859375, 218.69000244140625, 212.13999938964844, 214.47999572753906, 214.33999633789062, 220.97000122070312, 221.3800048828125, 217.72999572753906, 223.0, 219.0, 228.8699951171875, 227.72000122070312, 228.1300048828125, 234.0, 228.75, 226.6199951171875, 222.05999755859375, 220.50999450683594, 219.22999572753906, 226.35000610351562, 228.10000610351562, 231.1999969482422, 234.35000610351562, 231.3000030517578, 235.0, 232.5, 231.9600067138672, 230.1300048828125, 231.3000030517578, 230.3000030517578, 233.41000366210938, 229.60000610351562, 233.14999389648438, 234.6199951171875, 232.89999389648438, 230.89999389648438, 227.32000732421875, 233.25, 229.36000061035156, 230.57000732421875, 230.2899932861328, 230.0500030517578, 235.0, 225.52000427246094, 230.0, 227.0, 234.6199951171875, 238.0, 235.63999938964844, 243.5, 238.77999877929688, 241.27000427246094], \"type\": \"candlestick\", \"x\": [\"2020-12-07T00:00:00\", \"2020-12-08T00:00:00\", \"2020-12-09T00:00:00\", \"2020-12-10T00:00:00\", \"2020-12-11T00:00:00\", \"2020-12-14T00:00:00\", \"2020-12-15T00:00:00\", \"2020-12-16T00:00:00\", \"2020-12-17T00:00:00\", \"2020-12-18T00:00:00\", \"2020-12-21T00:00:00\", \"2020-12-22T00:00:00\", \"2020-12-23T00:00:00\", \"2020-12-24T00:00:00\", \"2020-12-28T00:00:00\", \"2020-12-29T00:00:00\", \"2020-12-30T00:00:00\", \"2020-12-31T00:00:00\", \"2021-01-04T00:00:00\", \"2021-01-05T00:00:00\", \"2021-01-06T00:00:00\", \"2021-01-07T00:00:00\", \"2021-01-08T00:00:00\", \"2021-01-11T00:00:00\", \"2021-01-12T00:00:00\", \"2021-01-13T00:00:00\", \"2021-01-14T00:00:00\", \"2021-01-15T00:00:00\", \"2021-01-19T00:00:00\", \"2021-01-20T00:00:00\", \"2021-01-21T00:00:00\", \"2021-01-22T00:00:00\", \"2021-01-25T00:00:00\", \"2021-01-26T00:00:00\", \"2021-01-27T00:00:00\", \"2021-01-28T00:00:00\", \"2021-01-29T00:00:00\", \"2021-02-01T00:00:00\", \"2021-02-02T00:00:00\", \"2021-02-03T00:00:00\", \"2021-02-04T00:00:00\", \"2021-02-05T00:00:00\", \"2021-02-08T00:00:00\", \"2021-02-09T00:00:00\", \"2021-02-10T00:00:00\", \"2021-02-11T00:00:00\", \"2021-02-12T00:00:00\", \"2021-02-16T00:00:00\", \"2021-02-17T00:00:00\", \"2021-02-18T00:00:00\", \"2021-02-19T00:00:00\", \"2021-02-22T00:00:00\", \"2021-02-23T00:00:00\", \"2021-02-24T00:00:00\", \"2021-02-25T00:00:00\", \"2021-02-26T00:00:00\", \"2021-03-01T00:00:00\", \"2021-03-02T00:00:00\", \"2021-03-03T00:00:00\", \"2021-03-04T00:00:00\", \"2021-03-05T00:00:00\", \"2021-03-08T00:00:00\", \"2021-03-09T00:00:00\", \"2021-03-10T00:00:00\", \"2021-03-11T00:00:00\", \"2021-03-12T00:00:00\", \"2021-03-15T00:00:00\", \"2021-03-16T00:00:00\", \"2021-03-17T00:00:00\", \"2021-03-18T00:00:00\", \"2021-03-19T00:00:00\", \"2021-03-22T00:00:00\", \"2021-03-23T00:00:00\", \"2021-03-24T00:00:00\", \"2021-03-25T00:00:00\", \"2021-03-26T00:00:00\", \"2021-03-29T00:00:00\", \"2021-03-30T00:00:00\", \"2021-03-31T00:00:00\", \"2021-04-01T00:00:00\", \"2021-04-05T00:00:00\", \"2021-04-06T00:00:00\", \"2021-04-07T00:00:00\", \"2021-04-08T00:00:00\", \"2021-04-09T00:00:00\", \"2021-04-12T00:00:00\", \"2021-04-13T00:00:00\", \"2021-04-14T00:00:00\", \"2021-04-15T00:00:00\", \"2021-04-16T00:00:00\", \"2021-04-19T00:00:00\", \"2021-04-20T00:00:00\", \"2021-04-21T00:00:00\", \"2021-04-22T00:00:00\", \"2021-04-23T00:00:00\", \"2021-04-26T00:00:00\", \"2021-04-27T00:00:00\", \"2021-04-28T00:00:00\", \"2021-04-29T00:00:00\", \"2021-04-30T00:00:00\", \"2021-05-03T00:00:00\", \"2021-05-04T00:00:00\", \"2021-05-05T00:00:00\", \"2021-05-06T00:00:00\", \"2021-05-07T00:00:00\", \"2021-05-10T00:00:00\", \"2021-05-11T00:00:00\", \"2021-05-12T00:00:00\"], \"xaxis\": \"x\", \"yaxis\": \"y\"}, {\"close\": [175.93805397881405, 176.99256907569043, 177.80305470360653, 178.25178800688855, 178.17539967430966, 178.75682847367398, 179.31547756327527, 179.70939651297203, 179.92115174068348, 179.92567879499666, 179.38851658461826, 179.10834600848875, 178.711215717925, 178.75287959727257, 179.09944967597002, 178.96310489109283, 179.216992891717, 179.56059205041356, 180.5207185604555, 181.2199469974371, 183.4478911366201, 187.09727965428965, 189.627807747515, 190.90911279579564, 192.29403479080165, 194.16363082891326, 195.18199816118113, 195.26046663650897, 195.09809144771515, 194.38547475044095, 193.6403279184804, 192.7833352989854, 191.8395027853077, 190.60867006682355, 188.47941895087993, 186.66725063308763, 185.58177108610252, 185.21120972482768, 185.77951683886113, 187.12733963653602, 188.60808527423285, 189.91250067027462, 191.6486038176588, 193.45985300159163, 195.10832712347087, 195.9927382627214, 196.68315526115055, 197.9299705810293, 199.2260558883613, 200.02856404419038, 201.51330030098188, 204.47303436622823, 208.66220940542368, 213.00457646236515, 216.54902319548188, 218.28037915618455, 219.1493727851095, 219.06240272903455, 217.64005930387535, 216.25570804941214, 215.65569268938566, 216.8698914399721, 218.0328439542712, 218.4841209035433, 219.5227849149755, 220.2230046509427, 222.55293311702303, 224.46093279352078, 226.17832562052723, 228.53309268917585, 228.93851109330916, 228.30461231066363, 226.4456091940136, 224.9094551245264, 223.26492694864262, 223.77193912118534, 225.19070894805054, 227.26397382443145, 229.37629738850524, 230.3846790849853, 231.66747966156504, 232.31568416552622, 232.36506562342595, 231.69114526868992, 231.2461286339516, 230.87521743122002, 231.08681092123066, 231.0536325933939, 231.43692959605744, 232.2641462569741, 232.45553870537185, 231.80825195039347, 230.77374349475363, 230.8654303164204, 230.562619442732, 230.59313858024066, 230.42248303291217, 230.47419915079146, 230.8935780110937, 229.79440402448228, 229.45475948356187, 229.09053385891104, 230.67621818693414, 232.96483445517757, 234.44140502288496, 237.16082110391477, 238.3685946193117, 239.2165147629497], \"decreasing\": {\"fillcolor\": \"#0D600D\", \"line\": {\"color\": \"#0D600D\", \"width\": 1}}, \"high\": [175.93805397881405, 176.99256907569043, 177.80305470360653, 178.25178800688855, 178.17539967430966, 178.75682847367398, 179.31547756327527, 179.70939651297203, 179.92115174068348, 179.92567879499666, 179.38851658461826, 179.10834600848875, 178.711215717925, 178.75287959727257, 179.09944967597002, 178.96310489109283, 179.216992891717, 179.56059205041356, 180.5207185604555, 181.2199469974371, 183.4478911366201, 187.09727965428965, 189.627807747515, 190.90911279579564, 192.29403479080165, 194.16363082891326, 195.18199816118113, 195.26046663650897, 195.09809144771515, 194.38547475044095, 193.6403279184804, 192.7833352989854, 191.8395027853077, 190.60867006682355, 188.47941895087993, 186.66725063308763, 185.58177108610252, 185.21120972482768, 185.77951683886113, 187.12733963653602, 188.60808527423285, 189.91250067027462, 191.6486038176588, 193.45985300159163, 195.10832712347087, 195.9927382627214, 196.68315526115055, 197.9299705810293, 199.2260558883613, 200.02856404419038, 201.51330030098188, 204.47303436622823, 208.66220940542368, 213.00457646236515, 216.54902319548188, 218.28037915618455, 219.1493727851095, 219.06240272903455, 217.64005930387535, 216.25570804941214, 215.65569268938566, 216.8698914399721, 218.0328439542712, 218.4841209035433, 219.5227849149755, 220.2230046509427, 222.55293311702303, 224.46093279352078, 226.17832562052723, 228.53309268917585, 228.93851109330916, 228.30461231066363, 226.4456091940136, 224.9094551245264, 223.26492694864262, 223.77193912118534, 225.19070894805054, 227.26397382443145, 229.37629738850524, 230.3846790849853, 231.66747966156504, 232.31568416552622, 232.36506562342595, 231.69114526868992, 231.2461286339516, 230.87521743122002, 231.08681092123066, 231.0536325933939, 231.43692959605744, 232.2641462569741, 232.45553870537185, 231.80825195039347, 230.77374349475363, 230.8654303164204, 230.562619442732, 230.59313858024066, 230.42248303291217, 230.47419915079146, 230.8935780110937, 229.79440402448228, 229.45475948356187, 229.09053385891104, 230.67621818693414, 232.96483445517757, 234.44140502288496, 237.16082110391477, 238.3685946193117, 239.2165147629497], \"increasing\": {\"fillcolor\": \"#FF0000\", \"line\": {\"color\": \"#FF0000\", \"width\": 1}}, \"low\": [177.58673678504098, 178.29248346222772, 178.65705071555243, 178.61892969740762, 178.78591816292868, 179.33993550969495, 179.68720673190222, 179.83222239671483, 180.0391724685, 179.71861763226076, 179.19257390478418, 178.74666888636744, 178.82477472352588, 178.99435635752485, 178.76566168482208, 178.9933222902651, 179.58565740311718, 180.48107606761147, 181.1909124797716, 183.69689277622325, 187.28416488516217, 189.87369176740032, 191.23015031722792, 192.78922562061712, 194.31668712578278, 195.3068807206285, 195.5127087865949, 195.2297374620286, 194.47656026537987, 193.73662696798795, 192.96623796975823, 191.7695804648218, 190.3792725745551, 188.04062768723148, 186.27080839918352, 185.053151019612, 184.8204499116374, 185.93216215673442, 187.522049755119, 188.99525845299593, 190.3047465482738, 192.1121815535551, 193.88849392466537, 195.38794868886447, 196.40832551287392, 197.0575884932457, 198.22175772537878, 199.54361090724313, 200.17192162848633, 201.93101935943923, 205.3492892574934, 209.83028334951837, 213.85296164549658, 217.07539111329277, 218.19090131227017, 218.8058025421257, 218.57182843476127, 217.25162818069958, 216.01492107200926, 216.01451402683438, 217.32953414030177, 218.0984066254145, 218.61477225110565, 219.4351699081065, 220.7814768453301, 223.3739344445974, 224.95106622508618, 226.82758383463994, 228.67481636284106, 228.7229195649477, 228.13421539794348, 225.99223520153078, 224.17618013134177, 223.11312079690146, 224.05032652700547, 225.56204724330746, 227.5844654589682, 229.47145380072922, 230.58033850410243, 231.80122589315351, 232.04864119083396, 231.89458601454265, 231.45867579312812, 231.24127967096217, 231.03036018862252, 231.0650414915851, 231.07995243625078, 231.52244183447266, 232.24995319135235, 232.5305918935008, 231.78435344307482, 231.12420722446035, 230.9456187873977, 230.59831713387052, 230.50316304737265, 230.43233246690795, 230.60029246800423, 230.80095950386513, 229.85463699721566, 229.42564689236752, 229.5132381008273, 231.2193263777354, 233.22476776805593, 234.99868678397365, 237.45624491825362, 238.46657345114204, 238.9262636711636, 238.82337038467205], \"name\": \"Trend Filter1\", \"open\": [177.58673678504098, 178.29248346222772, 178.65705071555243, 178.61892969740762, 178.78591816292868, 179.33993550969495, 179.68720673190222, 179.83222239671483, 180.0391724685, 179.71861763226076, 179.19257390478418, 178.74666888636744, 178.82477472352588, 178.99435635752485, 178.76566168482208, 178.9933222902651, 179.58565740311718, 180.48107606761147, 181.1909124797716, 183.69689277622325, 187.28416488516217, 189.87369176740032, 191.23015031722792, 192.78922562061712, 194.31668712578278, 195.3068807206285, 195.5127087865949, 195.2297374620286, 194.47656026537987, 193.73662696798795, 192.96623796975823, 191.7695804648218, 190.3792725745551, 188.04062768723148, 186.27080839918352, 185.053151019612, 184.8204499116374, 185.93216215673442, 187.522049755119, 188.99525845299593, 190.3047465482738, 192.1121815535551, 193.88849392466537, 195.38794868886447, 196.40832551287392, 197.0575884932457, 198.22175772537878, 199.54361090724313, 200.17192162848633, 201.93101935943923, 205.3492892574934, 209.83028334951837, 213.85296164549658, 217.07539111329277, 218.19090131227017, 218.8058025421257, 218.57182843476127, 217.25162818069958, 216.01492107200926, 216.01451402683438, 217.32953414030177, 218.0984066254145, 218.61477225110565, 219.4351699081065, 220.7814768453301, 223.3739344445974, 224.95106622508618, 226.82758383463994, 228.67481636284106, 228.7229195649477, 228.13421539794348, 225.99223520153078, 224.17618013134177, 223.11312079690146, 224.05032652700547, 225.56204724330746, 227.5844654589682, 229.47145380072922, 230.58033850410243, 231.80122589315351, 232.04864119083396, 231.89458601454265, 231.45867579312812, 231.24127967096217, 231.03036018862252, 231.0650414915851, 231.07995243625078, 231.52244183447266, 232.24995319135235, 232.5305918935008, 231.78435344307482, 231.12420722446035, 230.9456187873977, 230.59831713387052, 230.50316304737265, 230.43233246690795, 230.60029246800423, 230.80095950386513, 229.85463699721566, 229.42564689236752, 229.5132381008273, 231.2193263777354, 233.22476776805593, 234.99868678397365, 237.45624491825362, 238.46657345114204, 238.9262636711636, 238.82337038467205], \"type\": \"candlestick\", \"x\": [\"2020-12-07T00:00:00\", \"2020-12-08T00:00:00\", \"2020-12-09T00:00:00\", \"2020-12-10T00:00:00\", \"2020-12-11T00:00:00\", \"2020-12-14T00:00:00\", \"2020-12-15T00:00:00\", \"2020-12-16T00:00:00\", \"2020-12-17T00:00:00\", \"2020-12-18T00:00:00\", \"2020-12-21T00:00:00\", \"2020-12-22T00:00:00\", \"2020-12-23T00:00:00\", \"2020-12-24T00:00:00\", \"2020-12-28T00:00:00\", \"2020-12-29T00:00:00\", \"2020-12-30T00:00:00\", \"2020-12-31T00:00:00\", \"2021-01-04T00:00:00\", \"2021-01-05T00:00:00\", \"2021-01-06T00:00:00\", \"2021-01-07T00:00:00\", \"2021-01-08T00:00:00\", \"2021-01-11T00:00:00\", \"2021-01-12T00:00:00\", \"2021-01-13T00:00:00\", \"2021-01-14T00:00:00\", \"2021-01-15T00:00:00\", \"2021-01-19T00:00:00\", \"2021-01-20T00:00:00\", \"2021-01-21T00:00:00\", \"2021-01-22T00:00:00\", \"2021-01-25T00:00:00\", \"2021-01-26T00:00:00\", \"2021-01-27T00:00:00\", \"2021-01-28T00:00:00\", \"2021-01-29T00:00:00\", \"2021-02-01T00:00:00\", \"2021-02-02T00:00:00\", \"2021-02-03T00:00:00\", \"2021-02-04T00:00:00\", \"2021-02-05T00:00:00\", \"2021-02-08T00:00:00\", \"2021-02-09T00:00:00\", \"2021-02-10T00:00:00\", \"2021-02-11T00:00:00\", \"2021-02-12T00:00:00\", \"2021-02-16T00:00:00\", \"2021-02-17T00:00:00\", \"2021-02-18T00:00:00\", \"2021-02-19T00:00:00\", \"2021-02-22T00:00:00\", \"2021-02-23T00:00:00\", \"2021-02-24T00:00:00\", \"2021-02-25T00:00:00\", \"2021-02-26T00:00:00\", \"2021-03-01T00:00:00\", \"2021-03-02T00:00:00\", \"2021-03-03T00:00:00\", \"2021-03-04T00:00:00\", \"2021-03-05T00:00:00\", \"2021-03-08T00:00:00\", \"2021-03-09T00:00:00\", \"2021-03-10T00:00:00\", \"2021-03-11T00:00:00\", \"2021-03-12T00:00:00\", \"2021-03-15T00:00:00\", \"2021-03-16T00:00:00\", \"2021-03-17T00:00:00\", \"2021-03-18T00:00:00\", \"2021-03-19T00:00:00\", \"2021-03-22T00:00:00\", \"2021-03-23T00:00:00\", \"2021-03-24T00:00:00\", \"2021-03-25T00:00:00\", \"2021-03-26T00:00:00\", \"2021-03-29T00:00:00\", \"2021-03-30T00:00:00\", \"2021-03-31T00:00:00\", \"2021-04-01T00:00:00\", \"2021-04-05T00:00:00\", \"2021-04-06T00:00:00\", \"2021-04-07T00:00:00\", \"2021-04-08T00:00:00\", \"2021-04-09T00:00:00\", \"2021-04-12T00:00:00\", \"2021-04-13T00:00:00\", \"2021-04-14T00:00:00\", \"2021-04-15T00:00:00\", \"2021-04-16T00:00:00\", \"2021-04-19T00:00:00\", \"2021-04-20T00:00:00\", \"2021-04-21T00:00:00\", \"2021-04-22T00:00:00\", \"2021-04-23T00:00:00\", \"2021-04-26T00:00:00\", \"2021-04-27T00:00:00\", \"2021-04-28T00:00:00\", \"2021-04-29T00:00:00\", \"2021-04-30T00:00:00\", \"2021-05-03T00:00:00\", \"2021-05-04T00:00:00\", \"2021-05-05T00:00:00\", \"2021-05-06T00:00:00\", \"2021-05-07T00:00:00\", \"2021-05-10T00:00:00\", \"2021-05-11T00:00:00\", \"2021-05-12T00:00:00\"], \"xaxis\": \"x\", \"yaxis\": \"y\"}, {\"close\": [217.38699314385076, 216.7606115460318, 216.9657632254152, 217.42824614082633, 217.7723222250351, 218.41582023745735, 219.02061708852887, 220.38073587686824, 221.8157072805819, 223.29867203161763, 225.13347070279994, 226.24521772713217, 226.71180305255334, 226.3403627054245, 225.71079292084397, 224.78172896876754, 224.60834219517022, 225.0125774136751, 225.97583986779216, 227.25553021812792, 228.27338930630202, 229.4184500553263, 230.32281561550423, 230.8961102953233, 231.00911820316054, 231.01221959345622, 230.92418475184405, 231.0148712491442, 231.02491334469192, 231.20660823017903, 231.63801606893793, 231.89247325513196, 231.75917933587692, 231.31752932142308, 231.2165148611811, 230.98784011649792, 230.8861698688562, 230.72918613485564, 230.6672841327334, 230.79896261416664, 230.3328797826013, 230.03707853132903, 229.7167694190469, 230.2500461887668, 231.37538616898874, 232.45410552561793, 234.19891337897303, 235.53811528107525, 236.69047017060865], \"decreasing\": {\"fillcolor\": \"#0D600D\", \"line\": {\"color\": \"#0D600D\", \"width\": 1}}, \"high\": [217.38699314385076, 216.7606115460318, 216.9657632254152, 217.42824614082633, 217.7723222250351, 218.41582023745735, 219.02061708852887, 220.38073587686824, 221.8157072805819, 223.29867203161763, 225.13347070279994, 226.24521772713217, 226.71180305255334, 226.3403627054245, 225.71079292084397, 224.78172896876754, 224.60834219517022, 225.0125774136751, 225.97583986779216, 227.25553021812792, 228.27338930630202, 229.4184500553263, 230.32281561550423, 230.8961102953233, 231.00911820316054, 231.01221959345622, 230.92418475184405, 231.0148712491442, 231.02491334469192, 231.20660823017903, 231.63801606893793, 231.89247325513196, 231.75917933587692, 231.31752932142308, 231.2165148611811, 230.98784011649792, 230.8861698688562, 230.72918613485564, 230.6672841327334, 230.79896261416664, 230.3328797826013, 230.03707853132903, 229.7167694190469, 230.2500461887668, 231.37538616898874, 232.45410552561793, 234.19891337897303, 235.53811528107525, 236.69047017060865], \"increasing\": {\"fillcolor\": \"#FF0000\", \"line\": {\"color\": \"#FF0000\", \"width\": 1}}, \"low\": [216.80414744676654, 217.13892560305936, 217.50450237965904, 217.87703586519308, 218.43182423523322, 219.29708304022515, 220.84918887188275, 222.23243758544197, 223.80805560228725, 225.45632369150775, 226.36262872577896, 226.76069440423788, 226.20364630300395, 225.36344145958705, 224.58741224075538, 224.61335378916382, 225.1300666854504, 226.13859827315534, 227.361434794046, 228.42253652315463, 229.5533002731784, 230.2799396533718, 230.70345332619297, 230.84740906733379, 230.93112189212363, 230.9332026999909, 230.98377219046765, 231.01805105032594, 231.23516921405704, 231.6377582479056, 231.92860208463395, 231.7619101570704, 231.47983561837242, 231.30893183189022, 231.05809334661603, 230.89182169702644, 230.753831309985, 230.73929910927467, 230.7879182979675, 230.368091731102, 230.03893629620296, 229.91109671789803, 230.55860171444053, 231.62153748486708, 232.83767171133877, 234.51343454464146, 235.76116984509665, 236.7083673067704, 237.27896984511494], \"name\": \"Trend Filter2\", \"open\": [216.80414744676654, 217.13892560305936, 217.50450237965904, 217.87703586519308, 218.43182423523322, 219.29708304022515, 220.84918887188275, 222.23243758544197, 223.80805560228725, 225.45632369150775, 226.36262872577896, 226.76069440423788, 226.20364630300395, 225.36344145958705, 224.58741224075538, 224.61335378916382, 225.1300666854504, 226.13859827315534, 227.361434794046, 228.42253652315463, 229.5533002731784, 230.2799396533718, 230.70345332619297, 230.84740906733379, 230.93112189212363, 230.9332026999909, 230.98377219046765, 231.01805105032594, 231.23516921405704, 231.6377582479056, 231.92860208463395, 231.7619101570704, 231.47983561837242, 231.30893183189022, 231.05809334661603, 230.89182169702644, 230.753831309985, 230.73929910927467, 230.7879182979675, 230.368091731102, 230.03893629620296, 229.91109671789803, 230.55860171444053, 231.62153748486708, 232.83767171133877, 234.51343454464146, 235.76116984509665, 236.7083673067704, 237.27896984511494], \"type\": \"candlestick\", \"x\": [\"2021-03-04T00:00:00\", \"2021-03-05T00:00:00\", \"2021-03-08T00:00:00\", \"2021-03-09T00:00:00\", \"2021-03-10T00:00:00\", \"2021-03-11T00:00:00\", \"2021-03-12T00:00:00\", \"2021-03-15T00:00:00\", \"2021-03-16T00:00:00\", \"2021-03-17T00:00:00\", \"2021-03-18T00:00:00\", \"2021-03-19T00:00:00\", \"2021-03-22T00:00:00\", \"2021-03-23T00:00:00\", \"2021-03-24T00:00:00\", \"2021-03-25T00:00:00\", \"2021-03-26T00:00:00\", \"2021-03-29T00:00:00\", \"2021-03-30T00:00:00\", \"2021-03-31T00:00:00\", \"2021-04-01T00:00:00\", \"2021-04-05T00:00:00\", \"2021-04-06T00:00:00\", \"2021-04-07T00:00:00\", \"2021-04-08T00:00:00\", \"2021-04-09T00:00:00\", \"2021-04-12T00:00:00\", \"2021-04-13T00:00:00\", \"2021-04-14T00:00:00\", \"2021-04-15T00:00:00\", \"2021-04-16T00:00:00\", \"2021-04-19T00:00:00\", \"2021-04-20T00:00:00\", \"2021-04-21T00:00:00\", \"2021-04-22T00:00:00\", \"2021-04-23T00:00:00\", \"2021-04-26T00:00:00\", \"2021-04-27T00:00:00\", \"2021-04-28T00:00:00\", \"2021-04-29T00:00:00\", \"2021-04-30T00:00:00\", \"2021-05-03T00:00:00\", \"2021-05-04T00:00:00\", \"2021-05-05T00:00:00\", \"2021-05-06T00:00:00\", \"2021-05-07T00:00:00\", \"2021-05-10T00:00:00\", \"2021-05-11T00:00:00\", \"2021-05-12T00:00:00\"], \"xaxis\": \"x\", \"yaxis\": \"y\"}, {\"line\": {\"color\": \"red\", \"width\": 1}, \"mode\": \"lines\", \"name\": \"VP S/R\", \"type\": \"scatter\", \"x\": [\"2020-12-01T00:00:00\", \"2020-12-02T00:00:00\", \"2020-12-03T00:00:00\", \"2020-12-04T00:00:00\", \"2020-12-07T00:00:00\", \"2020-12-08T00:00:00\", \"2020-12-09T00:00:00\", \"2020-12-10T00:00:00\", \"2020-12-11T00:00:00\", \"2020-12-14T00:00:00\", \"2020-12-15T00:00:00\", \"2020-12-16T00:00:00\", \"2020-12-17T00:00:00\", \"2020-12-18T00:00:00\", \"2020-12-21T00:00:00\", \"2020-12-22T00:00:00\", \"2020-12-23T00:00:00\", \"2020-12-24T00:00:00\", \"2020-12-28T00:00:00\", \"2020-12-29T00:00:00\", \"2020-12-30T00:00:00\", \"2020-12-31T00:00:00\", \"2021-01-04T00:00:00\", \"2021-01-05T00:00:00\", \"2021-01-06T00:00:00\", \"2021-01-07T00:00:00\", \"2021-01-08T00:00:00\", \"2021-01-11T00:00:00\", \"2021-01-12T00:00:00\", \"2021-01-13T00:00:00\", \"2021-01-14T00:00:00\", \"2021-01-15T00:00:00\", \"2021-01-19T00:00:00\", \"2021-01-20T00:00:00\", \"2021-01-21T00:00:00\", \"2021-01-22T00:00:00\", \"2021-01-25T00:00:00\", \"2021-01-26T00:00:00\", \"2021-01-27T00:00:00\", \"2021-01-28T00:00:00\", \"2021-01-29T00:00:00\", \"2021-02-01T00:00:00\", \"2021-02-02T00:00:00\", \"2021-02-03T00:00:00\", \"2021-02-04T00:00:00\", \"2021-02-05T00:00:00\", \"2021-02-08T00:00:00\", \"2021-02-09T00:00:00\", \"2021-02-10T00:00:00\", \"2021-02-11T00:00:00\", \"2021-02-12T00:00:00\", \"2021-02-16T00:00:00\", \"2021-02-17T00:00:00\", \"2021-02-18T00:00:00\", \"2021-02-19T00:00:00\", \"2021-02-22T00:00:00\", \"2021-02-23T00:00:00\", \"2021-02-24T00:00:00\", \"2021-02-25T00:00:00\", \"2021-02-26T00:00:00\", \"2021-03-01T00:00:00\", \"2021-03-02T00:00:00\", \"2021-03-03T00:00:00\", \"2021-03-04T00:00:00\", \"2021-03-05T00:00:00\", \"2021-03-08T00:00:00\", \"2021-03-09T00:00:00\", \"2021-03-10T00:00:00\", \"2021-03-11T00:00:00\", \"2021-03-12T00:00:00\", \"2021-03-15T00:00:00\", \"2021-03-16T00:00:00\", \"2021-03-17T00:00:00\", \"2021-03-18T00:00:00\", \"2021-03-19T00:00:00\", \"2021-03-22T00:00:00\", \"2021-03-23T00:00:00\", \"2021-03-24T00:00:00\", \"2021-03-25T00:00:00\", \"2021-03-26T00:00:00\", \"2021-03-29T00:00:00\", \"2021-03-30T00:00:00\", \"2021-03-31T00:00:00\", \"2021-04-01T00:00:00\", \"2021-04-05T00:00:00\", \"2021-04-06T00:00:00\", \"2021-04-07T00:00:00\", \"2021-04-08T00:00:00\", \"2021-04-09T00:00:00\", \"2021-04-12T00:00:00\", \"2021-04-13T00:00:00\", \"2021-04-14T00:00:00\", \"2021-04-15T00:00:00\", \"2021-04-16T00:00:00\", \"2021-04-19T00:00:00\", \"2021-04-20T00:00:00\", \"2021-04-21T00:00:00\", \"2021-04-22T00:00:00\", \"2021-04-23T00:00:00\", \"2021-04-26T00:00:00\", \"2021-04-27T00:00:00\", \"2021-04-28T00:00:00\", \"2021-04-29T00:00:00\", \"2021-04-30T00:00:00\", \"2021-05-03T00:00:00\", \"2021-05-04T00:00:00\", \"2021-05-05T00:00:00\", \"2021-05-06T00:00:00\", \"2021-05-07T00:00:00\", \"2021-05-10T00:00:00\", \"2021-05-11T00:00:00\", \"2021-05-12T00:00:00\", \"2021-05-13T00:00:00\"], \"y\": [182.25, 182.25, 182.25, 182.25, 182.25, 182.25, 182.25, 182.25, 182.25, 182.25, 182.25, 182.25, 182.25, 182.25, 182.25, 182.25, 182.25, 182.25, 182.25, 182.25, 182.25, 182.25, 182.25, 182.25, 182.25, 182.25, 182.25, 182.25, 182.25, 182.25, 182.25, 182.25, 182.25, 182.25, 182.25, 182.25, 182.25, 182.25, 182.25, 182.25, 182.25, 182.25, 182.25, 182.25, 182.25, 182.25, 182.25, 182.25, 182.25, 182.25, 182.25, 182.25, 182.25, 182.25, 182.25, 182.25, 182.25, 182.25, 182.25, 182.25, 182.25, 182.25, 182.25, 182.25, 182.25, 182.25, 182.25, 182.25, 182.25, 182.25, 182.25, 182.25, 182.25, 182.25, 182.25, 182.25, 182.25, 182.25, 182.25, 182.25, 182.25, 182.25, 182.25, 182.25, 182.25, 182.25, 182.25, 182.25, 182.25, 182.25, 182.25, 182.25, 182.25, 182.25, 182.25, 182.25, 182.25, 182.25, 182.25, 182.25, 182.25, 182.25, 182.25, 182.25, 182.25, 182.25, 182.25, 182.25, 182.25, 182.25, 182.25, 182.25, 182.25]}, {\"line\": {\"color\": \"red\", \"width\": 1}, \"mode\": \"lines\", \"name\": \"VP S/R\", \"type\": \"scatter\", \"x\": [\"2020-12-01T00:00:00\", \"2020-12-02T00:00:00\", \"2020-12-03T00:00:00\", \"2020-12-04T00:00:00\", \"2020-12-07T00:00:00\", \"2020-12-08T00:00:00\", \"2020-12-09T00:00:00\", \"2020-12-10T00:00:00\", \"2020-12-11T00:00:00\", \"2020-12-14T00:00:00\", \"2020-12-15T00:00:00\", \"2020-12-16T00:00:00\", \"2020-12-17T00:00:00\", \"2020-12-18T00:00:00\", \"2020-12-21T00:00:00\", \"2020-12-22T00:00:00\", \"2020-12-23T00:00:00\", \"2020-12-24T00:00:00\", \"2020-12-28T00:00:00\", \"2020-12-29T00:00:00\", \"2020-12-30T00:00:00\", \"2020-12-31T00:00:00\", \"2021-01-04T00:00:00\", \"2021-01-05T00:00:00\", \"2021-01-06T00:00:00\", \"2021-01-07T00:00:00\", \"2021-01-08T00:00:00\", \"2021-01-11T00:00:00\", \"2021-01-12T00:00:00\", \"2021-01-13T00:00:00\", \"2021-01-14T00:00:00\", \"2021-01-15T00:00:00\", \"2021-01-19T00:00:00\", \"2021-01-20T00:00:00\", \"2021-01-21T00:00:00\", \"2021-01-22T00:00:00\", \"2021-01-25T00:00:00\", \"2021-01-26T00:00:00\", \"2021-01-27T00:00:00\", \"2021-01-28T00:00:00\", \"2021-01-29T00:00:00\", \"2021-02-01T00:00:00\", \"2021-02-02T00:00:00\", \"2021-02-03T00:00:00\", \"2021-02-04T00:00:00\", \"2021-02-05T00:00:00\", \"2021-02-08T00:00:00\", \"2021-02-09T00:00:00\", \"2021-02-10T00:00:00\", \"2021-02-11T00:00:00\", \"2021-02-12T00:00:00\", \"2021-02-16T00:00:00\", \"2021-02-17T00:00:00\", \"2021-02-18T00:00:00\", \"2021-02-19T00:00:00\", \"2021-02-22T00:00:00\", \"2021-02-23T00:00:00\", \"2021-02-24T00:00:00\", \"2021-02-25T00:00:00\", \"2021-02-26T00:00:00\", \"2021-03-01T00:00:00\", \"2021-03-02T00:00:00\", \"2021-03-03T00:00:00\", \"2021-03-04T00:00:00\", \"2021-03-05T00:00:00\", \"2021-03-08T00:00:00\", \"2021-03-09T00:00:00\", \"2021-03-10T00:00:00\", \"2021-03-11T00:00:00\", \"2021-03-12T00:00:00\", \"2021-03-15T00:00:00\", \"2021-03-16T00:00:00\", \"2021-03-17T00:00:00\", \"2021-03-18T00:00:00\", \"2021-03-19T00:00:00\", \"2021-03-22T00:00:00\", \"2021-03-23T00:00:00\", \"2021-03-24T00:00:00\", \"2021-03-25T00:00:00\", \"2021-03-26T00:00:00\", \"2021-03-29T00:00:00\", \"2021-03-30T00:00:00\", \"2021-03-31T00:00:00\", \"2021-04-01T00:00:00\", \"2021-04-05T00:00:00\", \"2021-04-06T00:00:00\", \"2021-04-07T00:00:00\", \"2021-04-08T00:00:00\", \"2021-04-09T00:00:00\", \"2021-04-12T00:00:00\", \"2021-04-13T00:00:00\", \"2021-04-14T00:00:00\", \"2021-04-15T00:00:00\", \"2021-04-16T00:00:00\", \"2021-04-19T00:00:00\", \"2021-04-20T00:00:00\", \"2021-04-21T00:00:00\", \"2021-04-22T00:00:00\", \"2021-04-23T00:00:00\", \"2021-04-26T00:00:00\", \"2021-04-27T00:00:00\", \"2021-04-28T00:00:00\", \"2021-04-29T00:00:00\", \"2021-04-30T00:00:00\", \"2021-05-03T00:00:00\", \"2021-05-04T00:00:00\", \"2021-05-05T00:00:00\", \"2021-05-06T00:00:00\", \"2021-05-07T00:00:00\", \"2021-05-10T00:00:00\", \"2021-05-11T00:00:00\", \"2021-05-12T00:00:00\", \"2021-05-13T00:00:00\"], \"y\": [193.9, 193.9, 193.9, 193.9, 193.9, 193.9, 193.9, 193.9, 193.9, 193.9, 193.9, 193.9, 193.9, 193.9, 193.9, 193.9, 193.9, 193.9, 193.9, 193.9, 193.9, 193.9, 193.9, 193.9, 193.9, 193.9, 193.9, 193.9, 193.9, 193.9, 193.9, 193.9, 193.9, 193.9, 193.9, 193.9, 193.9, 193.9, 193.9, 193.9, 193.9, 193.9, 193.9, 193.9, 193.9, 193.9, 193.9, 193.9, 193.9, 193.9, 193.9, 193.9, 193.9, 193.9, 193.9, 193.9, 193.9, 193.9, 193.9, 193.9, 193.9, 193.9, 193.9, 193.9, 193.9, 193.9, 193.9, 193.9, 193.9, 193.9, 193.9, 193.9, 193.9, 193.9, 193.9, 193.9, 193.9, 193.9, 193.9, 193.9, 193.9, 193.9, 193.9, 193.9, 193.9, 193.9, 193.9, 193.9, 193.9, 193.9, 193.9, 193.9, 193.9, 193.9, 193.9, 193.9, 193.9, 193.9, 193.9, 193.9, 193.9, 193.9, 193.9, 193.9, 193.9, 193.9, 193.9, 193.9, 193.9, 193.9, 193.9, 193.9, 193.9]}, {\"line\": {\"color\": \"red\", \"width\": 1}, \"mode\": \"lines\", \"name\": \"VP S/R\", \"type\": \"scatter\", \"x\": [\"2020-12-01T00:00:00\", \"2020-12-02T00:00:00\", \"2020-12-03T00:00:00\", \"2020-12-04T00:00:00\", \"2020-12-07T00:00:00\", \"2020-12-08T00:00:00\", \"2020-12-09T00:00:00\", \"2020-12-10T00:00:00\", \"2020-12-11T00:00:00\", \"2020-12-14T00:00:00\", \"2020-12-15T00:00:00\", \"2020-12-16T00:00:00\", \"2020-12-17T00:00:00\", \"2020-12-18T00:00:00\", \"2020-12-21T00:00:00\", \"2020-12-22T00:00:00\", \"2020-12-23T00:00:00\", \"2020-12-24T00:00:00\", \"2020-12-28T00:00:00\", \"2020-12-29T00:00:00\", \"2020-12-30T00:00:00\", \"2020-12-31T00:00:00\", \"2021-01-04T00:00:00\", \"2021-01-05T00:00:00\", \"2021-01-06T00:00:00\", \"2021-01-07T00:00:00\", \"2021-01-08T00:00:00\", \"2021-01-11T00:00:00\", \"2021-01-12T00:00:00\", \"2021-01-13T00:00:00\", \"2021-01-14T00:00:00\", \"2021-01-15T00:00:00\", \"2021-01-19T00:00:00\", \"2021-01-20T00:00:00\", \"2021-01-21T00:00:00\", \"2021-01-22T00:00:00\", \"2021-01-25T00:00:00\", \"2021-01-26T00:00:00\", \"2021-01-27T00:00:00\", \"2021-01-28T00:00:00\", \"2021-01-29T00:00:00\", \"2021-02-01T00:00:00\", \"2021-02-02T00:00:00\", \"2021-02-03T00:00:00\", \"2021-02-04T00:00:00\", \"2021-02-05T00:00:00\", \"2021-02-08T00:00:00\", \"2021-02-09T00:00:00\", \"2021-02-10T00:00:00\", \"2021-02-11T00:00:00\", \"2021-02-12T00:00:00\", \"2021-02-16T00:00:00\", \"2021-02-17T00:00:00\", \"2021-02-18T00:00:00\", \"2021-02-19T00:00:00\", \"2021-02-22T00:00:00\", \"2021-02-23T00:00:00\", \"2021-02-24T00:00:00\", \"2021-02-25T00:00:00\", \"2021-02-26T00:00:00\", \"2021-03-01T00:00:00\", \"2021-03-02T00:00:00\", \"2021-03-03T00:00:00\", \"2021-03-04T00:00:00\", \"2021-03-05T00:00:00\", \"2021-03-08T00:00:00\", \"2021-03-09T00:00:00\", \"2021-03-10T00:00:00\", \"2021-03-11T00:00:00\", \"2021-03-12T00:00:00\", \"2021-03-15T00:00:00\", \"2021-03-16T00:00:00\", \"2021-03-17T00:00:00\", \"2021-03-18T00:00:00\", \"2021-03-19T00:00:00\", \"2021-03-22T00:00:00\", \"2021-03-23T00:00:00\", \"2021-03-24T00:00:00\", \"2021-03-25T00:00:00\", \"2021-03-26T00:00:00\", \"2021-03-29T00:00:00\", \"2021-03-30T00:00:00\", \"2021-03-31T00:00:00\", \"2021-04-01T00:00:00\", \"2021-04-05T00:00:00\", \"2021-04-06T00:00:00\", \"2021-04-07T00:00:00\", \"2021-04-08T00:00:00\", \"2021-04-09T00:00:00\", \"2021-04-12T00:00:00\", \"2021-04-13T00:00:00\", \"2021-04-14T00:00:00\", \"2021-04-15T00:00:00\", \"2021-04-16T00:00:00\", \"2021-04-19T00:00:00\", \"2021-04-20T00:00:00\", \"2021-04-21T00:00:00\", \"2021-04-22T00:00:00\", \"2021-04-23T00:00:00\", \"2021-04-26T00:00:00\", \"2021-04-27T00:00:00\", \"2021-04-28T00:00:00\", \"2021-04-29T00:00:00\", \"2021-04-30T00:00:00\", \"2021-05-03T00:00:00\", \"2021-05-04T00:00:00\", \"2021-05-05T00:00:00\", \"2021-05-06T00:00:00\", \"2021-05-07T00:00:00\", \"2021-05-10T00:00:00\", \"2021-05-11T00:00:00\", \"2021-05-12T00:00:00\", \"2021-05-13T00:00:00\"], \"y\": [192.5, 192.5, 192.5, 192.5, 192.5, 192.5, 192.5, 192.5, 192.5, 192.5, 192.5, 192.5, 192.5, 192.5, 192.5, 192.5, 192.5, 192.5, 192.5, 192.5, 192.5, 192.5, 192.5, 192.5, 192.5, 192.5, 192.5, 192.5, 192.5, 192.5, 192.5, 192.5, 192.5, 192.5, 192.5, 192.5, 192.5, 192.5, 192.5, 192.5, 192.5, 192.5, 192.5, 192.5, 192.5, 192.5, 192.5, 192.5, 192.5, 192.5, 192.5, 192.5, 192.5, 192.5, 192.5, 192.5, 192.5, 192.5, 192.5, 192.5, 192.5, 192.5, 192.5, 192.5, 192.5, 192.5, 192.5, 192.5, 192.5, 192.5, 192.5, 192.5, 192.5, 192.5, 192.5, 192.5, 192.5, 192.5, 192.5, 192.5, 192.5, 192.5, 192.5, 192.5, 192.5, 192.5, 192.5, 192.5, 192.5, 192.5, 192.5, 192.5, 192.5, 192.5, 192.5, 192.5, 192.5, 192.5, 192.5, 192.5, 192.5, 192.5, 192.5, 192.5, 192.5, 192.5, 192.5, 192.5, 192.5, 192.5, 192.5, 192.5, 192.5]}, {\"line\": {\"color\": \"red\", \"width\": 1}, \"mode\": \"lines\", \"name\": \"VP S/R\", \"type\": \"scatter\", \"x\": [\"2020-12-01T00:00:00\", \"2020-12-02T00:00:00\", \"2020-12-03T00:00:00\", \"2020-12-04T00:00:00\", \"2020-12-07T00:00:00\", \"2020-12-08T00:00:00\", \"2020-12-09T00:00:00\", \"2020-12-10T00:00:00\", \"2020-12-11T00:00:00\", \"2020-12-14T00:00:00\", \"2020-12-15T00:00:00\", \"2020-12-16T00:00:00\", \"2020-12-17T00:00:00\", \"2020-12-18T00:00:00\", \"2020-12-21T00:00:00\", \"2020-12-22T00:00:00\", \"2020-12-23T00:00:00\", \"2020-12-24T00:00:00\", \"2020-12-28T00:00:00\", \"2020-12-29T00:00:00\", \"2020-12-30T00:00:00\", \"2020-12-31T00:00:00\", \"2021-01-04T00:00:00\", \"2021-01-05T00:00:00\", \"2021-01-06T00:00:00\", \"2021-01-07T00:00:00\", \"2021-01-08T00:00:00\", \"2021-01-11T00:00:00\", \"2021-01-12T00:00:00\", \"2021-01-13T00:00:00\", \"2021-01-14T00:00:00\", \"2021-01-15T00:00:00\", \"2021-01-19T00:00:00\", \"2021-01-20T00:00:00\", \"2021-01-21T00:00:00\", \"2021-01-22T00:00:00\", \"2021-01-25T00:00:00\", \"2021-01-26T00:00:00\", \"2021-01-27T00:00:00\", \"2021-01-28T00:00:00\", \"2021-01-29T00:00:00\", \"2021-02-01T00:00:00\", \"2021-02-02T00:00:00\", \"2021-02-03T00:00:00\", \"2021-02-04T00:00:00\", \"2021-02-05T00:00:00\", \"2021-02-08T00:00:00\", \"2021-02-09T00:00:00\", \"2021-02-10T00:00:00\", \"2021-02-11T00:00:00\", \"2021-02-12T00:00:00\", \"2021-02-16T00:00:00\", \"2021-02-17T00:00:00\", \"2021-02-18T00:00:00\", \"2021-02-19T00:00:00\", \"2021-02-22T00:00:00\", \"2021-02-23T00:00:00\", \"2021-02-24T00:00:00\", \"2021-02-25T00:00:00\", \"2021-02-26T00:00:00\", \"2021-03-01T00:00:00\", \"2021-03-02T00:00:00\", \"2021-03-03T00:00:00\", \"2021-03-04T00:00:00\", \"2021-03-05T00:00:00\", \"2021-03-08T00:00:00\", \"2021-03-09T00:00:00\", \"2021-03-10T00:00:00\", \"2021-03-11T00:00:00\", \"2021-03-12T00:00:00\", \"2021-03-15T00:00:00\", \"2021-03-16T00:00:00\", \"2021-03-17T00:00:00\", \"2021-03-18T00:00:00\", \"2021-03-19T00:00:00\", \"2021-03-22T00:00:00\", \"2021-03-23T00:00:00\", \"2021-03-24T00:00:00\", \"2021-03-25T00:00:00\", \"2021-03-26T00:00:00\", \"2021-03-29T00:00:00\", \"2021-03-30T00:00:00\", \"2021-03-31T00:00:00\", \"2021-04-01T00:00:00\", \"2021-04-05T00:00:00\", \"2021-04-06T00:00:00\", \"2021-04-07T00:00:00\", \"2021-04-08T00:00:00\", \"2021-04-09T00:00:00\", \"2021-04-12T00:00:00\", \"2021-04-13T00:00:00\", \"2021-04-14T00:00:00\", \"2021-04-15T00:00:00\", \"2021-04-16T00:00:00\", \"2021-04-19T00:00:00\", \"2021-04-20T00:00:00\", \"2021-04-21T00:00:00\", \"2021-04-22T00:00:00\", \"2021-04-23T00:00:00\", \"2021-04-26T00:00:00\", \"2021-04-27T00:00:00\", \"2021-04-28T00:00:00\", \"2021-04-29T00:00:00\", \"2021-04-30T00:00:00\", \"2021-05-03T00:00:00\", \"2021-05-04T00:00:00\", \"2021-05-05T00:00:00\", \"2021-05-06T00:00:00\", \"2021-05-07T00:00:00\", \"2021-05-10T00:00:00\", \"2021-05-11T00:00:00\", \"2021-05-12T00:00:00\", \"2021-05-13T00:00:00\"], \"y\": [225.3, 225.3, 225.3, 225.3, 225.3, 225.3, 225.3, 225.3, 225.3, 225.3, 225.3, 225.3, 225.3, 225.3, 225.3, 225.3, 225.3, 225.3, 225.3, 225.3, 225.3, 225.3, 225.3, 225.3, 225.3, 225.3, 225.3, 225.3, 225.3, 225.3, 225.3, 225.3, 225.3, 225.3, 225.3, 225.3, 225.3, 225.3, 225.3, 225.3, 225.3, 225.3, 225.3, 225.3, 225.3, 225.3, 225.3, 225.3, 225.3, 225.3, 225.3, 225.3, 225.3, 225.3, 225.3, 225.3, 225.3, 225.3, 225.3, 225.3, 225.3, 225.3, 225.3, 225.3, 225.3, 225.3, 225.3, 225.3, 225.3, 225.3, 225.3, 225.3, 225.3, 225.3, 225.3, 225.3, 225.3, 225.3, 225.3, 225.3, 225.3, 225.3, 225.3, 225.3, 225.3, 225.3, 225.3, 225.3, 225.3, 225.3, 225.3, 225.3, 225.3, 225.3, 225.3, 225.3, 225.3, 225.3, 225.3, 225.3, 225.3, 225.3, 225.3, 225.3, 225.3, 225.3, 225.3, 225.3, 225.3, 225.3, 225.3, 225.3, 225.3]}, {\"line\": {\"color\": \"red\", \"width\": 1}, \"mode\": \"lines\", \"name\": \"VP S/R\", \"type\": \"scatter\", \"x\": [\"2020-12-01T00:00:00\", \"2020-12-02T00:00:00\", \"2020-12-03T00:00:00\", \"2020-12-04T00:00:00\", \"2020-12-07T00:00:00\", \"2020-12-08T00:00:00\", \"2020-12-09T00:00:00\", \"2020-12-10T00:00:00\", \"2020-12-11T00:00:00\", \"2020-12-14T00:00:00\", \"2020-12-15T00:00:00\", \"2020-12-16T00:00:00\", \"2020-12-17T00:00:00\", \"2020-12-18T00:00:00\", \"2020-12-21T00:00:00\", \"2020-12-22T00:00:00\", \"2020-12-23T00:00:00\", \"2020-12-24T00:00:00\", \"2020-12-28T00:00:00\", \"2020-12-29T00:00:00\", \"2020-12-30T00:00:00\", \"2020-12-31T00:00:00\", \"2021-01-04T00:00:00\", \"2021-01-05T00:00:00\", \"2021-01-06T00:00:00\", \"2021-01-07T00:00:00\", \"2021-01-08T00:00:00\", \"2021-01-11T00:00:00\", \"2021-01-12T00:00:00\", \"2021-01-13T00:00:00\", \"2021-01-14T00:00:00\", \"2021-01-15T00:00:00\", \"2021-01-19T00:00:00\", \"2021-01-20T00:00:00\", \"2021-01-21T00:00:00\", \"2021-01-22T00:00:00\", \"2021-01-25T00:00:00\", \"2021-01-26T00:00:00\", \"2021-01-27T00:00:00\", \"2021-01-28T00:00:00\", \"2021-01-29T00:00:00\", \"2021-02-01T00:00:00\", \"2021-02-02T00:00:00\", \"2021-02-03T00:00:00\", \"2021-02-04T00:00:00\", \"2021-02-05T00:00:00\", \"2021-02-08T00:00:00\", \"2021-02-09T00:00:00\", \"2021-02-10T00:00:00\", \"2021-02-11T00:00:00\", \"2021-02-12T00:00:00\", \"2021-02-16T00:00:00\", \"2021-02-17T00:00:00\", \"2021-02-18T00:00:00\", \"2021-02-19T00:00:00\", \"2021-02-22T00:00:00\", \"2021-02-23T00:00:00\", \"2021-02-24T00:00:00\", \"2021-02-25T00:00:00\", \"2021-02-26T00:00:00\", \"2021-03-01T00:00:00\", \"2021-03-02T00:00:00\", \"2021-03-03T00:00:00\", \"2021-03-04T00:00:00\", \"2021-03-05T00:00:00\", \"2021-03-08T00:00:00\", \"2021-03-09T00:00:00\", \"2021-03-10T00:00:00\", \"2021-03-11T00:00:00\", \"2021-03-12T00:00:00\", \"2021-03-15T00:00:00\", \"2021-03-16T00:00:00\", \"2021-03-17T00:00:00\", \"2021-03-18T00:00:00\", \"2021-03-19T00:00:00\", \"2021-03-22T00:00:00\", \"2021-03-23T00:00:00\", \"2021-03-24T00:00:00\", \"2021-03-25T00:00:00\", \"2021-03-26T00:00:00\", \"2021-03-29T00:00:00\", \"2021-03-30T00:00:00\", \"2021-03-31T00:00:00\", \"2021-04-01T00:00:00\", \"2021-04-05T00:00:00\", \"2021-04-06T00:00:00\", \"2021-04-07T00:00:00\", \"2021-04-08T00:00:00\", \"2021-04-09T00:00:00\", \"2021-04-12T00:00:00\", \"2021-04-13T00:00:00\", \"2021-04-14T00:00:00\", \"2021-04-15T00:00:00\", \"2021-04-16T00:00:00\", \"2021-04-19T00:00:00\", \"2021-04-20T00:00:00\", \"2021-04-21T00:00:00\", \"2021-04-22T00:00:00\", \"2021-04-23T00:00:00\", \"2021-04-26T00:00:00\", \"2021-04-27T00:00:00\", \"2021-04-28T00:00:00\", \"2021-04-29T00:00:00\", \"2021-04-30T00:00:00\", \"2021-05-03T00:00:00\", \"2021-05-04T00:00:00\", \"2021-05-05T00:00:00\", \"2021-05-06T00:00:00\", \"2021-05-07T00:00:00\", \"2021-05-10T00:00:00\", \"2021-05-11T00:00:00\", \"2021-05-12T00:00:00\", \"2021-05-13T00:00:00\"], \"y\": [231.9, 231.9, 231.9, 231.9, 231.9, 231.9, 231.9, 231.9, 231.9, 231.9, 231.9, 231.9, 231.9, 231.9, 231.9, 231.9, 231.9, 231.9, 231.9, 231.9, 231.9, 231.9, 231.9, 231.9, 231.9, 231.9, 231.9, 231.9, 231.9, 231.9, 231.9, 231.9, 231.9, 231.9, 231.9, 231.9, 231.9, 231.9, 231.9, 231.9, 231.9, 231.9, 231.9, 231.9, 231.9, 231.9, 231.9, 231.9, 231.9, 231.9, 231.9, 231.9, 231.9, 231.9, 231.9, 231.9, 231.9, 231.9, 231.9, 231.9, 231.9, 231.9, 231.9, 231.9, 231.9, 231.9, 231.9, 231.9, 231.9, 231.9, 231.9, 231.9, 231.9, 231.9, 231.9, 231.9, 231.9, 231.9, 231.9, 231.9, 231.9, 231.9, 231.9, 231.9, 231.9, 231.9, 231.9, 231.9, 231.9, 231.9, 231.9, 231.9, 231.9, 231.9, 231.9, 231.9, 231.9, 231.9, 231.9, 231.9, 231.9, 231.9, 231.9, 231.9, 231.9, 231.9, 231.9, 231.9, 231.9, 231.9, 231.9, 231.9, 231.9]}, {\"line\": {\"color\": \"green\", \"width\": 1}, \"mode\": \"lines\", \"name\": \"Upper Resistance 1\", \"opacity\": 0.3, \"type\": \"scatter\", \"x\": [\"2020-12-01T00:00:00\", \"2020-12-02T00:00:00\", \"2020-12-03T00:00:00\", \"2020-12-04T00:00:00\", \"2020-12-07T00:00:00\", \"2020-12-08T00:00:00\", \"2020-12-09T00:00:00\", \"2020-12-10T00:00:00\", \"2020-12-11T00:00:00\", \"2020-12-14T00:00:00\", \"2020-12-15T00:00:00\", \"2020-12-16T00:00:00\", \"2020-12-17T00:00:00\", \"2020-12-18T00:00:00\", \"2020-12-21T00:00:00\", \"2020-12-22T00:00:00\", \"2020-12-23T00:00:00\", \"2020-12-24T00:00:00\", \"2020-12-28T00:00:00\", \"2020-12-29T00:00:00\", \"2020-12-30T00:00:00\", \"2020-12-31T00:00:00\", \"2021-01-04T00:00:00\", \"2021-01-05T00:00:00\", \"2021-01-06T00:00:00\", \"2021-01-07T00:00:00\", \"2021-01-08T00:00:00\", \"2021-01-11T00:00:00\", \"2021-01-12T00:00:00\", \"2021-01-13T00:00:00\", \"2021-01-14T00:00:00\", \"2021-01-15T00:00:00\", \"2021-01-19T00:00:00\", \"2021-01-20T00:00:00\", \"2021-01-21T00:00:00\", \"2021-01-22T00:00:00\", \"2021-01-25T00:00:00\", \"2021-01-26T00:00:00\", \"2021-01-27T00:00:00\", \"2021-01-28T00:00:00\", \"2021-01-29T00:00:00\", \"2021-02-01T00:00:00\", \"2021-02-02T00:00:00\", \"2021-02-03T00:00:00\", \"2021-02-04T00:00:00\", \"2021-02-05T00:00:00\", \"2021-02-08T00:00:00\", \"2021-02-09T00:00:00\", \"2021-02-10T00:00:00\", \"2021-02-11T00:00:00\", \"2021-02-12T00:00:00\", \"2021-02-16T00:00:00\", \"2021-02-17T00:00:00\", \"2021-02-18T00:00:00\", \"2021-02-19T00:00:00\", \"2021-02-22T00:00:00\", \"2021-02-23T00:00:00\", \"2021-02-24T00:00:00\", \"2021-02-25T00:00:00\", \"2021-02-26T00:00:00\", \"2021-03-01T00:00:00\", \"2021-03-02T00:00:00\", \"2021-03-03T00:00:00\", \"2021-03-04T00:00:00\", \"2021-03-05T00:00:00\", \"2021-03-08T00:00:00\", \"2021-03-09T00:00:00\", \"2021-03-10T00:00:00\", \"2021-03-11T00:00:00\", \"2021-03-12T00:00:00\", \"2021-03-15T00:00:00\", \"2021-03-16T00:00:00\", \"2021-03-17T00:00:00\", \"2021-03-18T00:00:00\", \"2021-03-19T00:00:00\", \"2021-03-22T00:00:00\", \"2021-03-23T00:00:00\", \"2021-03-24T00:00:00\", \"2021-03-25T00:00:00\", \"2021-03-26T00:00:00\", \"2021-03-29T00:00:00\", \"2021-03-30T00:00:00\", \"2021-03-31T00:00:00\", \"2021-04-01T00:00:00\", \"2021-04-05T00:00:00\", \"2021-04-06T00:00:00\", \"2021-04-07T00:00:00\", \"2021-04-08T00:00:00\", \"2021-04-09T00:00:00\", \"2021-04-12T00:00:00\", \"2021-04-13T00:00:00\", \"2021-04-14T00:00:00\", \"2021-04-15T00:00:00\", \"2021-04-16T00:00:00\", \"2021-04-19T00:00:00\", \"2021-04-20T00:00:00\", \"2021-04-21T00:00:00\", \"2021-04-22T00:00:00\", \"2021-04-23T00:00:00\", \"2021-04-26T00:00:00\", \"2021-04-27T00:00:00\", \"2021-04-28T00:00:00\", \"2021-04-29T00:00:00\", \"2021-04-30T00:00:00\", \"2021-05-03T00:00:00\", \"2021-05-04T00:00:00\", \"2021-05-05T00:00:00\", \"2021-05-06T00:00:00\", \"2021-05-07T00:00:00\", \"2021-05-10T00:00:00\", \"2021-05-11T00:00:00\", \"2021-05-12T00:00:00\", \"2021-05-13T00:00:00\"], \"xaxis\": \"x\", \"y\": [null, null, null, null, null, null, null, null, null, null, null, null, null, null, null, null, null, null, null, null, null, null, null, null, null, null, null, null, null, null, null, null, null, null, null, null, null, null, null, null, 210.4062713031526, 211.26937085216943, 212.28782679551432, 212.87860045619487, 213.22650072946698, 213.5493270381565, 213.78106603124365, 213.865692385334, 213.83960422447188, 213.79750510964018, 213.57283758371616, 213.717948387049, 213.64391835976852, 213.681861280002, 214.34396601576722, 215.08239666019324, 215.85130691294418, 216.71629815688394, 217.55669037263795, 218.63274423831456, 219.85186295194146, 221.05557571515396, 222.40134436932445, 224.03581173108068, 225.89811103618965, 227.662244618927, 229.46829470807702, 231.2098448362943, 232.84861933555106, 234.89602766282252, 236.62204970727257, 238.30233198312266, 240.01126338626418, 241.69141994614938, 243.22105729605306, 244.43496525876935, 245.92664129834833, 247.36576121512954, 248.78448417027542, 249.93820339488553, 250.8917688045751, 251.75035541723443, 252.77993918213565, 253.723032363436, 254.30479073395418, 254.98353748705753, 255.4885980635854, 255.85323017614573, 256.20010371815454, 256.32935217071497, 256.5896586374382, 256.7922993540267, 256.80797858892396, 256.82628732633304, 256.7914750765003, 256.964841124656, 257.1580331614641, 257.2284808580081, 257.20598899207147, 257.07302547824594, 256.87291850026696, 256.73762535530534, 257.15076576852834, 257.0753802190681, 256.96021600128523, 257.16819955261735, 257.2494814038968, 257.27388809483404, 257.5763956860326, 257.67563879012283, 257.9005756892403, 258.19224942806824, 258.5062629625531], \"yaxis\": \"y\"}, {\"fill\": \"tonexty\", \"line\": {\"color\": \"green\", \"width\": 1}, \"mode\": \"lines\", \"name\": \"Upper Resistance 2\", \"opacity\": 0.3, \"type\": \"scatter\", \"x\": [\"2020-12-01T00:00:00\", \"2020-12-02T00:00:00\", \"2020-12-03T00:00:00\", \"2020-12-04T00:00:00\", \"2020-12-07T00:00:00\", \"2020-12-08T00:00:00\", \"2020-12-09T00:00:00\", \"2020-12-10T00:00:00\", \"2020-12-11T00:00:00\", \"2020-12-14T00:00:00\", \"2020-12-15T00:00:00\", \"2020-12-16T00:00:00\", \"2020-12-17T00:00:00\", \"2020-12-18T00:00:00\", \"2020-12-21T00:00:00\", \"2020-12-22T00:00:00\", \"2020-12-23T00:00:00\", \"2020-12-24T00:00:00\", \"2020-12-28T00:00:00\", \"2020-12-29T00:00:00\", \"2020-12-30T00:00:00\", \"2020-12-31T00:00:00\", \"2021-01-04T00:00:00\", \"2021-01-05T00:00:00\", \"2021-01-06T00:00:00\", \"2021-01-07T00:00:00\", \"2021-01-08T00:00:00\", \"2021-01-11T00:00:00\", \"2021-01-12T00:00:00\", \"2021-01-13T00:00:00\", \"2021-01-14T00:00:00\", \"2021-01-15T00:00:00\", \"2021-01-19T00:00:00\", \"2021-01-20T00:00:00\", \"2021-01-21T00:00:00\", \"2021-01-22T00:00:00\", \"2021-01-25T00:00:00\", \"2021-01-26T00:00:00\", \"2021-01-27T00:00:00\", \"2021-01-28T00:00:00\", \"2021-01-29T00:00:00\", \"2021-02-01T00:00:00\", \"2021-02-02T00:00:00\", \"2021-02-03T00:00:00\", \"2021-02-04T00:00:00\", \"2021-02-05T00:00:00\", \"2021-02-08T00:00:00\", \"2021-02-09T00:00:00\", \"2021-02-10T00:00:00\", \"2021-02-11T00:00:00\", \"2021-02-12T00:00:00\", \"2021-02-16T00:00:00\", \"2021-02-17T00:00:00\", \"2021-02-18T00:00:00\", \"2021-02-19T00:00:00\", \"2021-02-22T00:00:00\", \"2021-02-23T00:00:00\", \"2021-02-24T00:00:00\", \"2021-02-25T00:00:00\", \"2021-02-26T00:00:00\", \"2021-03-01T00:00:00\", \"2021-03-02T00:00:00\", \"2021-03-03T00:00:00\", \"2021-03-04T00:00:00\", \"2021-03-05T00:00:00\", \"2021-03-08T00:00:00\", \"2021-03-09T00:00:00\", \"2021-03-10T00:00:00\", \"2021-03-11T00:00:00\", \"2021-03-12T00:00:00\", \"2021-03-15T00:00:00\", \"2021-03-16T00:00:00\", \"2021-03-17T00:00:00\", \"2021-03-18T00:00:00\", \"2021-03-19T00:00:00\", \"2021-03-22T00:00:00\", \"2021-03-23T00:00:00\", \"2021-03-24T00:00:00\", \"2021-03-25T00:00:00\", \"2021-03-26T00:00:00\", \"2021-03-29T00:00:00\", \"2021-03-30T00:00:00\", \"2021-03-31T00:00:00\", \"2021-04-01T00:00:00\", \"2021-04-05T00:00:00\", \"2021-04-06T00:00:00\", \"2021-04-07T00:00:00\", \"2021-04-08T00:00:00\", \"2021-04-09T00:00:00\", \"2021-04-12T00:00:00\", \"2021-04-13T00:00:00\", \"2021-04-14T00:00:00\", \"2021-04-15T00:00:00\", \"2021-04-16T00:00:00\", \"2021-04-19T00:00:00\", \"2021-04-20T00:00:00\", \"2021-04-21T00:00:00\", \"2021-04-22T00:00:00\", \"2021-04-23T00:00:00\", \"2021-04-26T00:00:00\", \"2021-04-27T00:00:00\", \"2021-04-28T00:00:00\", \"2021-04-29T00:00:00\", \"2021-04-30T00:00:00\", \"2021-05-03T00:00:00\", \"2021-05-04T00:00:00\", \"2021-05-05T00:00:00\", \"2021-05-06T00:00:00\", \"2021-05-07T00:00:00\", \"2021-05-10T00:00:00\", \"2021-05-11T00:00:00\", \"2021-05-12T00:00:00\", \"2021-05-13T00:00:00\"], \"xaxis\": \"x\", \"y\": [null, null, null, null, null, null, null, null, null, null, null, null, null, null, null, null, null, null, null, null, null, null, null, null, null, null, null, null, null, null, null, null, null, null, null, null, null, null, null, null, 205.5941232604262, 206.45898014063405, 207.30104948933084, 207.97522561986992, 208.45672721446925, 208.80351029944921, 209.04615092006026, 209.18161284867412, 209.22021290506405, 209.2088614085818, 209.1186274992794, 209.12227388333866, 209.1247537082398, 209.17393948851114, 209.47662513731873, 209.97757063852322, 210.62691973967728, 211.41268198513856, 212.2845392824449, 213.29479260128514, 214.4455674178805, 215.68212735210616, 217.0195799864039, 218.51366272401606, 220.1891820380254, 221.9344144744664, 223.71758590146828, 225.4838757486645, 227.18558183548532, 228.97513587799807, 230.69874381359082, 232.35366547730158, 233.9699018475293, 235.55224056279118, 237.0578882260012, 238.39643311638525, 239.72567325971406, 241.0352918048218, 242.3275479066137, 243.52340010074082, 244.58741186146221, 245.53352201136562, 246.46893319258723, 247.35880977456964, 248.0893107905648, 248.7567193552867, 249.3287798028095, 249.80347757674846, 250.2174017169966, 250.52084078810893, 250.7984231758291, 251.045430957316, 251.20776859494043, 251.31893850559524, 251.38305554786186, 251.49001858618942, 251.6296354788303, 251.74178562949822, 251.8016996661591, 251.78938169233885, 251.7093656482994, 251.61356185788722, 251.69711162780584, 251.71486399146835, 251.67828851917776, 251.72497264784872, 251.78342774137244, 251.83109979550818, 251.97630260386447, 252.11430282621626, 252.29673281528937, 252.53168300730658, 252.80938669400723], \"yaxis\": \"y\"}, {\"line\": {\"color\": \"red\", \"width\": 1}, \"mode\": \"lines\", \"name\": \"Lower Support 1\", \"type\": \"scatter\", \"x\": [\"2020-12-01T00:00:00\", \"2020-12-02T00:00:00\", \"2020-12-03T00:00:00\", \"2020-12-04T00:00:00\", \"2020-12-07T00:00:00\", \"2020-12-08T00:00:00\", \"2020-12-09T00:00:00\", \"2020-12-10T00:00:00\", \"2020-12-11T00:00:00\", \"2020-12-14T00:00:00\", \"2020-12-15T00:00:00\", \"2020-12-16T00:00:00\", \"2020-12-17T00:00:00\", \"2020-12-18T00:00:00\", \"2020-12-21T00:00:00\", \"2020-12-22T00:00:00\", \"2020-12-23T00:00:00\", \"2020-12-24T00:00:00\", \"2020-12-28T00:00:00\", \"2020-12-29T00:00:00\", \"2020-12-30T00:00:00\", \"2020-12-31T00:00:00\", \"2021-01-04T00:00:00\", \"2021-01-05T00:00:00\", \"2021-01-06T00:00:00\", \"2021-01-07T00:00:00\", \"2021-01-08T00:00:00\", \"2021-01-11T00:00:00\", \"2021-01-12T00:00:00\", \"2021-01-13T00:00:00\", \"2021-01-14T00:00:00\", \"2021-01-15T00:00:00\", \"2021-01-19T00:00:00\", \"2021-01-20T00:00:00\", \"2021-01-21T00:00:00\", \"2021-01-22T00:00:00\", \"2021-01-25T00:00:00\", \"2021-01-26T00:00:00\", \"2021-01-27T00:00:00\", \"2021-01-28T00:00:00\", \"2021-01-29T00:00:00\", \"2021-02-01T00:00:00\", \"2021-02-02T00:00:00\", \"2021-02-03T00:00:00\", \"2021-02-04T00:00:00\", \"2021-02-05T00:00:00\", \"2021-02-08T00:00:00\", \"2021-02-09T00:00:00\", \"2021-02-10T00:00:00\", \"2021-02-11T00:00:00\", \"2021-02-12T00:00:00\", \"2021-02-16T00:00:00\", \"2021-02-17T00:00:00\", \"2021-02-18T00:00:00\", \"2021-02-19T00:00:00\", \"2021-02-22T00:00:00\", \"2021-02-23T00:00:00\", \"2021-02-24T00:00:00\", \"2021-02-25T00:00:00\", \"2021-02-26T00:00:00\", \"2021-03-01T00:00:00\", \"2021-03-02T00:00:00\", \"2021-03-03T00:00:00\", \"2021-03-04T00:00:00\", \"2021-03-05T00:00:00\", \"2021-03-08T00:00:00\", \"2021-03-09T00:00:00\", \"2021-03-10T00:00:00\", \"2021-03-11T00:00:00\", \"2021-03-12T00:00:00\", \"2021-03-15T00:00:00\", \"2021-03-16T00:00:00\", \"2021-03-17T00:00:00\", \"2021-03-18T00:00:00\", \"2021-03-19T00:00:00\", \"2021-03-22T00:00:00\", \"2021-03-23T00:00:00\", \"2021-03-24T00:00:00\", \"2021-03-25T00:00:00\", \"2021-03-26T00:00:00\", \"2021-03-29T00:00:00\", \"2021-03-30T00:00:00\", \"2021-03-31T00:00:00\", \"2021-04-01T00:00:00\", \"2021-04-05T00:00:00\", \"2021-04-06T00:00:00\", \"2021-04-07T00:00:00\", \"2021-04-08T00:00:00\", \"2021-04-09T00:00:00\", \"2021-04-12T00:00:00\", \"2021-04-13T00:00:00\", \"2021-04-14T00:00:00\", \"2021-04-15T00:00:00\", \"2021-04-16T00:00:00\", \"2021-04-19T00:00:00\", \"2021-04-20T00:00:00\", \"2021-04-21T00:00:00\", \"2021-04-22T00:00:00\", \"2021-04-23T00:00:00\", \"2021-04-26T00:00:00\", \"2021-04-27T00:00:00\", \"2021-04-28T00:00:00\", \"2021-04-29T00:00:00\", \"2021-04-30T00:00:00\", \"2021-05-03T00:00:00\", \"2021-05-04T00:00:00\", \"2021-05-05T00:00:00\", \"2021-05-06T00:00:00\", \"2021-05-07T00:00:00\", \"2021-05-10T00:00:00\", \"2021-05-11T00:00:00\", \"2021-05-12T00:00:00\", \"2021-05-13T00:00:00\"], \"xaxis\": \"x\", \"y\": [null, null, null, null, null, null, null, null, null, null, null, null, null, null, null, null, null, null, null, null, null, null, null, null, null, null, null, null, null, null, null, null, null, null, null, null, null, null, null, null, 164.25192140366087, 164.76809117331143, 164.95642778972797, 165.38162497418818, 165.84698515646917, 166.12825761062402, 166.30882320742776, 166.47682132465872, 166.6292780129075, 166.72491247807184, 166.97665261692578, 166.88651398054856, 167.09361857184, 167.28465661426281, 166.9827274312943, 166.77904785326615, 166.76010099929266, 166.88766698851526, 167.2995336434748, 167.7392906084601, 168.29483572740372, 169.1181820581539, 170.0261090956872, 170.84417466059725, 171.63470737363645, 172.693734583997, 173.81953620112716, 175.0603755152721, 176.39663973013612, 177.2778016238785, 178.41838919216664, 179.51256955953417, 180.4808148297766, 181.38264190762177, 182.34203334480722, 183.50228524848347, 184.24959104427782, 184.92806762374883, 185.51574937812637, 186.2839040409474, 187.16683308497434, 188.04962945838005, 188.67461956536945, 189.2818241546619, 190.13841263465366, 190.78715947415807, 191.50983221530768, 192.3094752420606, 193.08089497667, 194.0367839407974, 194.81894595568627, 195.6226312051683, 196.57727352782612, 197.49104233179776, 198.4244292496879, 199.1065689447197, 199.72543091410458, 200.4188500497811, 201.14158314051696, 201.901375131233, 202.6496372173997, 203.2661447605946, 203.26247963535468, 203.6758811272126, 204.05381243838553, 204.04079374804547, 204.11559084503642, 204.21526637868945, 204.02770216295508, 204.0561332780637, 203.98699410605823, 203.89220143537096, 203.82373058210197], \"yaxis\": \"y\"}, {\"fill\": \"tonexty\", \"line\": {\"color\": \"red\", \"width\": 1}, \"mode\": \"lines\", \"name\": \"Lower Support 2\", \"type\": \"scatter\", \"x\": [\"2020-12-01T00:00:00\", \"2020-12-02T00:00:00\", \"2020-12-03T00:00:00\", \"2020-12-04T00:00:00\", \"2020-12-07T00:00:00\", \"2020-12-08T00:00:00\", \"2020-12-09T00:00:00\", \"2020-12-10T00:00:00\", \"2020-12-11T00:00:00\", \"2020-12-14T00:00:00\", \"2020-12-15T00:00:00\", \"2020-12-16T00:00:00\", \"2020-12-17T00:00:00\", \"2020-12-18T00:00:00\", \"2020-12-21T00:00:00\", \"2020-12-22T00:00:00\", \"2020-12-23T00:00:00\", \"2020-12-24T00:00:00\", \"2020-12-28T00:00:00\", \"2020-12-29T00:00:00\", \"2020-12-30T00:00:00\", \"2020-12-31T00:00:00\", \"2021-01-04T00:00:00\", \"2021-01-05T00:00:00\", \"2021-01-06T00:00:00\", \"2021-01-07T00:00:00\", \"2021-01-08T00:00:00\", \"2021-01-11T00:00:00\", \"2021-01-12T00:00:00\", \"2021-01-13T00:00:00\", \"2021-01-14T00:00:00\", \"2021-01-15T00:00:00\", \"2021-01-19T00:00:00\", \"2021-01-20T00:00:00\", \"2021-01-21T00:00:00\", \"2021-01-22T00:00:00\", \"2021-01-25T00:00:00\", \"2021-01-26T00:00:00\", \"2021-01-27T00:00:00\", \"2021-01-28T00:00:00\", \"2021-01-29T00:00:00\", \"2021-02-01T00:00:00\", \"2021-02-02T00:00:00\", \"2021-02-03T00:00:00\", \"2021-02-04T00:00:00\", \"2021-02-05T00:00:00\", \"2021-02-08T00:00:00\", \"2021-02-09T00:00:00\", \"2021-02-10T00:00:00\", \"2021-02-11T00:00:00\", \"2021-02-12T00:00:00\", \"2021-02-16T00:00:00\", \"2021-02-17T00:00:00\", \"2021-02-18T00:00:00\", \"2021-02-19T00:00:00\", \"2021-02-22T00:00:00\", \"2021-02-23T00:00:00\", \"2021-02-24T00:00:00\", \"2021-02-25T00:00:00\", \"2021-02-26T00:00:00\", \"2021-03-01T00:00:00\", \"2021-03-02T00:00:00\", \"2021-03-03T00:00:00\", \"2021-03-04T00:00:00\", \"2021-03-05T00:00:00\", \"2021-03-08T00:00:00\", \"2021-03-09T00:00:00\", \"2021-03-10T00:00:00\", \"2021-03-11T00:00:00\", \"2021-03-12T00:00:00\", \"2021-03-15T00:00:00\", \"2021-03-16T00:00:00\", \"2021-03-17T00:00:00\", \"2021-03-18T00:00:00\", \"2021-03-19T00:00:00\", \"2021-03-22T00:00:00\", \"2021-03-23T00:00:00\", \"2021-03-24T00:00:00\", \"2021-03-25T00:00:00\", \"2021-03-26T00:00:00\", \"2021-03-29T00:00:00\", \"2021-03-30T00:00:00\", \"2021-03-31T00:00:00\", \"2021-04-01T00:00:00\", \"2021-04-05T00:00:00\", \"2021-04-06T00:00:00\", \"2021-04-07T00:00:00\", \"2021-04-08T00:00:00\", \"2021-04-09T00:00:00\", \"2021-04-12T00:00:00\", \"2021-04-13T00:00:00\", \"2021-04-14T00:00:00\", \"2021-04-15T00:00:00\", \"2021-04-16T00:00:00\", \"2021-04-19T00:00:00\", \"2021-04-20T00:00:00\", \"2021-04-21T00:00:00\", \"2021-04-22T00:00:00\", \"2021-04-23T00:00:00\", \"2021-04-26T00:00:00\", \"2021-04-27T00:00:00\", \"2021-04-28T00:00:00\", \"2021-04-29T00:00:00\", \"2021-04-30T00:00:00\", \"2021-05-03T00:00:00\", \"2021-05-04T00:00:00\", \"2021-05-05T00:00:00\", \"2021-05-06T00:00:00\", \"2021-05-07T00:00:00\", \"2021-05-10T00:00:00\", \"2021-05-11T00:00:00\", \"2021-05-12T00:00:00\", \"2021-05-13T00:00:00\"], \"xaxis\": \"x\", \"y\": [null, null, null, null, null, null, null, null, null, null, null, null, null, null, null, null, null, null, null, null, null, null, null, null, null, null, null, null, null, null, null, null, null, null, null, null, null, null, null, null, 169.0640694463873, 169.5784818848468, 169.94320509591145, 170.28499981051314, 170.6167586714669, 170.8740743493313, 171.04373831861116, 171.1609008613186, 171.24866933231533, 171.31355617913022, 171.43086270136254, 171.4821884842589, 171.61278322336872, 171.7925784057537, 171.8500683097428, 171.88387387493617, 171.98448817255957, 172.19128316026064, 172.57168473366784, 173.07724224548951, 173.70113126146467, 174.4916304212017, 175.40787347860774, 176.36632366766187, 177.3436363718007, 178.4215647284576, 179.5702450077359, 180.78634460290192, 182.05967723020186, 183.19869340870295, 184.3416950858484, 185.46123606535525, 186.52217636851148, 187.52182129097997, 188.50520241485907, 189.54081739086757, 190.4505590829121, 191.25853703405656, 191.9726856417881, 192.6987073350921, 193.47119002808722, 194.26646286424887, 194.98562555491787, 195.64604674352827, 196.35389257804303, 197.01397760592891, 197.6696504760836, 198.35922784145788, 199.06359697782796, 199.84529532340343, 200.61018141729537, 201.36949960187894, 202.17748352180965, 202.99839115253556, 203.83284877832637, 204.58139148318628, 205.2538285967384, 205.90554527829093, 206.54587246642933, 207.1850189171401, 207.81319006936724, 208.39020825801276, 208.7161337760772, 209.03639735481235, 209.335739920493, 209.4840206528141, 209.58164450756078, 209.65805467801528, 209.6277952451232, 209.6174692419703, 209.59083698000921, 209.55276785613262, 209.52060685064785], \"yaxis\": \"y\"}, {\"marker\": {\"color\": [0, 0, 0, 0, 0, 0, 0, 0, 0, 0, 0, 0, 0, 0, 0, 0, 0, 0, 0, 1, 1, 1, 1, 1, 0, 0, 0, 0, 0, 0, 0, 0, 0, 0, 0, 0, 0, 0, 0, 0, 0, 0, 0, 0, 0, 0, 0, 0, 0, 0, 0, 0, 0, 0, 0, 0, 0, 0, 0, 0, 0, 0, 0, 0, 0, 0, 0, 0, 0, 0, 0, 0, 0, 0, 0, 0, 0, 0, 0, 0, 0, 0, 0, 0, 0, 0, 0, 0, 0, 0, 0, 0, 0, 0, 0, 0, 0, 1, 1, 1, 1, 1, 1, 1, 1, 1, 1, 1, 1, 0, 0, 0, 0], \"size\": 6}, \"mode\": \"markers\", \"name\": \"Volatility & Momentum\", \"type\": \"scatter\", \"x\": [\"2020-12-01T00:00:00\", \"2020-12-02T00:00:00\", \"2020-12-03T00:00:00\", \"2020-12-04T00:00:00\", \"2020-12-07T00:00:00\", \"2020-12-08T00:00:00\", \"2020-12-09T00:00:00\", \"2020-12-10T00:00:00\", \"2020-12-11T00:00:00\", \"2020-12-14T00:00:00\", \"2020-12-15T00:00:00\", \"2020-12-16T00:00:00\", \"2020-12-17T00:00:00\", \"2020-12-18T00:00:00\", \"2020-12-21T00:00:00\", \"2020-12-22T00:00:00\", \"2020-12-23T00:00:00\", \"2020-12-24T00:00:00\", \"2020-12-28T00:00:00\", \"2020-12-29T00:00:00\", \"2020-12-30T00:00:00\", \"2020-12-31T00:00:00\", \"2021-01-04T00:00:00\", \"2021-01-05T00:00:00\", \"2021-01-06T00:00:00\", \"2021-01-07T00:00:00\", \"2021-01-08T00:00:00\", \"2021-01-11T00:00:00\", \"2021-01-12T00:00:00\", \"2021-01-13T00:00:00\", \"2021-01-14T00:00:00\", \"2021-01-15T00:00:00\", \"2021-01-19T00:00:00\", \"2021-01-20T00:00:00\", \"2021-01-21T00:00:00\", \"2021-01-22T00:00:00\", \"2021-01-25T00:00:00\", \"2021-01-26T00:00:00\", \"2021-01-27T00:00:00\", \"2021-01-28T00:00:00\", \"2021-01-29T00:00:00\", \"2021-02-01T00:00:00\", \"2021-02-02T00:00:00\", \"2021-02-03T00:00:00\", \"2021-02-04T00:00:00\", \"2021-02-05T00:00:00\", \"2021-02-08T00:00:00\", \"2021-02-09T00:00:00\", \"2021-02-10T00:00:00\", \"2021-02-11T00:00:00\", \"2021-02-12T00:00:00\", \"2021-02-16T00:00:00\", \"2021-02-17T00:00:00\", \"2021-02-18T00:00:00\", \"2021-02-19T00:00:00\", \"2021-02-22T00:00:00\", \"2021-02-23T00:00:00\", \"2021-02-24T00:00:00\", \"2021-02-25T00:00:00\", \"2021-02-26T00:00:00\", \"2021-03-01T00:00:00\", \"2021-03-02T00:00:00\", \"2021-03-03T00:00:00\", \"2021-03-04T00:00:00\", \"2021-03-05T00:00:00\", \"2021-03-08T00:00:00\", \"2021-03-09T00:00:00\", \"2021-03-10T00:00:00\", \"2021-03-11T00:00:00\", \"2021-03-12T00:00:00\", \"2021-03-15T00:00:00\", \"2021-03-16T00:00:00\", \"2021-03-17T00:00:00\", \"2021-03-18T00:00:00\", \"2021-03-19T00:00:00\", \"2021-03-22T00:00:00\", \"2021-03-23T00:00:00\", \"2021-03-24T00:00:00\", \"2021-03-25T00:00:00\", \"2021-03-26T00:00:00\", \"2021-03-29T00:00:00\", \"2021-03-30T00:00:00\", \"2021-03-31T00:00:00\", \"2021-04-01T00:00:00\", \"2021-04-05T00:00:00\", \"2021-04-06T00:00:00\", \"2021-04-07T00:00:00\", \"2021-04-08T00:00:00\", \"2021-04-09T00:00:00\", \"2021-04-12T00:00:00\", \"2021-04-13T00:00:00\", \"2021-04-14T00:00:00\", \"2021-04-15T00:00:00\", \"2021-04-16T00:00:00\", \"2021-04-19T00:00:00\", \"2021-04-20T00:00:00\", \"2021-04-21T00:00:00\", \"2021-04-22T00:00:00\", \"2021-04-23T00:00:00\", \"2021-04-26T00:00:00\", \"2021-04-27T00:00:00\", \"2021-04-28T00:00:00\", \"2021-04-29T00:00:00\", \"2021-04-30T00:00:00\", \"2021-05-03T00:00:00\", \"2021-05-04T00:00:00\", \"2021-05-05T00:00:00\", \"2021-05-06T00:00:00\", \"2021-05-07T00:00:00\", \"2021-05-10T00:00:00\", \"2021-05-11T00:00:00\", \"2021-05-12T00:00:00\", \"2021-05-13T00:00:00\"], \"xaxis\": \"x2\", \"y\": [173.25999450683594, 173.8699951171875, 174.6300048828125, 182.2100067138672, 178.7100067138672, 178.83999633789062, 180.07000732421875, 178.85000610351562, 179.2899932861328, 178.0500030517578, 181.74000549316406, 179.5, 179.1699981689453, 180.9600067138672, 180.16000366210938, 176.5800018310547, 178.4199981689453, 179.55999755859375, 178.3699951171875, 176.64999389648438, 180.0399932861328, 182.02000427246094, 182.14999389648438, 183.63999938964844, 193.86000061035156, 194.22999572753906, 194.25999450683594, 193.86000061035156, 197.5399932861328, 195.88999938964844, 197.39999389648438, 194.6199951171875, 194.05999755859375, 192.33999633789062, 192.19000244140625, 191.94000244140625, 187.33999633789062, 187.2100067138672, 180.6300048828125, 184.33999633789062, 182.83999633789062, 184.72000122070312, 192.5, 191.4499969482422, 191.64999389648438, 193.0, 197.4499969482422, 197.27999877929688, 197.72000122070312, 198.35000610351562, 197.99000549316406, 202.3800048828125, 202.3000030517578, 199.9199981689453, 209.91000366210938, 218.05999755859375, 220.17999267578125, 222.47000122070312, 221.82000732421875, 215.8800048828125, 219.75999450683594, 215.82000732421875, 214.91000366210938, 212.77000427246094, 220.16000366210938, 221.5800018310547, 216.8000030517578, 221.05999755859375, 219.75999450683594, 229.0, 230.74000549316406, 226.4600067138672, 233.6300048828125, 230.67999267578125, 225.2899932861328, 226.02000427246094, 218.25, 221.22999572753906, 224.25, 229.5, 230.22000122070312, 233.0800018310547, 231.8699951171875, 232.74000549316406, 233.7100067138672, 230.63999938964844, 230.41000366210938, 230.47999572753906, 230.75, 230.92999267578125, 229.35000610351562, 232.5800018310547, 232.52000427246094, 233.36000061035156, 232.38999938964844, 227.6300048828125, 232.4600067138672, 228.88999938964844, 230.11000061035156, 230.55999755859375, 230.33999633789062, 232.3000030517578, 227.47000122070312, 228.11000061035156, 228.1699981689453, 233.41000366210938, 237.8800048828125, 237.07000732421875, 240.99000549316406, 242.61000061035156, 239.3000030517578, 237.32000732421875, 240.07000732421875], \"yaxis\": \"y2\"}, {\"fill\": \"tozeroy\", \"line\": {\"color\": \"black\", \"width\": 1}, \"name\": \"Momentum\", \"opacity\": 0.4, \"type\": \"scatter\", \"x\": [\"2020-12-01T00:00:00\", \"2020-12-02T00:00:00\", \"2020-12-03T00:00:00\", \"2020-12-04T00:00:00\", \"2020-12-07T00:00:00\", \"2020-12-08T00:00:00\", \"2020-12-09T00:00:00\", \"2020-12-10T00:00:00\", \"2020-12-11T00:00:00\", \"2020-12-14T00:00:00\", \"2020-12-15T00:00:00\", \"2020-12-16T00:00:00\", \"2020-12-17T00:00:00\", \"2020-12-18T00:00:00\", \"2020-12-21T00:00:00\", \"2020-12-22T00:00:00\", \"2020-12-23T00:00:00\", \"2020-12-24T00:00:00\", \"2020-12-28T00:00:00\", \"2020-12-29T00:00:00\", \"2020-12-30T00:00:00\", \"2020-12-31T00:00:00\", \"2021-01-04T00:00:00\", \"2021-01-05T00:00:00\", \"2021-01-06T00:00:00\", \"2021-01-07T00:00:00\", \"2021-01-08T00:00:00\", \"2021-01-11T00:00:00\", \"2021-01-12T00:00:00\", \"2021-01-13T00:00:00\", \"2021-01-14T00:00:00\", \"2021-01-15T00:00:00\", \"2021-01-19T00:00:00\", \"2021-01-20T00:00:00\", \"2021-01-21T00:00:00\", \"2021-01-22T00:00:00\", \"2021-01-25T00:00:00\", \"2021-01-26T00:00:00\", \"2021-01-27T00:00:00\", \"2021-01-28T00:00:00\", \"2021-01-29T00:00:00\", \"2021-02-01T00:00:00\", \"2021-02-02T00:00:00\", \"2021-02-03T00:00:00\", \"2021-02-04T00:00:00\", \"2021-02-05T00:00:00\", \"2021-02-08T00:00:00\", \"2021-02-09T00:00:00\", \"2021-02-10T00:00:00\", \"2021-02-11T00:00:00\", \"2021-02-12T00:00:00\", \"2021-02-16T00:00:00\", \"2021-02-17T00:00:00\", \"2021-02-18T00:00:00\", \"2021-02-19T00:00:00\", \"2021-02-22T00:00:00\", \"2021-02-23T00:00:00\", \"2021-02-24T00:00:00\", \"2021-02-25T00:00:00\", \"2021-02-26T00:00:00\", \"2021-03-01T00:00:00\", \"2021-03-02T00:00:00\", \"2021-03-03T00:00:00\", \"2021-03-04T00:00:00\", \"2021-03-05T00:00:00\", \"2021-03-08T00:00:00\", \"2021-03-09T00:00:00\", \"2021-03-10T00:00:00\", \"2021-03-11T00:00:00\", \"2021-03-12T00:00:00\", \"2021-03-15T00:00:00\", \"2021-03-16T00:00:00\", \"2021-03-17T00:00:00\", \"2021-03-18T00:00:00\", \"2021-03-19T00:00:00\", \"2021-03-22T00:00:00\", \"2021-03-23T00:00:00\", \"2021-03-24T00:00:00\", \"2021-03-25T00:00:00\", \"2021-03-26T00:00:00\", \"2021-03-29T00:00:00\", \"2021-03-30T00:00:00\", \"2021-03-31T00:00:00\", \"2021-04-01T00:00:00\", \"2021-04-05T00:00:00\", \"2021-04-06T00:00:00\", \"2021-04-07T00:00:00\", \"2021-04-08T00:00:00\", \"2021-04-09T00:00:00\", \"2021-04-12T00:00:00\", \"2021-04-13T00:00:00\", \"2021-04-14T00:00:00\", \"2021-04-15T00:00:00\", \"2021-04-16T00:00:00\", \"2021-04-19T00:00:00\", \"2021-04-20T00:00:00\", \"2021-04-21T00:00:00\", \"2021-04-22T00:00:00\", \"2021-04-23T00:00:00\", \"2021-04-26T00:00:00\", \"2021-04-27T00:00:00\", \"2021-04-28T00:00:00\", \"2021-04-29T00:00:00\", \"2021-04-30T00:00:00\", \"2021-05-03T00:00:00\", \"2021-05-04T00:00:00\", \"2021-05-05T00:00:00\", \"2021-05-06T00:00:00\", \"2021-05-07T00:00:00\", \"2021-05-10T00:00:00\", \"2021-05-11T00:00:00\", \"2021-05-12T00:00:00\", \"2021-05-13T00:00:00\"], \"xaxis\": \"x2\", \"y\": [null, null, null, null, null, null, 242.6100006103516, 236.76879858627817, 219.7386057451493, 175.75174616953694, 143.44729064207147, 131.89320032701747, 147.29577674644705, 156.85715114180317, 158.4847675635025, 160.1123839852018, 134.7833336724176, 89.19477067900203, 43.6062076855865, 24.974311426654452, 30.222691578399893, 62.427738464628845, 121.58945208534132, 188.88630166149494, 229.2264845031651, 242.61000061035168, 242.61000061035168, 242.61000061035168, 242.61000061035168, 242.61000061035168, 242.61000061035168, 242.61000061035168, 242.61000061035168, 236.16464679718982, 202.76262624954452, 142.40393896741568, 67.97929257712698, 20.5113129213218, 1.149231823709592e-13, 1.149231823709592e-13, 1.149231823709592e-13, 1.149231823709592e-13, 21.877769334115683, 70.71220540271476, 146.50330820579737, 205.49553907513234, 237.53110320998377, 242.61000061035173, 242.61000061035173, 242.61000061035173, 242.61000061035173, 242.61000061035173, 242.61000061035173, 242.61000061035173, 242.61000061035173, 242.61000061035173, 242.61000061035173, 242.61000061035173, 242.61000061035173, 242.61000061035173, 242.61000061035173, 242.61000061035173, 242.61000061035173, 215.65333387586824, 188.69666714138472, 161.74000040690123, 186.0556274866299, 210.3712545663586, 234.68688164608727, 237.3279213008421, 239.9689609555969, 242.61000061035173, 242.61000061035173, 242.61000061035173, 230.14526415354092, 190.72386096224662, 124.34579103646882, 55.94052728982908, 14.491930277672862, 12.929356907546232, 52.81538054957582, 119.6580709260889, 187.59871422199336, 228.5826907834143, 242.61000061035173, 215.65333387586824, 161.7400004069012, 80.87000020345067, 26.95666673448364, 1.3216165972660307e-13, 1.3216165972660307e-13, 1.3216165972660307e-13, 1.3216165972660307e-13, 1.3216165972660307e-13, 1.3216165972660307e-13, 1.3216165972660307e-13, 1.3216165972660307e-13, 1.3216165972660307e-13, 1.3216165972660307e-13, 1.3216165972660307e-13, 1.3216165972660307e-13, 1.3216165972660307e-13, 1.3216165972660307e-13, 1.3216165972660307e-13, 1.3216165972660307e-13, 1.3216165972660307e-13, 26.95666673448364, 80.87000020345067, 161.7400004069012, 215.65333387586824, 242.61000061035173, 221.32569413560452, 200.04138766085734], \"yaxis\": \"y2\"}, {\"line\": {\"color\": \"black\", \"width\": 1}, \"mode\": \"lines\", \"name\": \"Midline\", \"type\": \"scatter\", \"x\": [\"2020-12-01T00:00:00\", \"2020-12-02T00:00:00\", \"2020-12-03T00:00:00\", \"2020-12-04T00:00:00\", \"2020-12-07T00:00:00\", \"2020-12-08T00:00:00\", \"2020-12-09T00:00:00\", \"2020-12-10T00:00:00\", \"2020-12-11T00:00:00\", \"2020-12-14T00:00:00\", \"2020-12-15T00:00:00\", \"2020-12-16T00:00:00\", \"2020-12-17T00:00:00\", \"2020-12-18T00:00:00\", \"2020-12-21T00:00:00\", \"2020-12-22T00:00:00\", \"2020-12-23T00:00:00\", \"2020-12-24T00:00:00\", \"2020-12-28T00:00:00\", \"2020-12-29T00:00:00\", \"2020-12-30T00:00:00\", \"2020-12-31T00:00:00\", \"2021-01-04T00:00:00\", \"2021-01-05T00:00:00\", \"2021-01-06T00:00:00\", \"2021-01-07T00:00:00\", \"2021-01-08T00:00:00\", \"2021-01-11T00:00:00\", \"2021-01-12T00:00:00\", \"2021-01-13T00:00:00\", \"2021-01-14T00:00:00\", \"2021-01-15T00:00:00\", \"2021-01-19T00:00:00\", \"2021-01-20T00:00:00\", \"2021-01-21T00:00:00\", \"2021-01-22T00:00:00\", \"2021-01-25T00:00:00\", \"2021-01-26T00:00:00\", \"2021-01-27T00:00:00\", \"2021-01-28T00:00:00\", \"2021-01-29T00:00:00\", \"2021-02-01T00:00:00\", \"2021-02-02T00:00:00\", \"2021-02-03T00:00:00\", \"2021-02-04T00:00:00\", \"2021-02-05T00:00:00\", \"2021-02-08T00:00:00\", \"2021-02-09T00:00:00\", \"2021-02-10T00:00:00\", \"2021-02-11T00:00:00\", \"2021-02-12T00:00:00\", \"2021-02-16T00:00:00\", \"2021-02-17T00:00:00\", \"2021-02-18T00:00:00\", \"2021-02-19T00:00:00\", \"2021-02-22T00:00:00\", \"2021-02-23T00:00:00\", \"2021-02-24T00:00:00\", \"2021-02-25T00:00:00\", \"2021-02-26T00:00:00\", \"2021-03-01T00:00:00\", \"2021-03-02T00:00:00\", \"2021-03-03T00:00:00\", \"2021-03-04T00:00:00\", \"2021-03-05T00:00:00\", \"2021-03-08T00:00:00\", \"2021-03-09T00:00:00\", \"2021-03-10T00:00:00\", \"2021-03-11T00:00:00\", \"2021-03-12T00:00:00\", \"2021-03-15T00:00:00\", \"2021-03-16T00:00:00\", \"2021-03-17T00:00:00\", \"2021-03-18T00:00:00\", \"2021-03-19T00:00:00\", \"2021-03-22T00:00:00\", \"2021-03-23T00:00:00\", \"2021-03-24T00:00:00\", \"2021-03-25T00:00:00\", \"2021-03-26T00:00:00\", \"2021-03-29T00:00:00\", \"2021-03-30T00:00:00\", \"2021-03-31T00:00:00\", \"2021-04-01T00:00:00\", \"2021-04-05T00:00:00\", \"2021-04-06T00:00:00\", \"2021-04-07T00:00:00\", \"2021-04-08T00:00:00\", \"2021-04-09T00:00:00\", \"2021-04-12T00:00:00\", \"2021-04-13T00:00:00\", \"2021-04-14T00:00:00\", \"2021-04-15T00:00:00\", \"2021-04-16T00:00:00\", \"2021-04-19T00:00:00\", \"2021-04-20T00:00:00\", \"2021-04-21T00:00:00\", \"2021-04-22T00:00:00\", \"2021-04-23T00:00:00\", \"2021-04-26T00:00:00\", \"2021-04-27T00:00:00\", \"2021-04-28T00:00:00\", \"2021-04-29T00:00:00\", \"2021-04-30T00:00:00\", \"2021-05-03T00:00:00\", \"2021-05-04T00:00:00\", \"2021-05-05T00:00:00\", \"2021-05-06T00:00:00\", \"2021-05-07T00:00:00\", \"2021-05-10T00:00:00\", \"2021-05-11T00:00:00\", \"2021-05-12T00:00:00\", \"2021-05-13T00:00:00\"], \"xaxis\": \"x2\", \"y\": [121.30500030517578, 121.30500030517578, 121.30500030517578, 121.30500030517578, 121.30500030517578, 121.30500030517578, 121.30500030517578, 121.30500030517578, 121.30500030517578, 121.30500030517578, 121.30500030517578, 121.30500030517578, 121.30500030517578, 121.30500030517578, 121.30500030517578, 121.30500030517578, 121.30500030517578, 121.30500030517578, 121.30500030517578, 121.30500030517578, 121.30500030517578, 121.30500030517578, 121.30500030517578, 121.30500030517578, 121.30500030517578, 121.30500030517578, 121.30500030517578, 121.30500030517578, 121.30500030517578, 121.30500030517578, 121.30500030517578, 121.30500030517578, 121.30500030517578, 121.30500030517578, 121.30500030517578, 121.30500030517578, 121.30500030517578, 121.30500030517578, 121.30500030517578, 121.30500030517578, 121.30500030517578, 121.30500030517578, 121.30500030517578, 121.30500030517578, 121.30500030517578, 121.30500030517578, 121.30500030517578, 121.30500030517578, 121.30500030517578, 121.30500030517578, 121.30500030517578, 121.30500030517578, 121.30500030517578, 121.30500030517578, 121.30500030517578, 121.30500030517578, 121.30500030517578, 121.30500030517578, 121.30500030517578, 121.30500030517578, 121.30500030517578, 121.30500030517578, 121.30500030517578, 121.30500030517578, 121.30500030517578, 121.30500030517578, 121.30500030517578, 121.30500030517578, 121.30500030517578, 121.30500030517578, 121.30500030517578, 121.30500030517578, 121.30500030517578, 121.30500030517578, 121.30500030517578, 121.30500030517578, 121.30500030517578, 121.30500030517578, 121.30500030517578, 121.30500030517578, 121.30500030517578, 121.30500030517578, 121.30500030517578, 121.30500030517578, 121.30500030517578, 121.30500030517578, 121.30500030517578, 121.30500030517578, 121.30500030517578, 121.30500030517578, 121.30500030517578, 121.30500030517578, 121.30500030517578, 121.30500030517578, 121.30500030517578, 121.30500030517578, 121.30500030517578, 121.30500030517578, 121.30500030517578, 121.30500030517578, 121.30500030517578, 121.30500030517578, 121.30500030517578, 121.30500030517578, 121.30500030517578, 121.30500030517578, 121.30500030517578, 121.30500030517578, 121.30500030517578, 121.30500030517578, 121.30500030517578, 121.30500030517578, 121.30500030517578], \"yaxis\": \"y2\"}, {\"line\": {\"color\": \"red\", \"dash\": \"dot\", \"width\": 1}, \"mode\": \"lines\", \"name\": \"Upper-line\", \"type\": \"scatter\", \"x\": [\"2020-12-01T00:00:00\", \"2020-12-02T00:00:00\", \"2020-12-03T00:00:00\", \"2020-12-04T00:00:00\", \"2020-12-07T00:00:00\", \"2020-12-08T00:00:00\", \"2020-12-09T00:00:00\", \"2020-12-10T00:00:00\", \"2020-12-11T00:00:00\", \"2020-12-14T00:00:00\", \"2020-12-15T00:00:00\", \"2020-12-16T00:00:00\", \"2020-12-17T00:00:00\", \"2020-12-18T00:00:00\", \"2020-12-21T00:00:00\", \"2020-12-22T00:00:00\", \"2020-12-23T00:00:00\", \"2020-12-24T00:00:00\", \"2020-12-28T00:00:00\", \"2020-12-29T00:00:00\", \"2020-12-30T00:00:00\", \"2020-12-31T00:00:00\", \"2021-01-04T00:00:00\", \"2021-01-05T00:00:00\", \"2021-01-06T00:00:00\", \"2021-01-07T00:00:00\", \"2021-01-08T00:00:00\", \"2021-01-11T00:00:00\", \"2021-01-12T00:00:00\", \"2021-01-13T00:00:00\", \"2021-01-14T00:00:00\", \"2021-01-15T00:00:00\", \"2021-01-19T00:00:00\", \"2021-01-20T00:00:00\", \"2021-01-21T00:00:00\", \"2021-01-22T00:00:00\", \"2021-01-25T00:00:00\", \"2021-01-26T00:00:00\", \"2021-01-27T00:00:00\", \"2021-01-28T00:00:00\", \"2021-01-29T00:00:00\", \"2021-02-01T00:00:00\", \"2021-02-02T00:00:00\", \"2021-02-03T00:00:00\", \"2021-02-04T00:00:00\", \"2021-02-05T00:00:00\", \"2021-02-08T00:00:00\", \"2021-02-09T00:00:00\", \"2021-02-10T00:00:00\", \"2021-02-11T00:00:00\", \"2021-02-12T00:00:00\", \"2021-02-16T00:00:00\", \"2021-02-17T00:00:00\", \"2021-02-18T00:00:00\", \"2021-02-19T00:00:00\", \"2021-02-22T00:00:00\", \"2021-02-23T00:00:00\", \"2021-02-24T00:00:00\", \"2021-02-25T00:00:00\", \"2021-02-26T00:00:00\", \"2021-03-01T00:00:00\", \"2021-03-02T00:00:00\", \"2021-03-03T00:00:00\", \"2021-03-04T00:00:00\", \"2021-03-05T00:00:00\", \"2021-03-08T00:00:00\", \"2021-03-09T00:00:00\", \"2021-03-10T00:00:00\", \"2021-03-11T00:00:00\", \"2021-03-12T00:00:00\", \"2021-03-15T00:00:00\", \"2021-03-16T00:00:00\", \"2021-03-17T00:00:00\", \"2021-03-18T00:00:00\", \"2021-03-19T00:00:00\", \"2021-03-22T00:00:00\", \"2021-03-23T00:00:00\", \"2021-03-24T00:00:00\", \"2021-03-25T00:00:00\", \"2021-03-26T00:00:00\", \"2021-03-29T00:00:00\", \"2021-03-30T00:00:00\", \"2021-03-31T00:00:00\", \"2021-04-01T00:00:00\", \"2021-04-05T00:00:00\", \"2021-04-06T00:00:00\", \"2021-04-07T00:00:00\", \"2021-04-08T00:00:00\", \"2021-04-09T00:00:00\", \"2021-04-12T00:00:00\", \"2021-04-13T00:00:00\", \"2021-04-14T00:00:00\", \"2021-04-15T00:00:00\", \"2021-04-16T00:00:00\", \"2021-04-19T00:00:00\", \"2021-04-20T00:00:00\", \"2021-04-21T00:00:00\", \"2021-04-22T00:00:00\", \"2021-04-23T00:00:00\", \"2021-04-26T00:00:00\", \"2021-04-27T00:00:00\", \"2021-04-28T00:00:00\", \"2021-04-29T00:00:00\", \"2021-04-30T00:00:00\", \"2021-05-03T00:00:00\", \"2021-05-04T00:00:00\", \"2021-05-05T00:00:00\", \"2021-05-06T00:00:00\", \"2021-05-07T00:00:00\", \"2021-05-10T00:00:00\", \"2021-05-11T00:00:00\", \"2021-05-12T00:00:00\", \"2021-05-13T00:00:00\"], \"xaxis\": \"x2\", \"y\": [181.95750045776367, 181.95750045776367, 181.95750045776367, 181.95750045776367, 181.95750045776367, 181.95750045776367, 181.95750045776367, 181.95750045776367, 181.95750045776367, 181.95750045776367, 181.95750045776367, 181.95750045776367, 181.95750045776367, 181.95750045776367, 181.95750045776367, 181.95750045776367, 181.95750045776367, 181.95750045776367, 181.95750045776367, 181.95750045776367, 181.95750045776367, 181.95750045776367, 181.95750045776367, 181.95750045776367, 181.95750045776367, 181.95750045776367, 181.95750045776367, 181.95750045776367, 181.95750045776367, 181.95750045776367, 181.95750045776367, 181.95750045776367, 181.95750045776367, 181.95750045776367, 181.95750045776367, 181.95750045776367, 181.95750045776367, 181.95750045776367, 181.95750045776367, 181.95750045776367, 181.95750045776367, 181.95750045776367, 181.95750045776367, 181.95750045776367, 181.95750045776367, 181.95750045776367, 181.95750045776367, 181.95750045776367, 181.95750045776367, 181.95750045776367, 181.95750045776367, 181.95750045776367, 181.95750045776367, 181.95750045776367, 181.95750045776367, 181.95750045776367, 181.95750045776367, 181.95750045776367, 181.95750045776367, 181.95750045776367, 181.95750045776367, 181.95750045776367, 181.95750045776367, 181.95750045776367, 181.95750045776367, 181.95750045776367, 181.95750045776367, 181.95750045776367, 181.95750045776367, 181.95750045776367, 181.95750045776367, 181.95750045776367, 181.95750045776367, 181.95750045776367, 181.95750045776367, 181.95750045776367, 181.95750045776367, 181.95750045776367, 181.95750045776367, 181.95750045776367, 181.95750045776367, 181.95750045776367, 181.95750045776367, 181.95750045776367, 181.95750045776367, 181.95750045776367, 181.95750045776367, 181.95750045776367, 181.95750045776367, 181.95750045776367, 181.95750045776367, 181.95750045776367, 181.95750045776367, 181.95750045776367, 181.95750045776367, 181.95750045776367, 181.95750045776367, 181.95750045776367, 181.95750045776367, 181.95750045776367, 181.95750045776367, 181.95750045776367, 181.95750045776367, 181.95750045776367, 181.95750045776367, 181.95750045776367, 181.95750045776367, 181.95750045776367, 181.95750045776367, 181.95750045776367, 181.95750045776367, 181.95750045776367, 181.95750045776367], \"yaxis\": \"y2\"}, {\"line\": {\"color\": \"green\", \"dash\": \"dot\", \"width\": 1}, \"mode\": \"lines\", \"name\": \"Lower-line\", \"type\": \"scatter\", \"x\": [\"2020-12-01T00:00:00\", \"2020-12-02T00:00:00\", \"2020-12-03T00:00:00\", \"2020-12-04T00:00:00\", \"2020-12-07T00:00:00\", \"2020-12-08T00:00:00\", \"2020-12-09T00:00:00\", \"2020-12-10T00:00:00\", \"2020-12-11T00:00:00\", \"2020-12-14T00:00:00\", \"2020-12-15T00:00:00\", \"2020-12-16T00:00:00\", \"2020-12-17T00:00:00\", \"2020-12-18T00:00:00\", \"2020-12-21T00:00:00\", \"2020-12-22T00:00:00\", \"2020-12-23T00:00:00\", \"2020-12-24T00:00:00\", \"2020-12-28T00:00:00\", \"2020-12-29T00:00:00\", \"2020-12-30T00:00:00\", \"2020-12-31T00:00:00\", \"2021-01-04T00:00:00\", \"2021-01-05T00:00:00\", \"2021-01-06T00:00:00\", \"2021-01-07T00:00:00\", \"2021-01-08T00:00:00\", \"2021-01-11T00:00:00\", \"2021-01-12T00:00:00\", \"2021-01-13T00:00:00\", \"2021-01-14T00:00:00\", \"2021-01-15T00:00:00\", \"2021-01-19T00:00:00\", \"2021-01-20T00:00:00\", \"2021-01-21T00:00:00\", \"2021-01-22T00:00:00\", \"2021-01-25T00:00:00\", \"2021-01-26T00:00:00\", \"2021-01-27T00:00:00\", \"2021-01-28T00:00:00\", \"2021-01-29T00:00:00\", \"2021-02-01T00:00:00\", \"2021-02-02T00:00:00\", \"2021-02-03T00:00:00\", \"2021-02-04T00:00:00\", \"2021-02-05T00:00:00\", \"2021-02-08T00:00:00\", \"2021-02-09T00:00:00\", \"2021-02-10T00:00:00\", \"2021-02-11T00:00:00\", \"2021-02-12T00:00:00\", \"2021-02-16T00:00:00\", \"2021-02-17T00:00:00\", \"2021-02-18T00:00:00\", \"2021-02-19T00:00:00\", \"2021-02-22T00:00:00\", \"2021-02-23T00:00:00\", \"2021-02-24T00:00:00\", \"2021-02-25T00:00:00\", \"2021-02-26T00:00:00\", \"2021-03-01T00:00:00\", \"2021-03-02T00:00:00\", \"2021-03-03T00:00:00\", \"2021-03-04T00:00:00\", \"2021-03-05T00:00:00\", \"2021-03-08T00:00:00\", \"2021-03-09T00:00:00\", \"2021-03-10T00:00:00\", \"2021-03-11T00:00:00\", \"2021-03-12T00:00:00\", \"2021-03-15T00:00:00\", \"2021-03-16T00:00:00\", \"2021-03-17T00:00:00\", \"2021-03-18T00:00:00\", \"2021-03-19T00:00:00\", \"2021-03-22T00:00:00\", \"2021-03-23T00:00:00\", \"2021-03-24T00:00:00\", \"2021-03-25T00:00:00\", \"2021-03-26T00:00:00\", \"2021-03-29T00:00:00\", \"2021-03-30T00:00:00\", \"2021-03-31T00:00:00\", \"2021-04-01T00:00:00\", \"2021-04-05T00:00:00\", \"2021-04-06T00:00:00\", \"2021-04-07T00:00:00\", \"2021-04-08T00:00:00\", \"2021-04-09T00:00:00\", \"2021-04-12T00:00:00\", \"2021-04-13T00:00:00\", \"2021-04-14T00:00:00\", \"2021-04-15T00:00:00\", \"2021-04-16T00:00:00\", \"2021-04-19T00:00:00\", \"2021-04-20T00:00:00\", \"2021-04-21T00:00:00\", \"2021-04-22T00:00:00\", \"2021-04-23T00:00:00\", \"2021-04-26T00:00:00\", \"2021-04-27T00:00:00\", \"2021-04-28T00:00:00\", \"2021-04-29T00:00:00\", \"2021-04-30T00:00:00\", \"2021-05-03T00:00:00\", \"2021-05-04T00:00:00\", \"2021-05-05T00:00:00\", \"2021-05-06T00:00:00\", \"2021-05-07T00:00:00\", \"2021-05-10T00:00:00\", \"2021-05-11T00:00:00\", \"2021-05-12T00:00:00\", \"2021-05-13T00:00:00\"], \"xaxis\": \"x2\", \"y\": [60.65250015258789, 60.65250015258789, 60.65250015258789, 60.65250015258789, 60.65250015258789, 60.65250015258789, 60.65250015258789, 60.65250015258789, 60.65250015258789, 60.65250015258789, 60.65250015258789, 60.65250015258789, 60.65250015258789, 60.65250015258789, 60.65250015258789, 60.65250015258789, 60.65250015258789, 60.65250015258789, 60.65250015258789, 60.65250015258789, 60.65250015258789, 60.65250015258789, 60.65250015258789, 60.65250015258789, 60.65250015258789, 60.65250015258789, 60.65250015258789, 60.65250015258789, 60.65250015258789, 60.65250015258789, 60.65250015258789, 60.65250015258789, 60.65250015258789, 60.65250015258789, 60.65250015258789, 60.65250015258789, 60.65250015258789, 60.65250015258789, 60.65250015258789, 60.65250015258789, 60.65250015258789, 60.65250015258789, 60.65250015258789, 60.65250015258789, 60.65250015258789, 60.65250015258789, 60.65250015258789, 60.65250015258789, 60.65250015258789, 60.65250015258789, 60.65250015258789, 60.65250015258789, 60.65250015258789, 60.65250015258789, 60.65250015258789, 60.65250015258789, 60.65250015258789, 60.65250015258789, 60.65250015258789, 60.65250015258789, 60.65250015258789, 60.65250015258789, 60.65250015258789, 60.65250015258789, 60.65250015258789, 60.65250015258789, 60.65250015258789, 60.65250015258789, 60.65250015258789, 60.65250015258789, 60.65250015258789, 60.65250015258789, 60.65250015258789, 60.65250015258789, 60.65250015258789, 60.65250015258789, 60.65250015258789, 60.65250015258789, 60.65250015258789, 60.65250015258789, 60.65250015258789, 60.65250015258789, 60.65250015258789, 60.65250015258789, 60.65250015258789, 60.65250015258789, 60.65250015258789, 60.65250015258789, 60.65250015258789, 60.65250015258789, 60.65250015258789, 60.65250015258789, 60.65250015258789, 60.65250015258789, 60.65250015258789, 60.65250015258789, 60.65250015258789, 60.65250015258789, 60.65250015258789, 60.65250015258789, 60.65250015258789, 60.65250015258789, 60.65250015258789, 60.65250015258789, 60.65250015258789, 60.65250015258789, 60.65250015258789, 60.65250015258789, 60.65250015258789, 60.65250015258789, 60.65250015258789, 60.65250015258789, 60.65250015258789], \"yaxis\": \"y2\"}, {\"line\": {\"color\": \"green\", \"width\": 1}, \"mode\": \"lines\", \"name\": \"WT1\", \"type\": \"scatter\", \"x\": [\"2020-12-01T00:00:00\", \"2020-12-02T00:00:00\", \"2020-12-03T00:00:00\", \"2020-12-04T00:00:00\", \"2020-12-07T00:00:00\", \"2020-12-08T00:00:00\", \"2020-12-09T00:00:00\", \"2020-12-10T00:00:00\", \"2020-12-11T00:00:00\", \"2020-12-14T00:00:00\", \"2020-12-15T00:00:00\", \"2020-12-16T00:00:00\", \"2020-12-17T00:00:00\", \"2020-12-18T00:00:00\", \"2020-12-21T00:00:00\", \"2020-12-22T00:00:00\", \"2020-12-23T00:00:00\", \"2020-12-24T00:00:00\", \"2020-12-28T00:00:00\", \"2020-12-29T00:00:00\", \"2020-12-30T00:00:00\", \"2020-12-31T00:00:00\", \"2021-01-04T00:00:00\", \"2021-01-05T00:00:00\", \"2021-01-06T00:00:00\", \"2021-01-07T00:00:00\", \"2021-01-08T00:00:00\", \"2021-01-11T00:00:00\", \"2021-01-12T00:00:00\", \"2021-01-13T00:00:00\", \"2021-01-14T00:00:00\", \"2021-01-15T00:00:00\", \"2021-01-19T00:00:00\", \"2021-01-20T00:00:00\", \"2021-01-21T00:00:00\", \"2021-01-22T00:00:00\", \"2021-01-25T00:00:00\", \"2021-01-26T00:00:00\", \"2021-01-27T00:00:00\", \"2021-01-28T00:00:00\", \"2021-01-29T00:00:00\", \"2021-02-01T00:00:00\", \"2021-02-02T00:00:00\", \"2021-02-03T00:00:00\", \"2021-02-04T00:00:00\", \"2021-02-05T00:00:00\", \"2021-02-08T00:00:00\", \"2021-02-09T00:00:00\", \"2021-02-10T00:00:00\", \"2021-02-11T00:00:00\", \"2021-02-12T00:00:00\", \"2021-02-16T00:00:00\", \"2021-02-17T00:00:00\", \"2021-02-18T00:00:00\", \"2021-02-19T00:00:00\", \"2021-02-22T00:00:00\", \"2021-02-23T00:00:00\", \"2021-02-24T00:00:00\", \"2021-02-25T00:00:00\", \"2021-02-26T00:00:00\", \"2021-03-01T00:00:00\", \"2021-03-02T00:00:00\", \"2021-03-03T00:00:00\", \"2021-03-04T00:00:00\", \"2021-03-05T00:00:00\", \"2021-03-08T00:00:00\", \"2021-03-09T00:00:00\", \"2021-03-10T00:00:00\", \"2021-03-11T00:00:00\", \"2021-03-12T00:00:00\", \"2021-03-15T00:00:00\", \"2021-03-16T00:00:00\", \"2021-03-17T00:00:00\", \"2021-03-18T00:00:00\", \"2021-03-19T00:00:00\", \"2021-03-22T00:00:00\", \"2021-03-23T00:00:00\", \"2021-03-24T00:00:00\", \"2021-03-25T00:00:00\", \"2021-03-26T00:00:00\", \"2021-03-29T00:00:00\", \"2021-03-30T00:00:00\", \"2021-03-31T00:00:00\", \"2021-04-01T00:00:00\", \"2021-04-05T00:00:00\", \"2021-04-06T00:00:00\", \"2021-04-07T00:00:00\", \"2021-04-08T00:00:00\", \"2021-04-09T00:00:00\", \"2021-04-12T00:00:00\", \"2021-04-13T00:00:00\", \"2021-04-14T00:00:00\", \"2021-04-15T00:00:00\", \"2021-04-16T00:00:00\", \"2021-04-19T00:00:00\", \"2021-04-20T00:00:00\", \"2021-04-21T00:00:00\", \"2021-04-22T00:00:00\", \"2021-04-23T00:00:00\", \"2021-04-26T00:00:00\", \"2021-04-27T00:00:00\", \"2021-04-28T00:00:00\", \"2021-04-29T00:00:00\", \"2021-04-30T00:00:00\", \"2021-05-03T00:00:00\", \"2021-05-04T00:00:00\", \"2021-05-05T00:00:00\", \"2021-05-06T00:00:00\", \"2021-05-07T00:00:00\", \"2021-05-10T00:00:00\", \"2021-05-11T00:00:00\", \"2021-05-12T00:00:00\", \"2021-05-13T00:00:00\"], \"xaxis\": \"x3\", \"y\": [null, -121.21212121212122, -13.108018854110142, 58.677565241241, 61.822091183440534, 62.86844885823914, 61.75883539862398, 55.05073754161532, 49.18204847591456, 53.311132177038004, 61.34725903792058, 57.232196372643806, 52.09839872754971, 50.63453099239365, 42.52072397207329, 25.930697981825706, 17.104761663522428, 18.44888592802832, 19.48921023825666, 3.3572916092849523, 13.589423096501736, 23.053406929087057, 34.84761739388406, 43.29463044725204, 59.723564924267464, 68.66350098382945, 71.5645082717631, 71.77491609180417, 73.31664399373919, 73.83078448751262, 72.63611849995436, 67.73017701348061, 64.13622058285762, 57.42951511984885, 50.99505598717569, 43.99960746511894, 32.75267230756274, 22.65827811818564, 7.681376634186929, 0.2482133781808873, -5.7149417769729025, -9.750043196177963, -3.824363126568995, 1.4192288806861546, 6.714570380476982, 12.129892790908603, 21.05415043667069, 27.241905276748994, 32.2346398923497, 34.51684737821434, 36.772501851357575, 42.52543913933915, 45.25739188271402, 45.42053688215456, 51.899392201233425, 59.61141496581494, 64.51233015098634, 68.65203320375272, 69.67503892534802, 67.42889751581647, 66.21397413999402, 62.25897900182615, 57.058232252896644, 50.200460255917974, 49.2385783751754, 51.591437239486574, 49.78575459603038, 49.772643644333634, 50.03949595234972, 54.199713470171844, 59.31817837502333, 60.177853569352294, 63.09733437642981, 64.7648697330879, 59.69347674647139, 54.179534648388184, 42.57639060608314, 36.42604939375263, 29.333331017527087, 32.97377140860523, 37.31628811712443, 43.028037191068854, 45.886254482343084, 46.50486073538486, 48.77788234493873, 48.22052823790902, 45.648761465468, 40.06988777540181, 36.31698916305495, 33.499326239399196, 30.655769225106372, 33.89472661104363, 36.24272949592847, 41.75961007711951, 39.26220351402152, 25.76505321251805, 21.596493268555054, 17.90177711138733, 12.62562460759786, 14.209442892538826, 8.256841653366607, 14.06174323681172, 3.406284583221091, -8.37458777709344, -11.445783299314536, -5.1256937276907335, 12.651428352576511, 23.76959656462532, 31.33005290062135, 40.65701625974344, 42.193356685165455, 42.167153033163764, 41.140168239591645], \"yaxis\": \"y3\"}, {\"line\": {\"color\": \"red\", \"width\": 1}, \"mode\": \"lines\", \"name\": \"WT2\", \"type\": \"scatter\", \"x\": [\"2020-12-01T00:00:00\", \"2020-12-02T00:00:00\", \"2020-12-03T00:00:00\", \"2020-12-04T00:00:00\", \"2020-12-07T00:00:00\", \"2020-12-08T00:00:00\", \"2020-12-09T00:00:00\", \"2020-12-10T00:00:00\", \"2020-12-11T00:00:00\", \"2020-12-14T00:00:00\", \"2020-12-15T00:00:00\", \"2020-12-16T00:00:00\", \"2020-12-17T00:00:00\", \"2020-12-18T00:00:00\", \"2020-12-21T00:00:00\", \"2020-12-22T00:00:00\", \"2020-12-23T00:00:00\", \"2020-12-24T00:00:00\", \"2020-12-28T00:00:00\", \"2020-12-29T00:00:00\", \"2020-12-30T00:00:00\", \"2020-12-31T00:00:00\", \"2021-01-04T00:00:00\", \"2021-01-05T00:00:00\", \"2021-01-06T00:00:00\", \"2021-01-07T00:00:00\", \"2021-01-08T00:00:00\", \"2021-01-11T00:00:00\", \"2021-01-12T00:00:00\", \"2021-01-13T00:00:00\", \"2021-01-14T00:00:00\", \"2021-01-15T00:00:00\", \"2021-01-19T00:00:00\", \"2021-01-20T00:00:00\", \"2021-01-21T00:00:00\", \"2021-01-22T00:00:00\", \"2021-01-25T00:00:00\", \"2021-01-26T00:00:00\", \"2021-01-27T00:00:00\", \"2021-01-28T00:00:00\", \"2021-01-29T00:00:00\", \"2021-02-01T00:00:00\", \"2021-02-02T00:00:00\", \"2021-02-03T00:00:00\", \"2021-02-04T00:00:00\", \"2021-02-05T00:00:00\", \"2021-02-08T00:00:00\", \"2021-02-09T00:00:00\", \"2021-02-10T00:00:00\", \"2021-02-11T00:00:00\", \"2021-02-12T00:00:00\", \"2021-02-16T00:00:00\", \"2021-02-17T00:00:00\", \"2021-02-18T00:00:00\", \"2021-02-19T00:00:00\", \"2021-02-22T00:00:00\", \"2021-02-23T00:00:00\", \"2021-02-24T00:00:00\", \"2021-02-25T00:00:00\", \"2021-02-26T00:00:00\", \"2021-03-01T00:00:00\", \"2021-03-02T00:00:00\", \"2021-03-03T00:00:00\", \"2021-03-04T00:00:00\", \"2021-03-05T00:00:00\", \"2021-03-08T00:00:00\", \"2021-03-09T00:00:00\", \"2021-03-10T00:00:00\", \"2021-03-11T00:00:00\", \"2021-03-12T00:00:00\", \"2021-03-15T00:00:00\", \"2021-03-16T00:00:00\", \"2021-03-17T00:00:00\", \"2021-03-18T00:00:00\", \"2021-03-19T00:00:00\", \"2021-03-22T00:00:00\", \"2021-03-23T00:00:00\", \"2021-03-24T00:00:00\", \"2021-03-25T00:00:00\", \"2021-03-26T00:00:00\", \"2021-03-29T00:00:00\", \"2021-03-30T00:00:00\", \"2021-03-31T00:00:00\", \"2021-04-01T00:00:00\", \"2021-04-05T00:00:00\", \"2021-04-06T00:00:00\", \"2021-04-07T00:00:00\", \"2021-04-08T00:00:00\", \"2021-04-09T00:00:00\", \"2021-04-12T00:00:00\", \"2021-04-13T00:00:00\", \"2021-04-14T00:00:00\", \"2021-04-15T00:00:00\", \"2021-04-16T00:00:00\", \"2021-04-19T00:00:00\", \"2021-04-20T00:00:00\", \"2021-04-21T00:00:00\", \"2021-04-22T00:00:00\", \"2021-04-23T00:00:00\", \"2021-04-26T00:00:00\", \"2021-04-27T00:00:00\", \"2021-04-28T00:00:00\", \"2021-04-29T00:00:00\", \"2021-04-30T00:00:00\", \"2021-05-03T00:00:00\", \"2021-05-04T00:00:00\", \"2021-05-05T00:00:00\", \"2021-05-06T00:00:00\", \"2021-05-07T00:00:00\", \"2021-05-10T00:00:00\", \"2021-05-11T00:00:00\", \"2021-05-12T00:00:00\", \"2021-05-13T00:00:00\"], \"xaxis\": \"x3\", \"y\": [null, null, null, null, -3.4551209103874605, 42.56502160720263, 61.281735170386156, 60.37502824547974, 57.21501756859824, 54.82568839829796, 54.72279430812211, 55.268159015879235, 55.997246578788015, 55.32809628262693, 50.62146251616511, 42.796087918460586, 34.04767865245377, 26.001267386362436, 20.243388952908276, 14.60003735977309, 13.721202718017917, 14.872332968282603, 18.71193475718945, 28.69626946668122, 40.229804923622645, 51.63232843730824, 60.811551156778, 67.93162256791604, 71.32989233528397, 72.62171321120476, 72.88961576825258, 71.87843099867169, 69.58332514595129, 65.48300780403535, 60.07274217584069, 54.14009978875028, 46.294212719926556, 37.60140346951076, 26.772983631263568, 15.835135109529055, 6.218231588395145, -1.8838487401957549, -4.760283680384736, -4.467529804758419, -1.3601517653959478, 4.109832231375694, 10.329460622185614, 16.785129721201326, 23.165147099169506, 28.76188574599594, 32.69147359966766, 36.5123570653152, 39.76804506290628, 42.49396743889133, 46.275690026360294, 50.54718398297924, 55.36091855004732, 61.168792630446866, 65.61270431147553, 67.5670749489759, 67.99248594622782, 66.39422239574617, 63.24002072763332, 58.9329114126587, 54.68906247145404, 52.022177030869145, 50.20405761665258, 50.0971034637565, 50.297332858050076, 50.949401915721396, 53.332507860469626, 55.93381034172428, 59.1982699477443, 61.83955901347332, 61.93338360633533, 60.4338038760943, 55.30356793350763, 48.21886284867381, 40.62882641643773, 35.32738560649199, 34.01235998425231, 35.66285693358137, 39.801087799785364, 43.18386013148027, 46.04925868843385, 47.3473814501439, 47.28800819592513, 45.67926495592937, 42.56404166045843, 38.883741160830965, 35.13549310074056, 33.59170280965102, 33.5731378928694, 35.63820885229947, 37.78981742452825, 35.75739907489685, 32.0958400180535, 26.131381776620458, 19.47223705001454, 16.583334470019736, 13.248421566222625, 12.288413097578722, 9.983578091484532, 4.337570424076466, -0.5880858140938199, -5.384945055219434, -3.0736591128805784, 4.962386972549112, 15.656346022533084, 27.10202351939163, 34.48750560253887, 39.08689471967348, 41.539423554416054], \"yaxis\": \"y3\"}, {\"line\": {\"color\": \"black\", \"dash\": \"dot\", \"width\": 1}, \"mode\": \"lines\", \"name\": \"Zero Line\", \"type\": \"scatter\", \"x\": [\"2020-12-01T00:00:00\", \"2020-12-02T00:00:00\", \"2020-12-03T00:00:00\", \"2020-12-04T00:00:00\", \"2020-12-07T00:00:00\", \"2020-12-08T00:00:00\", \"2020-12-09T00:00:00\", \"2020-12-10T00:00:00\", \"2020-12-11T00:00:00\", \"2020-12-14T00:00:00\", \"2020-12-15T00:00:00\", \"2020-12-16T00:00:00\", \"2020-12-17T00:00:00\", \"2020-12-18T00:00:00\", \"2020-12-21T00:00:00\", \"2020-12-22T00:00:00\", \"2020-12-23T00:00:00\", \"2020-12-24T00:00:00\", \"2020-12-28T00:00:00\", \"2020-12-29T00:00:00\", \"2020-12-30T00:00:00\", \"2020-12-31T00:00:00\", \"2021-01-04T00:00:00\", \"2021-01-05T00:00:00\", \"2021-01-06T00:00:00\", \"2021-01-07T00:00:00\", \"2021-01-08T00:00:00\", \"2021-01-11T00:00:00\", \"2021-01-12T00:00:00\", \"2021-01-13T00:00:00\", \"2021-01-14T00:00:00\", \"2021-01-15T00:00:00\", \"2021-01-19T00:00:00\", \"2021-01-20T00:00:00\", \"2021-01-21T00:00:00\", \"2021-01-22T00:00:00\", \"2021-01-25T00:00:00\", \"2021-01-26T00:00:00\", \"2021-01-27T00:00:00\", \"2021-01-28T00:00:00\", \"2021-01-29T00:00:00\", \"2021-02-01T00:00:00\", \"2021-02-02T00:00:00\", \"2021-02-03T00:00:00\", \"2021-02-04T00:00:00\", \"2021-02-05T00:00:00\", \"2021-02-08T00:00:00\", \"2021-02-09T00:00:00\", \"2021-02-10T00:00:00\", \"2021-02-11T00:00:00\", \"2021-02-12T00:00:00\", \"2021-02-16T00:00:00\", \"2021-02-17T00:00:00\", \"2021-02-18T00:00:00\", \"2021-02-19T00:00:00\", \"2021-02-22T00:00:00\", \"2021-02-23T00:00:00\", \"2021-02-24T00:00:00\", \"2021-02-25T00:00:00\", \"2021-02-26T00:00:00\", \"2021-03-01T00:00:00\", \"2021-03-02T00:00:00\", \"2021-03-03T00:00:00\", \"2021-03-04T00:00:00\", \"2021-03-05T00:00:00\", \"2021-03-08T00:00:00\", \"2021-03-09T00:00:00\", \"2021-03-10T00:00:00\", \"2021-03-11T00:00:00\", \"2021-03-12T00:00:00\", \"2021-03-15T00:00:00\", \"2021-03-16T00:00:00\", \"2021-03-17T00:00:00\", \"2021-03-18T00:00:00\", \"2021-03-19T00:00:00\", \"2021-03-22T00:00:00\", \"2021-03-23T00:00:00\", \"2021-03-24T00:00:00\", \"2021-03-25T00:00:00\", \"2021-03-26T00:00:00\", \"2021-03-29T00:00:00\", \"2021-03-30T00:00:00\", \"2021-03-31T00:00:00\", \"2021-04-01T00:00:00\", \"2021-04-05T00:00:00\", \"2021-04-06T00:00:00\", \"2021-04-07T00:00:00\", \"2021-04-08T00:00:00\", \"2021-04-09T00:00:00\", \"2021-04-12T00:00:00\", \"2021-04-13T00:00:00\", \"2021-04-14T00:00:00\", \"2021-04-15T00:00:00\", \"2021-04-16T00:00:00\", \"2021-04-19T00:00:00\", \"2021-04-20T00:00:00\", \"2021-04-21T00:00:00\", \"2021-04-22T00:00:00\", \"2021-04-23T00:00:00\", \"2021-04-26T00:00:00\", \"2021-04-27T00:00:00\", \"2021-04-28T00:00:00\", \"2021-04-29T00:00:00\", \"2021-04-30T00:00:00\", \"2021-05-03T00:00:00\", \"2021-05-04T00:00:00\", \"2021-05-05T00:00:00\", \"2021-05-06T00:00:00\", \"2021-05-07T00:00:00\", \"2021-05-10T00:00:00\", \"2021-05-11T00:00:00\", \"2021-05-12T00:00:00\", \"2021-05-13T00:00:00\"], \"xaxis\": \"x3\", \"y\": [0, 0, 0, 0, 0, 0, 0, 0, 0, 0, 0, 0, 0, 0, 0, 0, 0, 0, 0, 0, 0, 0, 0, 0, 0, 0, 0, 0, 0, 0, 0, 0, 0, 0, 0, 0, 0, 0, 0, 0, 0, 0, 0, 0, 0, 0, 0, 0, 0, 0, 0, 0, 0, 0, 0, 0, 0, 0, 0, 0, 0, 0, 0, 0, 0, 0, 0, 0, 0, 0, 0, 0, 0, 0, 0, 0, 0, 0, 0, 0, 0, 0, 0, 0, 0, 0, 0, 0, 0, 0, 0, 0, 0, 0, 0, 0, 0, 0, 0, 0, 0, 0, 0, 0, 0, 0, 0, 0, 0, 0, 0, 0, 0], \"yaxis\": \"y3\"}, {\"marker\": {\"color\": [\"green\", \"green\", \"green\", \"green\", \"green\", \"green\", \"green\", \"green\", \"green\", \"green\", \"green\", \"green\", \"green\", \"green\", \"green\", \"green\", \"green\", \"green\", \"green\", \"red\", \"green\", \"green\", \"green\", \"green\", \"green\", \"green\", \"green\", \"green\", \"green\", \"green\", \"green\", \"green\", \"green\", \"green\", \"green\", \"green\", \"red\", \"red\", \"red\", \"red\", \"red\", \"red\", \"green\", \"green\", \"green\", \"green\", \"green\", \"green\", \"green\", \"green\", \"green\", \"green\", \"green\", \"green\", \"green\", \"green\", \"green\", \"green\", \"green\", \"green\", \"green\", \"green\", \"green\", \"green\", \"green\", \"green\", \"green\", \"green\", \"green\", \"green\", \"green\", \"green\", \"green\", \"green\", \"red\", \"red\", \"red\", \"red\", \"red\", \"green\", \"green\", \"green\", \"green\", \"green\", \"green\", \"green\", \"green\", \"green\", \"green\", \"green\", \"red\", \"green\", \"green\", \"green\", \"green\", \"red\", \"green\", \"red\", \"red\", \"red\", \"red\", \"green\", \"red\", \"red\", \"red\", \"green\", \"green\", \"green\", \"green\", \"green\", \"green\", \"green\", \"green\"]}, \"name\": \"Bull and Bear\", \"type\": \"bar\", \"x\": [\"2020-12-01T00:00:00\", \"2020-12-02T00:00:00\", \"2020-12-03T00:00:00\", \"2020-12-04T00:00:00\", \"2020-12-07T00:00:00\", \"2020-12-08T00:00:00\", \"2020-12-09T00:00:00\", \"2020-12-10T00:00:00\", \"2020-12-11T00:00:00\", \"2020-12-14T00:00:00\", \"2020-12-15T00:00:00\", \"2020-12-16T00:00:00\", \"2020-12-17T00:00:00\", \"2020-12-18T00:00:00\", \"2020-12-21T00:00:00\", \"2020-12-22T00:00:00\", \"2020-12-23T00:00:00\", \"2020-12-24T00:00:00\", \"2020-12-28T00:00:00\", \"2020-12-29T00:00:00\", \"2020-12-30T00:00:00\", \"2020-12-31T00:00:00\", \"2021-01-04T00:00:00\", \"2021-01-05T00:00:00\", \"2021-01-06T00:00:00\", \"2021-01-07T00:00:00\", \"2021-01-08T00:00:00\", \"2021-01-11T00:00:00\", \"2021-01-12T00:00:00\", \"2021-01-13T00:00:00\", \"2021-01-14T00:00:00\", \"2021-01-15T00:00:00\", \"2021-01-19T00:00:00\", \"2021-01-20T00:00:00\", \"2021-01-21T00:00:00\", \"2021-01-22T00:00:00\", \"2021-01-25T00:00:00\", \"2021-01-26T00:00:00\", \"2021-01-27T00:00:00\", \"2021-01-28T00:00:00\", \"2021-01-29T00:00:00\", \"2021-02-01T00:00:00\", \"2021-02-02T00:00:00\", \"2021-02-03T00:00:00\", \"2021-02-04T00:00:00\", \"2021-02-05T00:00:00\", \"2021-02-08T00:00:00\", \"2021-02-09T00:00:00\", \"2021-02-10T00:00:00\", \"2021-02-11T00:00:00\", \"2021-02-12T00:00:00\", \"2021-02-16T00:00:00\", \"2021-02-17T00:00:00\", \"2021-02-18T00:00:00\", \"2021-02-19T00:00:00\", \"2021-02-22T00:00:00\", \"2021-02-23T00:00:00\", \"2021-02-24T00:00:00\", \"2021-02-25T00:00:00\", \"2021-02-26T00:00:00\", \"2021-03-01T00:00:00\", \"2021-03-02T00:00:00\", \"2021-03-03T00:00:00\", \"2021-03-04T00:00:00\", \"2021-03-05T00:00:00\", \"2021-03-08T00:00:00\", \"2021-03-09T00:00:00\", \"2021-03-10T00:00:00\", \"2021-03-11T00:00:00\", \"2021-03-12T00:00:00\", \"2021-03-15T00:00:00\", \"2021-03-16T00:00:00\", \"2021-03-17T00:00:00\", \"2021-03-18T00:00:00\", \"2021-03-19T00:00:00\", \"2021-03-22T00:00:00\", \"2021-03-23T00:00:00\", \"2021-03-24T00:00:00\", \"2021-03-25T00:00:00\", \"2021-03-26T00:00:00\", \"2021-03-29T00:00:00\", \"2021-03-30T00:00:00\", \"2021-03-31T00:00:00\", \"2021-04-01T00:00:00\", \"2021-04-05T00:00:00\", \"2021-04-06T00:00:00\", \"2021-04-07T00:00:00\", \"2021-04-08T00:00:00\", \"2021-04-09T00:00:00\", \"2021-04-12T00:00:00\", \"2021-04-13T00:00:00\", \"2021-04-14T00:00:00\", \"2021-04-15T00:00:00\", \"2021-04-16T00:00:00\", \"2021-04-19T00:00:00\", \"2021-04-20T00:00:00\", \"2021-04-21T00:00:00\", \"2021-04-22T00:00:00\", \"2021-04-23T00:00:00\", \"2021-04-26T00:00:00\", \"2021-04-27T00:00:00\", \"2021-04-28T00:00:00\", \"2021-04-29T00:00:00\", \"2021-04-30T00:00:00\", \"2021-05-03T00:00:00\", \"2021-05-04T00:00:00\", \"2021-05-05T00:00:00\", \"2021-05-06T00:00:00\", \"2021-05-07T00:00:00\", \"2021-05-10T00:00:00\", \"2021-05-11T00:00:00\", \"2021-05-12T00:00:00\", \"2021-05-13T00:00:00\"], \"xaxis\": \"x4\", \"y\": [null, 1202311.2030029297, 1743293.3636005109, 18870187.656889185, 8028877.189637612, 5963477.500830203, 5400652.524248108, 3410833.5334841963, 2960360.4304410354, 1798485.7669554788, 3054672.568576077, 1723955.0494822008, 1303248.1287763452, 2643489.065008158, 1948906.7919936185, 224572.90435651958, 724499.8046558017, 715748.4436077432, 333139.8269935497, -104008.83809407096, 1292380.969389627, 1605965.895343892, 1446921.8900334293, 1877092.7233456946, 13630292.068815818, 11927005.292698976, 10205522.293307452, 8577040.066714449, 8649173.04264265, 6647061.455382738, 6229781.608858614, 4003736.0847378885, 3237355.9675572193, 2153626.2427983643, 1802295.5711407557, 1470928.1802712148, -1271397.4305617837, -1135853.6051648788, -4833739.454467784, -2310967.955574581, -2955339.7166267415, -1795657.1409371293, 4322417.730016932, 3256669.0808152617, 2855369.154431642, 2879484.6539524193, 4201996.095250124, 3544617.822380465, 3215074.0980347083, 2951679.211038942, 2436991.851314211, 4424280.099781256, 3765846.0765622742, 2429916.3318564626, 9130647.262421131, 13157551.708225727, 12527102.222005708, 12348673.515447889, 10183804.725480825, 4942653.953126895, 5828106.602166747, 3388760.878629379, 2558272.0887022777, 1101805.8640624522, 4747593.603823875, 4687813.059248035, 2036100.247181822, 3227624.1219354286, 2216791.0521487915, 8178833.589482337, 8058232.758184807, 4743030.749267895, 7669447.569184803, 4746368.161512251, -1695282.383919224, -1222452.9244450077, -5507390.23811679, -2907913.1781014716, -1240565.806046823, 1216745.5181079002, 1351826.4204093784, 2441259.321820514, 1312516.7209671072, 1595703.1605006212, 1689703.0521195347, 301666.33532555617, 178085.5665026665, 174231.31837793865, 245111.73651520873, 253504.87414619798, -298779.38598676276, 893321.3986560835, 749760.0338234587, 898058.432194589, 532446.4570091108, -1458359.9820276985, 114591.26419157346, -1131238.8383586945, -366900.19109180546, -194606.65046596315, -228384.0488967596, 634529.2372896672, -3211375.7909515556, -2391328.061050553, -2022428.836502223, 1291245.6206990965, 2651997.634434189, 1749303.7750012553, 3362074.4605620997, 3750303.796535632, 1718852.6981131947, 435643.0756158803, 1248733.376356347], \"yaxis\": \"y4\"}],\n",
              "                        {\"barmode\": \"stack\", \"height\": 1000, \"paper_bgcolor\": \"rgba(0, 0, 0, 0)\", \"plot_bgcolor\": \"rgba(0, 0, 0, 0)\", \"showlegend\": false, \"template\": {\"data\": {\"bar\": [{\"error_x\": {\"color\": \"#2a3f5f\"}, \"error_y\": {\"color\": \"#2a3f5f\"}, \"marker\": {\"line\": {\"color\": \"#E5ECF6\", \"width\": 0.5}}, \"type\": \"bar\"}], \"barpolar\": [{\"marker\": {\"line\": {\"color\": \"#E5ECF6\", \"width\": 0.5}}, \"type\": \"barpolar\"}], \"carpet\": [{\"aaxis\": {\"endlinecolor\": \"#2a3f5f\", \"gridcolor\": \"white\", \"linecolor\": \"white\", \"minorgridcolor\": \"white\", \"startlinecolor\": \"#2a3f5f\"}, \"baxis\": {\"endlinecolor\": \"#2a3f5f\", \"gridcolor\": \"white\", \"linecolor\": \"white\", \"minorgridcolor\": \"white\", \"startlinecolor\": \"#2a3f5f\"}, \"type\": \"carpet\"}], \"choropleth\": [{\"colorbar\": {\"outlinewidth\": 0, \"ticks\": \"\"}, \"type\": \"choropleth\"}], \"contour\": [{\"colorbar\": {\"outlinewidth\": 0, \"ticks\": \"\"}, \"colorscale\": [[0.0, \"#0d0887\"], [0.1111111111111111, \"#46039f\"], [0.2222222222222222, \"#7201a8\"], [0.3333333333333333, \"#9c179e\"], [0.4444444444444444, \"#bd3786\"], [0.5555555555555556, \"#d8576b\"], [0.6666666666666666, \"#ed7953\"], [0.7777777777777778, \"#fb9f3a\"], [0.8888888888888888, \"#fdca26\"], [1.0, \"#f0f921\"]], \"type\": \"contour\"}], \"contourcarpet\": [{\"colorbar\": {\"outlinewidth\": 0, \"ticks\": \"\"}, \"type\": \"contourcarpet\"}], \"heatmap\": [{\"colorbar\": {\"outlinewidth\": 0, \"ticks\": \"\"}, \"colorscale\": [[0.0, \"#0d0887\"], [0.1111111111111111, \"#46039f\"], [0.2222222222222222, \"#7201a8\"], [0.3333333333333333, \"#9c179e\"], [0.4444444444444444, \"#bd3786\"], [0.5555555555555556, \"#d8576b\"], [0.6666666666666666, \"#ed7953\"], [0.7777777777777778, \"#fb9f3a\"], [0.8888888888888888, \"#fdca26\"], [1.0, \"#f0f921\"]], \"type\": \"heatmap\"}], \"heatmapgl\": [{\"colorbar\": {\"outlinewidth\": 0, \"ticks\": \"\"}, \"colorscale\": [[0.0, \"#0d0887\"], [0.1111111111111111, \"#46039f\"], [0.2222222222222222, \"#7201a8\"], [0.3333333333333333, \"#9c179e\"], [0.4444444444444444, \"#bd3786\"], [0.5555555555555556, \"#d8576b\"], [0.6666666666666666, \"#ed7953\"], [0.7777777777777778, \"#fb9f3a\"], [0.8888888888888888, \"#fdca26\"], [1.0, \"#f0f921\"]], \"type\": \"heatmapgl\"}], \"histogram\": [{\"marker\": {\"colorbar\": {\"outlinewidth\": 0, \"ticks\": \"\"}}, \"type\": \"histogram\"}], \"histogram2d\": [{\"colorbar\": {\"outlinewidth\": 0, \"ticks\": \"\"}, \"colorscale\": [[0.0, \"#0d0887\"], [0.1111111111111111, \"#46039f\"], [0.2222222222222222, \"#7201a8\"], [0.3333333333333333, \"#9c179e\"], [0.4444444444444444, \"#bd3786\"], [0.5555555555555556, \"#d8576b\"], [0.6666666666666666, \"#ed7953\"], [0.7777777777777778, \"#fb9f3a\"], [0.8888888888888888, \"#fdca26\"], [1.0, \"#f0f921\"]], \"type\": \"histogram2d\"}], \"histogram2dcontour\": [{\"colorbar\": {\"outlinewidth\": 0, \"ticks\": \"\"}, \"colorscale\": [[0.0, \"#0d0887\"], [0.1111111111111111, \"#46039f\"], [0.2222222222222222, \"#7201a8\"], [0.3333333333333333, \"#9c179e\"], [0.4444444444444444, \"#bd3786\"], [0.5555555555555556, \"#d8576b\"], [0.6666666666666666, \"#ed7953\"], [0.7777777777777778, \"#fb9f3a\"], [0.8888888888888888, \"#fdca26\"], [1.0, \"#f0f921\"]], \"type\": \"histogram2dcontour\"}], \"mesh3d\": [{\"colorbar\": {\"outlinewidth\": 0, \"ticks\": \"\"}, \"type\": \"mesh3d\"}], \"parcoords\": [{\"line\": {\"colorbar\": {\"outlinewidth\": 0, \"ticks\": \"\"}}, \"type\": \"parcoords\"}], \"pie\": [{\"automargin\": true, \"type\": \"pie\"}], \"scatter\": [{\"marker\": {\"colorbar\": {\"outlinewidth\": 0, \"ticks\": \"\"}}, \"type\": \"scatter\"}], \"scatter3d\": [{\"line\": {\"colorbar\": {\"outlinewidth\": 0, \"ticks\": \"\"}}, \"marker\": {\"colorbar\": {\"outlinewidth\": 0, \"ticks\": \"\"}}, \"type\": \"scatter3d\"}], \"scattercarpet\": [{\"marker\": {\"colorbar\": {\"outlinewidth\": 0, \"ticks\": \"\"}}, \"type\": \"scattercarpet\"}], \"scattergeo\": [{\"marker\": {\"colorbar\": {\"outlinewidth\": 0, \"ticks\": \"\"}}, \"type\": \"scattergeo\"}], \"scattergl\": [{\"marker\": {\"colorbar\": {\"outlinewidth\": 0, \"ticks\": \"\"}}, \"type\": \"scattergl\"}], \"scattermapbox\": [{\"marker\": {\"colorbar\": {\"outlinewidth\": 0, \"ticks\": \"\"}}, \"type\": \"scattermapbox\"}], \"scatterpolar\": [{\"marker\": {\"colorbar\": {\"outlinewidth\": 0, \"ticks\": \"\"}}, \"type\": \"scatterpolar\"}], \"scatterpolargl\": [{\"marker\": {\"colorbar\": {\"outlinewidth\": 0, \"ticks\": \"\"}}, \"type\": \"scatterpolargl\"}], \"scatterternary\": [{\"marker\": {\"colorbar\": {\"outlinewidth\": 0, \"ticks\": \"\"}}, \"type\": \"scatterternary\"}], \"surface\": [{\"colorbar\": {\"outlinewidth\": 0, \"ticks\": \"\"}, \"colorscale\": [[0.0, \"#0d0887\"], [0.1111111111111111, \"#46039f\"], [0.2222222222222222, \"#7201a8\"], [0.3333333333333333, \"#9c179e\"], [0.4444444444444444, \"#bd3786\"], [0.5555555555555556, \"#d8576b\"], [0.6666666666666666, \"#ed7953\"], [0.7777777777777778, \"#fb9f3a\"], [0.8888888888888888, \"#fdca26\"], [1.0, \"#f0f921\"]], \"type\": \"surface\"}], \"table\": [{\"cells\": {\"fill\": {\"color\": \"#EBF0F8\"}, \"line\": {\"color\": \"white\"}}, \"header\": {\"fill\": {\"color\": \"#C8D4E3\"}, \"line\": {\"color\": \"white\"}}, \"type\": \"table\"}]}, \"layout\": {\"annotationdefaults\": {\"arrowcolor\": \"#2a3f5f\", \"arrowhead\": 0, \"arrowwidth\": 1}, \"coloraxis\": {\"colorbar\": {\"outlinewidth\": 0, \"ticks\": \"\"}}, \"colorscale\": {\"diverging\": [[0, \"#8e0152\"], [0.1, \"#c51b7d\"], [0.2, \"#de77ae\"], [0.3, \"#f1b6da\"], [0.4, \"#fde0ef\"], [0.5, \"#f7f7f7\"], [0.6, \"#e6f5d0\"], [0.7, \"#b8e186\"], [0.8, \"#7fbc41\"], [0.9, \"#4d9221\"], [1, \"#276419\"]], \"sequential\": [[0.0, \"#0d0887\"], [0.1111111111111111, \"#46039f\"], [0.2222222222222222, \"#7201a8\"], [0.3333333333333333, \"#9c179e\"], [0.4444444444444444, \"#bd3786\"], [0.5555555555555556, \"#d8576b\"], [0.6666666666666666, \"#ed7953\"], [0.7777777777777778, \"#fb9f3a\"], [0.8888888888888888, \"#fdca26\"], [1.0, \"#f0f921\"]], \"sequentialminus\": [[0.0, \"#0d0887\"], [0.1111111111111111, \"#46039f\"], [0.2222222222222222, \"#7201a8\"], [0.3333333333333333, \"#9c179e\"], [0.4444444444444444, \"#bd3786\"], [0.5555555555555556, \"#d8576b\"], [0.6666666666666666, \"#ed7953\"], [0.7777777777777778, \"#fb9f3a\"], [0.8888888888888888, \"#fdca26\"], [1.0, \"#f0f921\"]]}, \"colorway\": [\"#636efa\", \"#EF553B\", \"#00cc96\", \"#ab63fa\", \"#FFA15A\", \"#19d3f3\", \"#FF6692\", \"#B6E880\", \"#FF97FF\", \"#FECB52\"], \"font\": {\"color\": \"#2a3f5f\"}, \"geo\": {\"bgcolor\": \"white\", \"lakecolor\": \"white\", \"landcolor\": \"#E5ECF6\", \"showlakes\": true, \"showland\": true, \"subunitcolor\": \"white\"}, \"hoverlabel\": {\"align\": \"left\"}, \"hovermode\": \"closest\", \"mapbox\": {\"style\": \"light\"}, \"paper_bgcolor\": \"white\", \"plot_bgcolor\": \"#E5ECF6\", \"polar\": {\"angularaxis\": {\"gridcolor\": \"white\", \"linecolor\": \"white\", \"ticks\": \"\"}, \"bgcolor\": \"#E5ECF6\", \"radialaxis\": {\"gridcolor\": \"white\", \"linecolor\": \"white\", \"ticks\": \"\"}}, \"scene\": {\"xaxis\": {\"backgroundcolor\": \"#E5ECF6\", \"gridcolor\": \"white\", \"gridwidth\": 2, \"linecolor\": \"white\", \"showbackground\": true, \"ticks\": \"\", \"zerolinecolor\": \"white\"}, \"yaxis\": {\"backgroundcolor\": \"#E5ECF6\", \"gridcolor\": \"white\", \"gridwidth\": 2, \"linecolor\": \"white\", \"showbackground\": true, \"ticks\": \"\", \"zerolinecolor\": \"white\"}, \"zaxis\": {\"backgroundcolor\": \"#E5ECF6\", \"gridcolor\": \"white\", \"gridwidth\": 2, \"linecolor\": \"white\", \"showbackground\": true, \"ticks\": \"\", \"zerolinecolor\": \"white\"}}, \"shapedefaults\": {\"line\": {\"color\": \"#2a3f5f\"}}, \"ternary\": {\"aaxis\": {\"gridcolor\": \"white\", \"linecolor\": \"white\", \"ticks\": \"\"}, \"baxis\": {\"gridcolor\": \"white\", \"linecolor\": \"white\", \"ticks\": \"\"}, \"bgcolor\": \"#E5ECF6\", \"caxis\": {\"gridcolor\": \"white\", \"linecolor\": \"white\", \"ticks\": \"\"}}, \"title\": {\"x\": 0.05}, \"xaxis\": {\"automargin\": true, \"gridcolor\": \"white\", \"linecolor\": \"white\", \"ticks\": \"\", \"title\": {\"standoff\": 15}, \"zerolinecolor\": \"white\", \"zerolinewidth\": 2}, \"yaxis\": {\"automargin\": true, \"gridcolor\": \"white\", \"linecolor\": \"white\", \"ticks\": \"\", \"title\": {\"standoff\": 15}, \"zerolinecolor\": \"white\", \"zerolinewidth\": 2}}}, \"title\": {\"text\": \"Candlestick\"}, \"xaxis\": {\"anchor\": \"y\", \"domain\": [0.0, 1.0], \"gridcolor\": \"gray\", \"gridwidth\": 1, \"matches\": \"x4\", \"rangeslider\": {\"visible\": false}, \"showgrid\": true, \"showticklabels\": false}, \"xaxis2\": {\"anchor\": \"y2\", \"domain\": [0.0, 1.0], \"gridcolor\": \"gray\", \"gridwidth\": 1, \"matches\": \"x4\", \"showgrid\": true, \"showticklabels\": false}, \"xaxis3\": {\"anchor\": \"y3\", \"domain\": [0.0, 1.0], \"gridcolor\": \"gray\", \"gridwidth\": 1, \"matches\": \"x4\", \"showgrid\": true, \"showticklabels\": false}, \"xaxis4\": {\"anchor\": \"y4\", \"domain\": [0.0, 1.0], \"gridcolor\": \"gray\", \"gridwidth\": 1, \"showgrid\": true}, \"yaxis\": {\"anchor\": \"x\", \"domain\": [0.5423076923076924, 1.0], \"gridcolor\": \"gray\", \"gridwidth\": 1, \"showgrid\": false, \"title\": {\"text\": \"Price\"}}, \"yaxis2\": {\"anchor\": \"x2\", \"domain\": [0.3615384615384616, 0.49230769230769234], \"gridcolor\": \"gray\", \"gridwidth\": 1, \"showgrid\": false}, \"yaxis3\": {\"anchor\": \"x3\", \"domain\": [0.1807692307692308, 0.31153846153846154], \"gridcolor\": \"gray\", \"gridwidth\": 1, \"showgrid\": false}, \"yaxis4\": {\"anchor\": \"x4\", \"domain\": [0.0, 0.13076923076923078], \"gridcolor\": \"gray\", \"gridwidth\": 1, \"showgrid\": false}},\n",
              "                        {\"responsive\": true}\n",
              "                    ).then(function(){\n",
              "                            \n",
              "var gd = document.getElementById('7451f4b0-4213-46fa-9d98-d62c8b2713ef');\n",
              "var x = new MutationObserver(function (mutations, observer) {{\n",
              "        var display = window.getComputedStyle(gd).display;\n",
              "        if (!display || display === 'none') {{\n",
              "            console.log([gd, 'removed!']);\n",
              "            Plotly.purge(gd);\n",
              "            observer.disconnect();\n",
              "        }}\n",
              "}});\n",
              "\n",
              "// Listen for the removal of the full notebook cells\n",
              "var notebookContainer = gd.closest('#notebook-container');\n",
              "if (notebookContainer) {{\n",
              "    x.observe(notebookContainer, {childList: true});\n",
              "}}\n",
              "\n",
              "// Listen for the clearing of the current output cell\n",
              "var outputEl = gd.closest('.output');\n",
              "if (outputEl) {{\n",
              "    x.observe(outputEl, {childList: true});\n",
              "}}\n",
              "\n",
              "                        })\n",
              "                };\n",
              "                \n",
              "            </script>\n",
              "        </div>\n",
              "</body>\n",
              "</html>"
            ]
          },
          "metadata": {
            "tags": []
          }
        }
      ]
    },
    {
      "cell_type": "code",
      "metadata": {
        "cellView": "form",
        "id": "CBlfQeeLT5NM"
      },
      "source": [
        "#@title\n",
        "g = pdr.get_data_yahoo('HD',\"12-1-2020\")\n",
        "g['stc'] = TA.STC(df,21,30)\n",
        "g['signal'] = g.apply(lambda x: 1 if x['stc']>25 else -1 if x['stc']<75 else 0, axis = 1)\n",
        "g['S'] = (g['signal']-g['signal'].shift(1))\n",
        "# df['stc'].plot(figsize = (20,10))\n",
        "# fig.add_trace(go.Scatter(x=dfs.index, y=dfs['stc'] ,fill='tozeroy'), row=2, col=1)"
      ],
      "execution_count": 250,
      "outputs": []
    },
    {
      "cell_type": "code",
      "metadata": {
        "cellView": "form",
        "id": "aqlYvj_NBlAH"
      },
      "source": [
        "#@title\n",
        "x = []\n",
        "y = []\n",
        "p = []\n",
        "for a in range(20,30,2):\n",
        "  for t in range(50,60,2):\n",
        "    g = pdr.get_data_yahoo('jpm',\"1-1-2015\")\n",
        "    g['stc'] = TA.STC(g,a,b)\n",
        "    g['signal'] = g.apply(lambda x: 1 if x['stc']>25 else -1 if x['stc']<75 else 0, axis = 1)\n",
        "    g['S'] = (g['signal']-g['signal'].shift(1))\n",
        "    initial_capital = 100000\n",
        "    initial = 0\n",
        "    buy = 0\n",
        "    b = 0\n",
        "    \n",
        "    \n",
        "\n",
        "    r = []\n",
        "    for i in range(len(g)):\n",
        "      if g['S'][i] == 2:\n",
        "        buy_unit = initial_capital//g['Close'][i]\n",
        "        buy += buy_unit\n",
        "        initial = initial_capital - (buy_unit * g['Close'][i])\n",
        "        initial_capital -= initial\n",
        "        b += g['Close'][i]\n",
        "        d = (g.index[i])\n",
        "        # print(f\"Stock was bought on {g.index[i]} at {g['Close'][i]}. Unit in stock {buy}. Remaining amount {initial}\") \n",
        "      elif (g['S'][i] == -2) and (buy >0):\n",
        "        sell = buy * g['Close'][i] \n",
        "        buy = 0\n",
        "        net = initial + (sell* g['Close'][i])\n",
        "        # print(f\"Stock was sold on {g.index[i]} at {g['Close'][i]}. Return {np.round(g['Close'][i]/b,3)}\")#. Time {g.index[i] - d}\")\n",
        "        r.append(g['Close'][i]/b)\n",
        "        b= 0\n",
        "        d= 0\n",
        "    x.append(a)\n",
        "    y.append(b)\n",
        "    p.append((np.prod(r)-1)*100)\n",
        "    print(f\"The overall return is {(np.prod(r)-1)*100}% with final value {((np.prod(r))*initial_capital)-initial_capital}----> with parameter {a} {t}\")"
      ],
      "execution_count": null,
      "outputs": []
    },
    {
      "cell_type": "code",
      "metadata": {
        "id": "hj7jBJtZtqd_"
      },
      "source": [
        "df = pdr.get_data_yahoo(\"mcd\", \"1-1-2020\")\n",
        "fib = TA.PIVOT_FIB(df)"
      ],
      "execution_count": 263,
      "outputs": []
    },
    {
      "cell_type": "code",
      "metadata": {
        "id": "I4QhcI644PD6",
        "outputId": "b5da78b7-0371-4bec-f057-a3e133fc537c",
        "colab": {
          "base_uri": "https://localhost:8080/"
        }
      },
      "source": [
        "[fib.groupby('pivot').resample('W', how = 'sum')]"
      ],
      "execution_count": 265,
      "outputs": [
        {
          "output_type": "execute_result",
          "data": {
            "text/plain": [
              "[<pandas.core.resample.DatetimeIndexResamplerGroupby object at 0x7f2a4369bfd0>]"
            ]
          },
          "metadata": {
            "tags": []
          },
          "execution_count": 265
        }
      ]
    },
    {
      "cell_type": "code",
      "metadata": {
        "id": "FuxHOaft4Oju",
        "outputId": "022ad5e1-7043-4913-eeaf-71c41ff73d9e",
        "colab": {
          "base_uri": "https://localhost:8080/",
          "height": 450
        }
      },
      "source": [
        "fib"
      ],
      "execution_count": 262,
      "outputs": [
        {
          "output_type": "execute_result",
          "data": {
            "text/html": [
              "<div>\n",
              "<style scoped>\n",
              "    .dataframe tbody tr th:only-of-type {\n",
              "        vertical-align: middle;\n",
              "    }\n",
              "\n",
              "    .dataframe tbody tr th {\n",
              "        vertical-align: top;\n",
              "    }\n",
              "\n",
              "    .dataframe thead th {\n",
              "        text-align: right;\n",
              "    }\n",
              "</style>\n",
              "<table border=\"1\" class=\"dataframe\">\n",
              "  <thead>\n",
              "    <tr style=\"text-align: right;\">\n",
              "      <th></th>\n",
              "      <th>pivot</th>\n",
              "      <th>s1</th>\n",
              "      <th>s2</th>\n",
              "      <th>s3</th>\n",
              "      <th>s4</th>\n",
              "      <th>r1</th>\n",
              "      <th>r2</th>\n",
              "      <th>r3</th>\n",
              "      <th>r4</th>\n",
              "    </tr>\n",
              "    <tr>\n",
              "      <th>Date</th>\n",
              "      <th></th>\n",
              "      <th></th>\n",
              "      <th></th>\n",
              "      <th></th>\n",
              "      <th></th>\n",
              "      <th></th>\n",
              "      <th></th>\n",
              "      <th></th>\n",
              "      <th></th>\n",
              "    </tr>\n",
              "  </thead>\n",
              "  <tbody>\n",
              "    <tr>\n",
              "      <th>2020-01-02</th>\n",
              "      <td>NaN</td>\n",
              "      <td>NaN</td>\n",
              "      <td>NaN</td>\n",
              "      <td>NaN</td>\n",
              "      <td>NaN</td>\n",
              "      <td>NaN</td>\n",
              "      <td>NaN</td>\n",
              "      <td>NaN</td>\n",
              "      <td>NaN</td>\n",
              "    </tr>\n",
              "    <tr>\n",
              "      <th>2020-01-03</th>\n",
              "      <td>199.799998</td>\n",
              "      <td>198.657816</td>\n",
              "      <td>197.952175</td>\n",
              "      <td>196.809992</td>\n",
              "      <td>195.667810</td>\n",
              "      <td>200.942180</td>\n",
              "      <td>201.647821</td>\n",
              "      <td>202.790003</td>\n",
              "      <td>203.932186</td>\n",
              "    </tr>\n",
              "    <tr>\n",
              "      <th>2020-01-06</th>\n",
              "      <td>199.826670</td>\n",
              "      <td>199.177271</td>\n",
              "      <td>198.776072</td>\n",
              "      <td>198.126673</td>\n",
              "      <td>197.477275</td>\n",
              "      <td>200.476069</td>\n",
              "      <td>200.877268</td>\n",
              "      <td>201.526667</td>\n",
              "      <td>202.176066</td>\n",
              "    </tr>\n",
              "    <tr>\n",
              "      <th>2020-01-07</th>\n",
              "      <td>201.483337</td>\n",
              "      <td>200.176898</td>\n",
              "      <td>199.369779</td>\n",
              "      <td>198.063339</td>\n",
              "      <td>196.756900</td>\n",
              "      <td>202.789777</td>\n",
              "      <td>203.596896</td>\n",
              "      <td>204.903336</td>\n",
              "      <td>206.209775</td>\n",
              "    </tr>\n",
              "    <tr>\n",
              "      <th>2020-01-08</th>\n",
              "      <td>201.939997</td>\n",
              "      <td>201.111058</td>\n",
              "      <td>200.598938</td>\n",
              "      <td>199.769999</td>\n",
              "      <td>198.941060</td>\n",
              "      <td>202.768937</td>\n",
              "      <td>203.281056</td>\n",
              "      <td>204.109996</td>\n",
              "      <td>204.938935</td>\n",
              "    </tr>\n",
              "    <tr>\n",
              "      <th>...</th>\n",
              "      <td>...</td>\n",
              "      <td>...</td>\n",
              "      <td>...</td>\n",
              "      <td>...</td>\n",
              "      <td>...</td>\n",
              "      <td>...</td>\n",
              "      <td>...</td>\n",
              "      <td>...</td>\n",
              "      <td>...</td>\n",
              "    </tr>\n",
              "    <tr>\n",
              "      <th>2021-05-07</th>\n",
              "      <td>234.559998</td>\n",
              "      <td>233.612639</td>\n",
              "      <td>233.027360</td>\n",
              "      <td>232.080002</td>\n",
              "      <td>231.132643</td>\n",
              "      <td>235.507356</td>\n",
              "      <td>236.092635</td>\n",
              "      <td>237.039993</td>\n",
              "      <td>237.987352</td>\n",
              "    </tr>\n",
              "    <tr>\n",
              "      <th>2021-05-10</th>\n",
              "      <td>234.850001</td>\n",
              "      <td>234.189143</td>\n",
              "      <td>233.780864</td>\n",
              "      <td>233.120005</td>\n",
              "      <td>232.459147</td>\n",
              "      <td>235.510859</td>\n",
              "      <td>235.919138</td>\n",
              "      <td>236.579997</td>\n",
              "      <td>237.240855</td>\n",
              "    </tr>\n",
              "    <tr>\n",
              "      <th>2021-05-11</th>\n",
              "      <td>236.710002</td>\n",
              "      <td>235.632765</td>\n",
              "      <td>234.967247</td>\n",
              "      <td>233.890010</td>\n",
              "      <td>232.812773</td>\n",
              "      <td>237.787239</td>\n",
              "      <td>238.452757</td>\n",
              "      <td>239.529994</td>\n",
              "      <td>240.607231</td>\n",
              "    </tr>\n",
              "    <tr>\n",
              "      <th>2021-05-12</th>\n",
              "      <td>234.620000</td>\n",
              "      <td>232.480798</td>\n",
              "      <td>231.159196</td>\n",
              "      <td>229.019994</td>\n",
              "      <td>226.880792</td>\n",
              "      <td>236.759203</td>\n",
              "      <td>238.080804</td>\n",
              "      <td>240.220006</td>\n",
              "      <td>242.359209</td>\n",
              "    </tr>\n",
              "    <tr>\n",
              "      <th>2021-05-13</th>\n",
              "      <td>229.693339</td>\n",
              "      <td>227.401339</td>\n",
              "      <td>225.985339</td>\n",
              "      <td>223.693339</td>\n",
              "      <td>221.401339</td>\n",
              "      <td>231.985339</td>\n",
              "      <td>233.401339</td>\n",
              "      <td>235.693339</td>\n",
              "      <td>237.985339</td>\n",
              "    </tr>\n",
              "  </tbody>\n",
              "</table>\n",
              "<p>344 rows × 9 columns</p>\n",
              "</div>"
            ],
            "text/plain": [
              "                 pivot          s1  ...          r3          r4\n",
              "Date                                ...                        \n",
              "2020-01-02         NaN         NaN  ...         NaN         NaN\n",
              "2020-01-03  199.799998  198.657816  ...  202.790003  203.932186\n",
              "2020-01-06  199.826670  199.177271  ...  201.526667  202.176066\n",
              "2020-01-07  201.483337  200.176898  ...  204.903336  206.209775\n",
              "2020-01-08  201.939997  201.111058  ...  204.109996  204.938935\n",
              "...                ...         ...  ...         ...         ...\n",
              "2021-05-07  234.559998  233.612639  ...  237.039993  237.987352\n",
              "2021-05-10  234.850001  234.189143  ...  236.579997  237.240855\n",
              "2021-05-11  236.710002  235.632765  ...  239.529994  240.607231\n",
              "2021-05-12  234.620000  232.480798  ...  240.220006  242.359209\n",
              "2021-05-13  229.693339  227.401339  ...  235.693339  237.985339\n",
              "\n",
              "[344 rows x 9 columns]"
            ]
          },
          "metadata": {
            "tags": []
          },
          "execution_count": 262
        }
      ]
    },
    {
      "cell_type": "code",
      "metadata": {
        "cellView": "form",
        "id": "UH5pLQCruU8c"
      },
      "source": [
        "#@title\n",
        "df['trima'] = ta.trima(df['Close'],21)\n",
        "df['range'] = ta.atr(df.High, df.Low, df.Close, 21) * 4\n",
        "df['H'] = ta.wma((df['trima'] + df['range']),21)\n",
        "df['L'] = ta.wma((df['trima'] - df['range']),21)\n",
        "df['SD_UP'] = df['H'].rolling(20).std()\n",
        "# df['SD_DOWN'] = ((df['trima'] - df['range'])).rolling(20).std()\n",
        "df['HH'] = ta.wma((df['trima'] + df['range']),21)+(ta.atr(df.High, df.Low, df.Close,21))*1.5\n",
        "df['LL'] = ta.wma((df['trima'] - df['range']),21)-(ta.atr(df.High, df.Low, df.Close,21))*1.5"
      ],
      "execution_count": 3,
      "outputs": []
    }
  ]
}