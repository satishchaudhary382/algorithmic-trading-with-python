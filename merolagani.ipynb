{
  "nbformat": 4,
  "nbformat_minor": 0,
  "metadata": {
    "colab": {
      "name": "Welcome To Colaboratory",
      "provenance": [],
      "collapsed_sections": [],
      "include_colab_link": true
    },
    "kernelspec": {
      "display_name": "Python 3",
      "name": "python3"
    }
  },
  "cells": [
    {
      "cell_type": "markdown",
      "metadata": {
        "id": "view-in-github",
        "colab_type": "text"
      },
      "source": [
        "<a href=\"https://colab.research.google.com/github/satishchaudhary382/algorithmic-trading-with-python/blob/master/merolagani.ipynb\" target=\"_parent\"><img src=\"https://colab.research.google.com/assets/colab-badge.svg\" alt=\"Open In Colab\"/></a>"
      ]
    },
    {
      "cell_type": "code",
      "metadata": {
        "id": "yKyrWRbS-vOd"
      },
      "source": [
        "!pip install selenium\n",
        "!apt-get update \n",
        "!apt install chromium-chromedriver\n",
        "!pip install pandas_ta\n",
        "!pip install MarketProfile\n",
        "!pip install fake-useragent\n",
        "!pip install mpl_finance"
      ],
      "execution_count": null,
      "outputs": []
    },
    {
      "cell_type": "code",
      "metadata": {
        "id": "7IX_lcml-vPd"
      },
      "source": [
        "\n",
        "import time\n",
        "import datetime\n",
        "import pandas as pd\n",
        "import numpy as np \n",
        "import warnings\n",
        "warnings.filterwarnings(\"ignore\")\n",
        "from fake_useragent import UserAgent\n",
        "from selenium import webdriver\n",
        "from market_profile import MarketProfile\n",
        "import random\n",
        "import pandas_ta as ta\n",
        "useragent = UserAgent()\n",
        "import matplotlib.pyplot as plt\n",
        "import matplotlib.pyplot as plt\n",
        "from bokeh.plotting import figure, output_file, show\n",
        "import bokeh\n",
        "from sklearn.preprocessing import StandardScaler,MinMaxScaler\n",
        "\n",
        "import altair as alt\n",
        "from math import pi\n",
        "from bokeh.io import output_notebook\n",
        "from bokeh.models import Label\n",
        "from datetime import datetime as dt\n",
        "# Call once to configure Bokeh to display plots inline in the notebook.\n",
        "output_notebook()\n",
        "%matplotlib inline\n",
        "from math import pi\n",
        "from bokeh.models import Span\n",
        "from mpl_finance import candlestick_ohlc\n",
        "import matplotlib.dates as mpl_dates\n",
        "import pandas_datareader as pdr"
      ],
      "execution_count": 11,
      "outputs": []
    },
    {
      "cell_type": "code",
      "metadata": {
        "id": "1xTJtH_H_Rue"
      },
      "source": [
        "name = 'slbs'\n",
        "from bs4 import BeautifulSoup\n",
        "\n",
        "from selenium.webdriver.support.ui import WebDriverWait\n",
        "from selenium.webdriver.support import expected_conditions as EC\n",
        "from selenium.webdriver.common.by import By\n",
        "from selenium.common.exceptions import TimeoutException\n"
      ],
      "execution_count": 12,
      "outputs": []
    },
    {
      "cell_type": "code",
      "metadata": {
        "id": "gFYPIIk1m4YP"
      },
      "source": [
        "from selenium.webdriver.common.action_chains import ActionChains\n",
        "\n",
        "chrome_options = webdriver.ChromeOptions()\n",
        "chrome_options.add_argument('--headless')\n",
        "chrome_options.add_argument('--no-sandbox')\n",
        "chrome_options.add_argument('--disable-dev-shm-usage')\n",
        "chrome_options.add_argument(f\"user-agent = {useragent.random}\")\n",
        "wd = webdriver.Chrome('chromedriver',chrome_options=chrome_options)\n",
        "driver =webdriver.Chrome('chromedriver',chrome_options=chrome_options)\n",
        "\n",
        "delay = 10\n",
        "\n",
        "url = f\"https://merolagani.com/CompanyDetail.aspx?symbol={name}\"\n",
        "wait = WebDriverWait(driver, 10)\n",
        "driver.get(url)\n",
        "\n",
        "\n",
        "wait.until(EC.element_to_be_clickable((By.XPATH,\"//a[@title='Price History']\"))).click()\n",
        "\n",
        "data = []\n",
        "data1 = []\n",
        "data2 = []\n",
        "a = 1\n",
        "delay = 5\n",
        "\n",
        "l = [range(2,102), range(1,97),range(1,96)]\n",
        "# l = [range(2,102),range(2,102),range(2,102)]\n",
        "while a<=1:\n",
        "  for i in l:\n",
        "    # frame = driver.find_element_by_xpath('//*[@id=\"ctl00_ContentPlaceHolder1_CompanyDetail1_divDataPrice\"]/div[2]')\n",
        "    # driver.switch_to.frame(frame)\n",
        "    try:\n",
        "      for j in i:\n",
        "        WebDriverWait(driver, 20).until(EC.visibility_of_all_elements_located((By.ID, 'ctl00_ContentPlaceHolder1_CompanyDetail1_divDataPrice')))\n",
        "        c = len(driver.find_element_by_xpath(f'//*[@id=\"ctl00_ContentPlaceHolder1_CompanyDetail1_divDataPrice\"]/div[2]/table/tbody/tr'))\n",
        "        d = driver.find_element_by_xpath(f'//*[@id=\"ctl00_ContentPlaceHolder1_CompanyDetail1_divDataPrice\"]/div[2]/table/tbody/tr[{j}]')\n",
        "        data2.append(d.text)\n",
        "        print(c)\n",
        "    except:\n",
        "      pass\n",
        "    # print(i%10, end = \" \")\n",
        "\n",
        "  driver.find_element_by_xpath(\"(//a[@title='Next Page'])[1]\").click()\n",
        "  time.sleep(5)\n",
        "  a+=1\n"
      ],
      "execution_count": 14,
      "outputs": []
    },
    {
      "cell_type": "code",
      "metadata": {
        "id": "arw4IQqWSypT",
        "outputId": "941bbc2c-9ac6-49da-ba72-11b1c499d1e9",
        "colab": {
          "base_uri": "https://localhost:8080/"
        }
      },
      "source": [
        "data2"
      ],
      "execution_count": 16,
      "outputs": [
        {
          "output_type": "execute_result",
          "data": {
            "text/plain": [
              "[]"
            ]
          },
          "metadata": {
            "tags": []
          },
          "execution_count": 16
        }
      ]
    },
    {
      "cell_type": "code",
      "metadata": {
        "id": "pnHYDJz_Zphq"
      },
      "source": [
        "Date = [value.split(\" \")[1] for value in data2]\n",
        "Close = [value.split(\" \")[2] for value in data2]\n",
        "High = [value.split(\" \")[4] for value in data2]\n",
        "Low = [value.split(\" \")[5] for value in data2]\n",
        "Open = [value.split(\" \")[6] for value in data2]\n",
        "Qty = [value.split(\" \")[7] for value in data2]\n",
        "Volume = [Qty[i].replace(',', '') for i in range(len(Qty))]\n",
        "\n"
      ],
      "execution_count": 116,
      "outputs": []
    },
    {
      "cell_type": "code",
      "metadata": {
        "id": "eG7DX9Y1nl55"
      },
      "source": [
        "df = pd.DataFrame({\"Date\":Date,\n",
        "              \"Close\":Close,\n",
        "              \"High\":High,\n",
        "              \"Low\":Low,\n",
        "              \"Open\":Open,\n",
        "              \"Volume\":Volume})"
      ],
      "execution_count": 143,
      "outputs": []
    },
    {
      "cell_type": "code",
      "metadata": {
        "id": "TxCgb2YdPxaW",
        "outputId": "79f2f950-b8ff-42a8-a1b4-2effa24cc2d1",
        "colab": {
          "base_uri": "https://localhost:8080/",
          "height": 204
        }
      },
      "source": [
        "df.tail()"
      ],
      "execution_count": 144,
      "outputs": [
        {
          "output_type": "execute_result",
          "data": {
            "text/html": [
              "<div>\n",
              "<style scoped>\n",
              "    .dataframe tbody tr th:only-of-type {\n",
              "        vertical-align: middle;\n",
              "    }\n",
              "\n",
              "    .dataframe tbody tr th {\n",
              "        vertical-align: top;\n",
              "    }\n",
              "\n",
              "    .dataframe thead th {\n",
              "        text-align: right;\n",
              "    }\n",
              "</style>\n",
              "<table border=\"1\" class=\"dataframe\">\n",
              "  <thead>\n",
              "    <tr style=\"text-align: right;\">\n",
              "      <th></th>\n",
              "      <th>Date</th>\n",
              "      <th>Close</th>\n",
              "      <th>High</th>\n",
              "      <th>Low</th>\n",
              "      <th>Open</th>\n",
              "      <th>Volume</th>\n",
              "    </tr>\n",
              "  </thead>\n",
              "  <tbody>\n",
              "    <tr>\n",
              "      <th>774</th>\n",
              "      <td>2019/11/21</td>\n",
              "      <td>131.00</td>\n",
              "      <td>131.00</td>\n",
              "      <td>130.00</td>\n",
              "      <td>131.00</td>\n",
              "      <td>8206</td>\n",
              "    </tr>\n",
              "    <tr>\n",
              "      <th>775</th>\n",
              "      <td>2019/11/20</td>\n",
              "      <td>130.00</td>\n",
              "      <td>135.00</td>\n",
              "      <td>130.00</td>\n",
              "      <td>132.00</td>\n",
              "      <td>6567</td>\n",
              "    </tr>\n",
              "    <tr>\n",
              "      <th>776</th>\n",
              "      <td>2019/11/19</td>\n",
              "      <td>131.00</td>\n",
              "      <td>132.00</td>\n",
              "      <td>130.00</td>\n",
              "      <td>130.00</td>\n",
              "      <td>3949</td>\n",
              "    </tr>\n",
              "    <tr>\n",
              "      <th>777</th>\n",
              "      <td>2019/11/18</td>\n",
              "      <td>130.00</td>\n",
              "      <td>131.00</td>\n",
              "      <td>130.00</td>\n",
              "      <td>130.00</td>\n",
              "      <td>9439</td>\n",
              "    </tr>\n",
              "    <tr>\n",
              "      <th>778</th>\n",
              "      <td>2019/11/17</td>\n",
              "      <td>131.00</td>\n",
              "      <td>132.00</td>\n",
              "      <td>130.00</td>\n",
              "      <td>131.00</td>\n",
              "      <td>5735</td>\n",
              "    </tr>\n",
              "  </tbody>\n",
              "</table>\n",
              "</div>"
            ],
            "text/plain": [
              "           Date   Close    High     Low    Open Volume\n",
              "774  2019/11/21  131.00  131.00  130.00  131.00   8206\n",
              "775  2019/11/20  130.00  135.00  130.00  132.00   6567\n",
              "776  2019/11/19  131.00  132.00  130.00  130.00   3949\n",
              "777  2019/11/18  130.00  131.00  130.00  130.00   9439\n",
              "778  2019/11/17  131.00  132.00  130.00  131.00   5735"
            ]
          },
          "metadata": {
            "tags": []
          },
          "execution_count": 144
        }
      ]
    },
    {
      "cell_type": "code",
      "metadata": {
        "id": "x7QFHJe7QHTQ"
      },
      "source": [
        "df = df.sort_index(ascending=False)\n",
        "df.to_csv(\"hidcl1.csv\", index = False)"
      ],
      "execution_count": 145,
      "outputs": []
    },
    {
      "cell_type": "code",
      "metadata": {
        "id": "rNefFgxp51s1"
      },
      "source": [
        "# raw = pd.DataFrame(final_df)\n",
        "df['Date'] = df['Date'].apply(pd.to_datetime, errors = 'coerce')\n",
        "df['Open'] = df['Open'].apply(pd.to_numeric, errors = 'coerce')\n",
        "df['High'] = df['High'].apply(pd.to_numeric, errors = 'coerce')\n",
        "df['Low'] = df['Low'].apply(pd.to_numeric, errors = 'coerce')\n",
        "df['Close'] = df['Close'].apply(pd.to_numeric, errors = 'coerce')\n",
        "df['Volume'] = df['Volume'].apply(pd.to_numeric, errors = 'coerce')\n",
        "\n",
        "# data = df.sort_values(by = \"Date\", ascending = True, inplace = True)"
      ],
      "execution_count": 122,
      "outputs": []
    },
    {
      "cell_type": "code",
      "metadata": {
        "id": "RssLt80Q63VK"
      },
      "source": [
        "df.sort_values(by = \"Date\", ascending = True, inplace = True)"
      ],
      "execution_count": 123,
      "outputs": []
    },
    {
      "cell_type": "code",
      "metadata": {
        "id": "bvrSaxHL7qqH"
      },
      "source": [
        "df.dropna(inplace = True)"
      ],
      "execution_count": 124,
      "outputs": []
    },
    {
      "cell_type": "code",
      "metadata": {
        "id": "G6u8vfyS7_s2"
      },
      "source": [
        "df.reset_index(inplace = True)"
      ],
      "execution_count": 125,
      "outputs": []
    },
    {
      "cell_type": "code",
      "metadata": {
        "id": "zblntJuw8HVN"
      },
      "source": [
        "final_df = df[['Date','Open','High','Low','Close','Volume']]"
      ],
      "execution_count": 126,
      "outputs": []
    },
    {
      "cell_type": "code",
      "metadata": {
        "id": "AQiKGh9kCOBb"
      },
      "source": [
        "final_df.to_csv(\"hidcl1.csv\", index = False)"
      ],
      "execution_count": 127,
      "outputs": []
    },
    {
      "cell_type": "code",
      "metadata": {
        "colab": {
          "base_uri": "https://localhost:8080/",
          "height": 282
        },
        "id": "sIfE_OT88jFE",
        "outputId": "19d49837-b3ac-424d-b31d-8ffaf5f73fec"
      },
      "source": [
        "final_df.set_index(\"Date\", inplace = True)"
      ],
      "execution_count": 101,
      "outputs": [
        {
          "output_type": "error",
          "ename": "KeyError",
          "evalue": "ignored",
          "traceback": [
            "\u001b[0;31m---------------------------------------------------------------------------\u001b[0m",
            "\u001b[0;31mKeyError\u001b[0m                                  Traceback (most recent call last)",
            "\u001b[0;32m<ipython-input-101-a6646dc52591>\u001b[0m in \u001b[0;36m<module>\u001b[0;34m()\u001b[0m\n\u001b[0;32m----> 1\u001b[0;31m \u001b[0mfinal_df\u001b[0m\u001b[0;34m.\u001b[0m\u001b[0mset_index\u001b[0m\u001b[0;34m(\u001b[0m\u001b[0;34m\"Date\"\u001b[0m\u001b[0;34m,\u001b[0m \u001b[0minplace\u001b[0m \u001b[0;34m=\u001b[0m \u001b[0;32mTrue\u001b[0m\u001b[0;34m)\u001b[0m\u001b[0;34m\u001b[0m\u001b[0;34m\u001b[0m\u001b[0m\n\u001b[0m",
            "\u001b[0;32m/usr/local/lib/python3.7/dist-packages/pandas/core/frame.py\u001b[0m in \u001b[0;36mset_index\u001b[0;34m(self, keys, drop, append, inplace, verify_integrity)\u001b[0m\n\u001b[1;32m   4553\u001b[0m \u001b[0;34m\u001b[0m\u001b[0m\n\u001b[1;32m   4554\u001b[0m         \u001b[0;32mif\u001b[0m \u001b[0mmissing\u001b[0m\u001b[0;34m:\u001b[0m\u001b[0;34m\u001b[0m\u001b[0;34m\u001b[0m\u001b[0m\n\u001b[0;32m-> 4555\u001b[0;31m             \u001b[0;32mraise\u001b[0m \u001b[0mKeyError\u001b[0m\u001b[0;34m(\u001b[0m\u001b[0;34mf\"None of {missing} are in the columns\"\u001b[0m\u001b[0;34m)\u001b[0m\u001b[0;34m\u001b[0m\u001b[0;34m\u001b[0m\u001b[0m\n\u001b[0m\u001b[1;32m   4556\u001b[0m \u001b[0;34m\u001b[0m\u001b[0m\n\u001b[1;32m   4557\u001b[0m         \u001b[0;32mif\u001b[0m \u001b[0minplace\u001b[0m\u001b[0;34m:\u001b[0m\u001b[0;34m\u001b[0m\u001b[0;34m\u001b[0m\u001b[0m\n",
            "\u001b[0;31mKeyError\u001b[0m: \"None of ['Date'] are in the columns\""
          ]
        }
      ]
    },
    {
      "cell_type": "code",
      "metadata": {
        "colab": {
          "base_uri": "https://localhost:8080/",
          "height": 588
        },
        "id": "2DCz0aZF8MNG",
        "outputId": "9cc7ab9a-3dc2-4fa5-809a-fdc8aedcc8d1"
      },
      "source": [
        "final_df['Close'].plot(figsize = (20,10))"
      ],
      "execution_count": 90,
      "outputs": [
        {
          "output_type": "execute_result",
          "data": {
            "text/plain": [
              "<matplotlib.axes._subplots.AxesSubplot at 0x7fe63a293710>"
            ]
          },
          "metadata": {
            "tags": []
          },
          "execution_count": 90
        },
        {
          "output_type": "display_data",
          "data": {
            "image/png": "[encoded data removed]",
            "text/plain": [
              "<Figure size 1440x720 with 1 Axes>"
            ]
          },
          "metadata": {
            "tags": [],
            "needs_background": "light"
          }
        }
      ]
    },
    {
      "cell_type": "code",
      "metadata": {
        "id": "JuptSGHB8ak5"
      },
      "source": [
        "final_df.to_csv(\"umhl.csv\", index = False)"
      ],
      "execution_count": 92,
      "outputs": []
    },
    {
      "cell_type": "code",
      "metadata": {
        "id": "csmSkst4B2zT"
      },
      "source": [
        ""
      ],
      "execution_count": null,
      "outputs": []
    }
  ]
}